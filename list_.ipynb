{
  "nbformat": 4,
  "nbformat_minor": 0,
  "metadata": {
    "colab": {
      "provenance": []
    },
    "kernelspec": {
      "name": "python3",
      "display_name": "Python 3"
    },
    "language_info": {
      "name": "python"
    }
  },
  "cells": [
    {
      "cell_type": "code",
      "execution_count": null,
      "metadata": {
        "colab": {
          "base_uri": "https://localhost:8080/",
          "height": 37
        },
        "id": "-AkUDm-OnwW3",
        "outputId": "028ec7c8-f24e-4f58-b3a1-c4819caebf6c"
      },
      "outputs": [
        {
          "output_type": "execute_result",
          "data": {
            "text/plain": [
              "'hello'"
            ],
            "application/vnd.google.colaboratory.intrinsic+json": {
              "type": "string"
            }
          },
          "metadata": {},
          "execution_count": 3
        }
      ],
      "source": [
        "s={1:'hello','name':'anu'}\n",
        "s[1]"
      ]
    },
    {
      "cell_type": "code",
      "source": [
        "s[1]='hai'"
      ],
      "metadata": {
        "id": "njedGc6NpvSr"
      },
      "execution_count": null,
      "outputs": []
    },
    {
      "cell_type": "code",
      "source": [
        "s={1:'hello','name':'anu'}\n",
        "s[1]='hai'\n"
      ],
      "metadata": {
        "id": "ey5IPGQYqGPe"
      },
      "execution_count": null,
      "outputs": []
    },
    {
      "cell_type": "code",
      "source": [
        "print(s)"
      ],
      "metadata": {
        "colab": {
          "base_uri": "https://localhost:8080/"
        },
        "id": "SxR7KEC4qda3",
        "outputId": "f225ef6e-87c6-4ef4-a534-c8d066a214fa"
      },
      "execution_count": null,
      "outputs": [
        {
          "output_type": "stream",
          "name": "stdout",
          "text": [
            "{1: 'hai', 'name': 'anu'}\n"
          ]
        }
      ]
    },
    {
      "cell_type": "code",
      "source": [
        "s['name']='raju'\n",
        "print(s)"
      ],
      "metadata": {
        "colab": {
          "base_uri": "https://localhost:8080/"
        },
        "id": "Noka-MMnqryO",
        "outputId": "5b00e907-91d7-43d6-dcdb-e1d8b6e78a42"
      },
      "execution_count": null,
      "outputs": [
        {
          "output_type": "stream",
          "name": "stdout",
          "text": [
            "{1: 'hai', 'name': 'raju'}\n"
          ]
        }
      ]
    },
    {
      "cell_type": "code",
      "source": [
        "t=(1,2,3,4,'world')\n",
        "t1=(5,6,7,8,'hai')\n",
        "t2=t+t1\n",
        "print(t2)"
      ],
      "metadata": {
        "colab": {
          "base_uri": "https://localhost:8080/"
        },
        "id": "X4d7wv7JreqD",
        "outputId": "49128c9c-fdae-457e-de6a-f9fbb72c2837"
      },
      "execution_count": null,
      "outputs": [
        {
          "output_type": "stream",
          "name": "stdout",
          "text": [
            "(1, 2, 3, 4, 'world', 5, 6, 7, 8, 'hai')\n"
          ]
        }
      ]
    },
    {
      "cell_type": "code",
      "source": [
        "b='beatiful'\n",
        "len(b)"
      ],
      "metadata": {
        "colab": {
          "base_uri": "https://localhost:8080/"
        },
        "id": "2Y8AbD_Br8FS",
        "outputId": "9e82e20e-821b-49d1-9307-e07e2ed714a4"
      },
      "execution_count": null,
      "outputs": [
        {
          "output_type": "execute_result",
          "data": {
            "text/plain": [
              "8"
            ]
          },
          "metadata": {},
          "execution_count": 13
        }
      ]
    },
    {
      "cell_type": "code",
      "source": [
        "b.capitalize"
      ],
      "metadata": {
        "colab": {
          "base_uri": "https://localhost:8080/"
        },
        "id": "C1OYPH-3sf5i",
        "outputId": "77a7b23a-7d5d-400a-cffa-c68c1c5d5e41"
      },
      "execution_count": null,
      "outputs": [
        {
          "output_type": "execute_result",
          "data": {
            "text/plain": [
              "<function str.capitalize()>"
            ]
          },
          "metadata": {},
          "execution_count": 14
        }
      ]
    },
    {
      "cell_type": "code",
      "source": [
        "capitalize.(b)"
      ],
      "metadata": {
        "colab": {
          "base_uri": "https://localhost:8080/",
          "height": 130
        },
        "id": "3n9CzhaCss4P",
        "outputId": "f02621fd-dd9b-40f3-951d-0d668c08911d"
      },
      "execution_count": null,
      "outputs": [
        {
          "output_type": "error",
          "ename": "SyntaxError",
          "evalue": "ignored",
          "traceback": [
            "\u001b[0;36m  File \u001b[0;32m\"<ipython-input-16-a873fc7291b8>\"\u001b[0;36m, line \u001b[0;32m1\u001b[0m\n\u001b[0;31m    capitalize.(b)\u001b[0m\n\u001b[0m               ^\u001b[0m\n\u001b[0;31mSyntaxError\u001b[0m\u001b[0;31m:\u001b[0m invalid syntax\n"
          ]
        }
      ]
    },
    {
      "cell_type": "code",
      "source": [
        "l1='wonderful'\n",
        "l1.isupper"
      ],
      "metadata": {
        "colab": {
          "base_uri": "https://localhost:8080/"
        },
        "id": "jBgLBGPBs9IY",
        "outputId": "d2e80a85-6bd2-4733-e3c3-6d6eebfa36bd"
      },
      "execution_count": null,
      "outputs": [
        {
          "output_type": "execute_result",
          "data": {
            "text/plain": [
              "<function str.isupper()>"
            ]
          },
          "metadata": {},
          "execution_count": 18
        }
      ]
    },
    {
      "cell_type": "code",
      "source": [
        "a='spectacle'\n",
        "a.upper\n",
        "print(a)\n",
        "\n"
      ],
      "metadata": {
        "colab": {
          "base_uri": "https://localhost:8080/"
        },
        "id": "xc4B-RDitO8s",
        "outputId": "201716a1-7988-4c59-cd36-2e4e85748aee"
      },
      "execution_count": null,
      "outputs": [
        {
          "output_type": "stream",
          "name": "stdout",
          "text": [
            "spectacle\n"
          ]
        }
      ]
    },
    {
      "cell_type": "code",
      "source": [
        "a.title\n",
        "print(a)"
      ],
      "metadata": {
        "colab": {
          "base_uri": "https://localhost:8080/"
        },
        "id": "D588ZnJNt2J8",
        "outputId": "c54b0f13-a381-41cf-895e-d73d78d9983a"
      },
      "execution_count": null,
      "outputs": [
        {
          "output_type": "stream",
          "name": "stdout",
          "text": [
            "spectacle\n"
          ]
        }
      ]
    },
    {
      "cell_type": "code",
      "source": [
        "a.istitle"
      ],
      "metadata": {
        "colab": {
          "base_uri": "https://localhost:8080/"
        },
        "id": "UE89PQENuDcT",
        "outputId": "e3ae332b-2dc7-4fc0-eae6-21809dc7be42"
      },
      "execution_count": null,
      "outputs": [
        {
          "output_type": "execute_result",
          "data": {
            "text/plain": [
              "<function str.istitle()>"
            ]
          },
          "metadata": {},
          "execution_count": 22
        }
      ]
    },
    {
      "cell_type": "code",
      "source": [],
      "metadata": {
        "id": "SA8nYUuYuTvT"
      },
      "execution_count": null,
      "outputs": []
    }
  ]
}