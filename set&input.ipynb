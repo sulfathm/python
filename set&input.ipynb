{
  "nbformat": 4,
  "nbformat_minor": 0,
  "metadata": {
    "colab": {
      "provenance": [],
      "collapsed_sections": []
    },
    "kernelspec": {
      "name": "python3",
      "display_name": "Python 3"
    },
    "language_info": {
      "name": "python"
    }
  },
  "cells": [
    {
      "cell_type": "code",
      "execution_count": null,
      "metadata": {
        "colab": {
          "base_uri": "https://localhost:8080/"
        },
        "id": "0bs-Najw0A-B",
        "outputId": "1f469f38-aa19-4ea4-a910-b3ea946b3f81"
      },
      "outputs": [
        {
          "output_type": "stream",
          "name": "stdout",
          "text": [
            "[1, 2, 'world', 2.2, 2]\n"
          ]
        }
      ],
      "source": [
        "s=[1,2,'world',2.2,2]\n",
        "type(s)\n",
        "print(s)"
      ]
    },
    {
      "cell_type": "code",
      "source": [
        "a=tuple(s)\n",
        "print(a)"
      ],
      "metadata": {
        "colab": {
          "base_uri": "https://localhost:8080/"
        },
        "id": "As6mTbUF1bLB",
        "outputId": "bd78acee-e51f-4147-eb96-a32e4a9929e1"
      },
      "execution_count": null,
      "outputs": [
        {
          "output_type": "stream",
          "name": "stdout",
          "text": [
            "(1, 2, 'world', 2.2)\n"
          ]
        }
      ]
    },
    {
      "cell_type": "code",
      "source": [
        "d=set([1,4,2,'hello','hello',2,3,4,5])\n",
        "type(d)\n",
        "d"
      ],
      "metadata": {
        "colab": {
          "base_uri": "https://localhost:8080/"
        },
        "id": "E8m-YDbZ1keb",
        "outputId": "439afddd-0b3d-43b3-c100-26a386f78c1b"
      },
      "execution_count": null,
      "outputs": [
        {
          "output_type": "execute_result",
          "data": {
            "text/plain": [
              "{1, 2, 3, 4, 5, 'hello'}"
            ]
          },
          "metadata": {},
          "execution_count": 14
        }
      ]
    },
    {
      "cell_type": "code",
      "source": [
        "b=d[4]\n",
        "print(b)\n"
      ],
      "metadata": {
        "colab": {
          "base_uri": "https://localhost:8080/",
          "height": 181
        },
        "id": "LTLgkYWr2q48",
        "outputId": "431dcabd-239c-4f31-9ed0-c153437a00a0"
      },
      "execution_count": null,
      "outputs": [
        {
          "output_type": "error",
          "ename": "TypeError",
          "evalue": "ignored",
          "traceback": [
            "\u001b[0;31m---------------------------------------------------------------------------\u001b[0m",
            "\u001b[0;31mTypeError\u001b[0m                                 Traceback (most recent call last)",
            "\u001b[0;32m<ipython-input-18-7db8a8165e32>\u001b[0m in \u001b[0;36m<module>\u001b[0;34m\u001b[0m\n\u001b[0;32m----> 1\u001b[0;31m \u001b[0mb\u001b[0m\u001b[0;34m=\u001b[0m\u001b[0md\u001b[0m\u001b[0;34m[\u001b[0m\u001b[0;36m4\u001b[0m\u001b[0;34m]\u001b[0m\u001b[0;34m\u001b[0m\u001b[0;34m\u001b[0m\u001b[0m\n\u001b[0m\u001b[1;32m      2\u001b[0m \u001b[0mprint\u001b[0m\u001b[0;34m(\u001b[0m\u001b[0mb\u001b[0m\u001b[0;34m)\u001b[0m\u001b[0;34m\u001b[0m\u001b[0;34m\u001b[0m\u001b[0m\n",
            "\u001b[0;31mTypeError\u001b[0m: 'set' object is not subscriptable"
          ]
        }
      ]
    },
    {
      "cell_type": "code",
      "source": [
        "d=[1,2,3]\n",
        "e=d[2]\n",
        "print(e)"
      ],
      "metadata": {
        "colab": {
          "base_uri": "https://localhost:8080/"
        },
        "id": "P3DJa5bj4lI_",
        "outputId": "7dcdfc98-5128-4a98-f714-7e17c910169c"
      },
      "execution_count": null,
      "outputs": [
        {
          "output_type": "stream",
          "name": "stdout",
          "text": [
            "3\n"
          ]
        }
      ]
    },
    {
      "cell_type": "code",
      "source": [
        "x=set([2,4,6,8,0,1,'A','d',3,5,7,9])\n",
        "\n",
        "x"
      ],
      "metadata": {
        "colab": {
          "base_uri": "https://localhost:8080/"
        },
        "id": "CfUahxoH5CkA",
        "outputId": "0eac96eb-08bf-4ead-ecd6-2c0a1148d5bd"
      },
      "execution_count": null,
      "outputs": [
        {
          "output_type": "execute_result",
          "data": {
            "text/plain": [
              "{0, 1, 2, 3, 4, 5, 6, 7, 8, 9, 'A', 'd'}"
            ]
          },
          "metadata": {},
          "execution_count": 21
        }
      ]
    },
    {
      "cell_type": "code",
      "source": [
        "x.add('good')\n",
        "print(x)"
      ],
      "metadata": {
        "colab": {
          "base_uri": "https://localhost:8080/"
        },
        "id": "35KqTn6l6Y5X",
        "outputId": "b74f6465-7abd-48aa-ee6d-dcc8c6f0f70f"
      },
      "execution_count": null,
      "outputs": [
        {
          "output_type": "stream",
          "name": "stdout",
          "text": [
            "{0, 1, 2, 3, 4, 5, 6, 7, 8, 'd', 9, 'good', 'A'}\n"
          ]
        }
      ]
    },
    {
      "cell_type": "code",
      "source": [
        "x.update([2.3,'world','son',12])\n",
        "print(x)"
      ],
      "metadata": {
        "colab": {
          "base_uri": "https://localhost:8080/"
        },
        "id": "oZbOBB8N7f3X",
        "outputId": "d42e6569-aa4f-4891-ff11-249c20c5ac9d"
      },
      "execution_count": null,
      "outputs": [
        {
          "output_type": "stream",
          "name": "stdout",
          "text": [
            "{0, 1, 2, 3, 4, 5, 6, 7, 8, 'd', 9, 'good', 2.3, 'son', 12, 'A', 'world'}\n"
          ]
        }
      ]
    },
    {
      "cell_type": "code",
      "source": [
        "y=x.copy()\n",
        "print(y)\n"
      ],
      "metadata": {
        "colab": {
          "base_uri": "https://localhost:8080/"
        },
        "id": "Lqw6xZ6d8sRR",
        "outputId": "6cc18de1-76b3-4f4d-bc66-6a28e748c0f5"
      },
      "execution_count": null,
      "outputs": [
        {
          "output_type": "stream",
          "name": "stdout",
          "text": [
            "{0, 1, 2, 3, 4, 5, 6, 7, 8, 'd', 9, 2.3, 12, 'son', 'good', 'A', 'world'}\n"
          ]
        }
      ]
    },
    {
      "cell_type": "code",
      "source": [
        "'hello' in (y)"
      ],
      "metadata": {
        "colab": {
          "base_uri": "https://localhost:8080/"
        },
        "id": "kh5yglmC9nok",
        "outputId": "d5ed9d7b-3309-4a9b-b264-81a29a92f873"
      },
      "execution_count": null,
      "outputs": [
        {
          "output_type": "execute_result",
          "data": {
            "text/plain": [
              "False"
            ]
          },
          "metadata": {},
          "execution_count": 26
        }
      ]
    },
    {
      "cell_type": "code",
      "source": [
        "9 in (y)"
      ],
      "metadata": {
        "colab": {
          "base_uri": "https://localhost:8080/"
        },
        "id": "CgdsZK_z-X97",
        "outputId": "34c60132-a5bd-4486-a930-a55aada0e782"
      },
      "execution_count": null,
      "outputs": [
        {
          "output_type": "execute_result",
          "data": {
            "text/plain": [
              "True"
            ]
          },
          "metadata": {},
          "execution_count": 27
        }
      ]
    },
    {
      "cell_type": "code",
      "source": [
        "y.add('bro')\n",
        "print(y)"
      ],
      "metadata": {
        "colab": {
          "base_uri": "https://localhost:8080/"
        },
        "id": "deKOd9nz-azw",
        "outputId": "95b4af8f-7729-49a1-a1b1-c573688bcec0"
      },
      "execution_count": null,
      "outputs": [
        {
          "output_type": "stream",
          "name": "stdout",
          "text": [
            "{0, 1, 2, 3, 4, 5, 6, 7, 8, 'd', 9, 2.3, 12, 'bro', 'son', 'good', 'A', 'world'}\n"
          ]
        }
      ]
    },
    {
      "cell_type": "code",
      "source": [
        "\"bro\" in (y)"
      ],
      "metadata": {
        "colab": {
          "base_uri": "https://localhost:8080/"
        },
        "id": "chI1iEZt-x2S",
        "outputId": "d1b51e0a-d155-4a04-bed4-89b434995cca"
      },
      "execution_count": null,
      "outputs": [
        {
          "output_type": "execute_result",
          "data": {
            "text/plain": [
              "True"
            ]
          },
          "metadata": {},
          "execution_count": 29
        }
      ]
    },
    {
      "cell_type": "code",
      "source": [
        "y.pop\n",
        "print(y)"
      ],
      "metadata": {
        "colab": {
          "base_uri": "https://localhost:8080/"
        },
        "id": "qF7LYRRM-2C9",
        "outputId": "6fd895bd-da96-40b1-82e2-04157de81197"
      },
      "execution_count": null,
      "outputs": [
        {
          "output_type": "stream",
          "name": "stdout",
          "text": [
            "{1, 2, 3, 4, 5, 6, 7, 8, 'd', 9, 2.3, 12, 'bro', 'son', 'good', 'A', 'world'}\n"
          ]
        }
      ]
    },
    {
      "cell_type": "code",
      "source": [
        "f=set([1,2,3,4])\n",
        "print(f)"
      ],
      "metadata": {
        "colab": {
          "base_uri": "https://localhost:8080/"
        },
        "id": "QbbCXDH2_CJk",
        "outputId": "9053a0b8-10d2-46a4-8e7d-556bdf41740e"
      },
      "execution_count": null,
      "outputs": [
        {
          "output_type": "stream",
          "name": "stdout",
          "text": [
            "{1, 2, 3, 4}\n"
          ]
        }
      ]
    },
    {
      "cell_type": "code",
      "source": [
        "f.pop\n",
        "print(f)"
      ],
      "metadata": {
        "colab": {
          "base_uri": "https://localhost:8080/"
        },
        "id": "c6Wx8Z5l_b7i",
        "outputId": "50821e31-cf2f-446f-9576-3a185bf330b3"
      },
      "execution_count": null,
      "outputs": [
        {
          "output_type": "stream",
          "name": "stdout",
          "text": [
            "{1, 2, 3, 4}\n"
          ]
        }
      ]
    },
    {
      "cell_type": "code",
      "source": [
        "f.remove(3)\n",
        "print(f)"
      ],
      "metadata": {
        "colab": {
          "base_uri": "https://localhost:8080/"
        },
        "id": "uheg_uUH_gPD",
        "outputId": "b9012722-b845-489d-a9fe-870009bb6409"
      },
      "execution_count": null,
      "outputs": [
        {
          "output_type": "stream",
          "name": "stdout",
          "text": [
            "{1, 2, 4}\n"
          ]
        }
      ]
    },
    {
      "cell_type": "code",
      "source": [
        "f.remove(5)\n",
        "print(f)"
      ],
      "metadata": {
        "colab": {
          "base_uri": "https://localhost:8080/",
          "height": 181
        },
        "id": "YOhYbsoHA07t",
        "outputId": "e63c5cba-d528-4fef-c1aa-527cb7ba6e53"
      },
      "execution_count": null,
      "outputs": [
        {
          "output_type": "error",
          "ename": "KeyError",
          "evalue": "ignored",
          "traceback": [
            "\u001b[0;31m---------------------------------------------------------------------------\u001b[0m",
            "\u001b[0;31mKeyError\u001b[0m                                  Traceback (most recent call last)",
            "\u001b[0;32m<ipython-input-46-21c0977ea03b>\u001b[0m in \u001b[0;36m<module>\u001b[0;34m\u001b[0m\n\u001b[0;32m----> 1\u001b[0;31m \u001b[0mf\u001b[0m\u001b[0;34m.\u001b[0m\u001b[0mremove\u001b[0m\u001b[0;34m(\u001b[0m\u001b[0;36m5\u001b[0m\u001b[0;34m)\u001b[0m\u001b[0;34m\u001b[0m\u001b[0;34m\u001b[0m\u001b[0m\n\u001b[0m\u001b[1;32m      2\u001b[0m \u001b[0mprint\u001b[0m\u001b[0;34m(\u001b[0m\u001b[0mf\u001b[0m\u001b[0;34m)\u001b[0m\u001b[0;34m\u001b[0m\u001b[0;34m\u001b[0m\u001b[0m\n",
            "\u001b[0;31mKeyError\u001b[0m: 5"
          ]
        }
      ]
    },
    {
      "cell_type": "code",
      "source": [
        "a=20\n",
        "b=10\n",
        "c=a+b\n",
        "print(c)"
      ],
      "metadata": {
        "colab": {
          "base_uri": "https://localhost:8080/"
        },
        "id": "w2W3jJnIA6aj",
        "outputId": "e1688c87-22c5-4d6d-bc29-fd1449729c33"
      },
      "execution_count": null,
      "outputs": [
        {
          "output_type": "stream",
          "name": "stdout",
          "text": [
            "30\n"
          ]
        }
      ]
    },
    {
      "cell_type": "code",
      "source": [
        "a=int(input('enter your first value'))\n",
        "b=int(input('enter your second value'))\n",
        "c=a+b\n",
        "print('your answer is',c)"
      ],
      "metadata": {
        "colab": {
          "base_uri": "https://localhost:8080/"
        },
        "id": "_MJ2BKixB9kJ",
        "outputId": "8467bee9-78e9-4d51-b8f4-0562bdd34698"
      },
      "execution_count": null,
      "outputs": [
        {
          "output_type": "stream",
          "name": "stdout",
          "text": [
            "enter your first value2\n",
            "enter your second value7\n",
            "your answer is 9\n"
          ]
        }
      ]
    },
    {
      "cell_type": "code",
      "source": [
        "a=int(input('enter your first value'))\n",
        "b=int(input('enter your second value'))\n",
        "c=input('choose your operation')\n",
        "if (c=='+'):\n",
        "  print(a+b)\n",
        "elif(c=='-'):\n",
        "  print(a-b)\n",
        "elif(c=='*'):\n",
        "  print(a*b)\n",
        "elif(c==\"%\"):\n",
        "  print(a%b)\n",
        "     \n",
        "else:\n",
        "  print('choose correct operation')\n"
      ],
      "metadata": {
        "colab": {
          "base_uri": "https://localhost:8080/"
        },
        "id": "rhepwAlwCOvY",
        "outputId": "a5473a67-0848-4f70-b50a-5943e9aa9376"
      },
      "execution_count": null,
      "outputs": [
        {
          "output_type": "stream",
          "name": "stdout",
          "text": [
            "enter your first value9\n",
            "enter your second value8\n",
            "choose your operation#\n",
            "choose correct operation\n"
          ]
        }
      ]
    },
    {
      "cell_type": "code",
      "source": [],
      "metadata": {
        "id": "S2gcH61gJgij"
      },
      "execution_count": null,
      "outputs": []
    },
    {
      "cell_type": "code",
      "source": [
        "e=[1,2,3,4]\n",
        "if not e:\n",
        "  print('the list is empty')\n",
        "else:\n",
        "  print(\"list holds values\")\n"
      ],
      "metadata": {
        "colab": {
          "base_uri": "https://localhost:8080/"
        },
        "id": "cVUhgz7FMRVn",
        "outputId": "6b41c792-ffb9-40a6-ad1d-d45ead13f774"
      },
      "execution_count": null,
      "outputs": [
        {
          "output_type": "stream",
          "name": "stdout",
          "text": [
            "list holds values\n"
          ]
        }
      ]
    },
    {
      "cell_type": "code",
      "source": [
        "a=int(input('totel purchase amount '))\n",
        "if a>1500:\n",
        "  b=((a*20)/100)\n",
        "  print(\"Your discount amoun:\",b)\n",
        "  print('the amount you paying : ',a-b)\n",
        "\n",
        "else:\n",
        "  print('you have no discount')\n"
      ],
      "metadata": {
        "colab": {
          "base_uri": "https://localhost:8080/"
        },
        "id": "hX2sazLSM7nX",
        "outputId": "03e0a10b-ac9f-4abf-9cb6-e5dc0bd1db79"
      },
      "execution_count": null,
      "outputs": [
        {
          "output_type": "stream",
          "name": "stdout",
          "text": [
            "totel purchase amount 2000\n",
            "Your discount amoun: 400.0\n",
            "the amount you paying :  1600.0\n"
          ]
        }
      ]
    },
    {
      "cell_type": "code",
      "source": [
        "\n",
        "a=int(input('enter a value '))\n",
        "if a%2==1:\n",
        "  print('the value is odd')\n",
        "else:\n",
        "  print('the value is not odd')"
      ],
      "metadata": {
        "colab": {
          "base_uri": "https://localhost:8080/"
        },
        "id": "lDjct27AXTWN",
        "outputId": "afc8ed7b-d6ea-44da-bd7b-cc053cb9ee05"
      },
      "execution_count": null,
      "outputs": [
        {
          "output_type": "stream",
          "name": "stdout",
          "text": [
            "enter a value 5\n",
            "the value is odd\n"
          ]
        }
      ]
    },
    {
      "cell_type": "code",
      "source": [
        "a=int(input('enter a value'))\n",
        "if a<0:\n",
        "  print(\"the value is negative\")\n",
        "elif a==0:\n",
        "  print('the value is zero')\n",
        "else:\n",
        "  print('the value is positive')"
      ],
      "metadata": {
        "colab": {
          "base_uri": "https://localhost:8080/"
        },
        "id": "PYdAMNKWazFl",
        "outputId": "04aeb9d6-63d3-4bff-9da7-1c17d7f5dfa4"
      },
      "execution_count": null,
      "outputs": [
        {
          "output_type": "stream",
          "name": "stdout",
          "text": [
            "enter a value0\n",
            "the value is zero\n"
          ]
        }
      ]
    },
    {
      "cell_type": "code",
      "source": [
        "a=int(input('enter the mark'))\n",
        "if a>450:\n",
        "  print('a+')\n",
        "elif a>=350 and a<450:\n",
        "  print('a')\n",
        "elif a>=250 and a<350:\n",
        "  print('b+')\n",
        "else:\n",
        "  print('b')\n",
        "\n"
      ],
      "metadata": {
        "colab": {
          "base_uri": "https://localhost:8080/"
        },
        "id": "iL5iStghcVNq",
        "outputId": "d6157765-a22a-4feb-b4f0-f84516e9bd5b"
      },
      "execution_count": null,
      "outputs": [
        {
          "output_type": "stream",
          "name": "stdout",
          "text": [
            "enter the mark249\n",
            "b\n"
          ]
        }
      ]
    },
    {
      "cell_type": "code",
      "source": [
        "p=set([1,2,3,4,5])\n",
        "print(p)"
      ],
      "metadata": {
        "colab": {
          "base_uri": "https://localhost:8080/"
        },
        "id": "7RfWCWBHfgK0",
        "outputId": "a56ac1e3-773a-4faa-dbcd-aa89564dc8d3"
      },
      "execution_count": null,
      "outputs": [
        {
          "output_type": "stream",
          "name": "stdout",
          "text": [
            "{1, 2, 3, 4, 5}\n"
          ]
        }
      ]
    },
    {
      "cell_type": "code",
      "source": [
        "x=set([2,4,6,8,10])\n",
        "(x)"
      ],
      "metadata": {
        "colab": {
          "base_uri": "https://localhost:8080/"
        },
        "id": "XOw-1DoEjb26",
        "outputId": "cc4100b0-5e03-4da5-dcc6-35d05d9953ff"
      },
      "execution_count": null,
      "outputs": [
        {
          "output_type": "execute_result",
          "data": {
            "text/plain": [
              "{2, 4, 6, 8, 10}"
            ]
          },
          "metadata": {},
          "execution_count": 98
        }
      ]
    },
    {
      "cell_type": "code",
      "source": [
        "x.add('good')"
      ],
      "metadata": {
        "id": "3uoQ7c1fjv6n"
      },
      "execution_count": null,
      "outputs": []
    },
    {
      "cell_type": "code",
      "source": [
        "print(x)"
      ],
      "metadata": {
        "colab": {
          "base_uri": "https://localhost:8080/"
        },
        "id": "KJFbpqIuj1x0",
        "outputId": "a67c6cf2-3243-4db4-bc20-697d0140a744"
      },
      "execution_count": null,
      "outputs": [
        {
          "output_type": "stream",
          "name": "stdout",
          "text": [
            "{2, 4, 6, 8, 'good', 10}\n"
          ]
        }
      ]
    },
    {
      "cell_type": "code",
      "source": [
        "x.update([1,2,3,'world',2.5])\n",
        "print(x)"
      ],
      "metadata": {
        "colab": {
          "base_uri": "https://localhost:8080/"
        },
        "id": "tRNdQJdyj40Z",
        "outputId": "c7585f33-5746-4b33-8b4f-cf2910bfc753"
      },
      "execution_count": null,
      "outputs": [
        {
          "output_type": "stream",
          "name": "stdout",
          "text": [
            "{1, 2, 3, 4, 'world', 6, 2.5, 8, 'good', 10}\n"
          ]
        }
      ]
    },
    {
      "cell_type": "code",
      "source": [
        "y=x.copy()\n",
        "print(y)"
      ],
      "metadata": {
        "colab": {
          "base_uri": "https://localhost:8080/"
        },
        "id": "lC_LKVPikWbB",
        "outputId": "f69113e3-e4ab-4833-a305-720056527a9a"
      },
      "execution_count": null,
      "outputs": [
        {
          "output_type": "stream",
          "name": "stdout",
          "text": [
            "{1, 2, 3, 4, 'world', 6, 2.5, 8, 'good', 10}\n"
          ]
        }
      ]
    },
    {
      "cell_type": "code",
      "source": [
        "\"hello\"in (y)"
      ],
      "metadata": {
        "colab": {
          "base_uri": "https://localhost:8080/"
        },
        "id": "QQC8n_01klI2",
        "outputId": "39e79edd-4aae-48aa-bc4b-c64c7fe46136"
      },
      "execution_count": null,
      "outputs": [
        {
          "output_type": "execute_result",
          "data": {
            "text/plain": [
              "False"
            ]
          },
          "metadata": {},
          "execution_count": 103
        }
      ]
    },
    {
      "cell_type": "code",
      "source": [
        "f=set([1,2,3,4,5])\n",
        "print(f)"
      ],
      "metadata": {
        "colab": {
          "base_uri": "https://localhost:8080/"
        },
        "id": "Ac7vkGZllC4h",
        "outputId": "8cf8957d-51b2-465c-9a2c-7773bebddc6a"
      },
      "execution_count": null,
      "outputs": [
        {
          "output_type": "stream",
          "name": "stdout",
          "text": [
            "{1, 2, 3, 4, 5}\n"
          ]
        }
      ]
    },
    {
      "cell_type": "code",
      "source": [
        "f.pop()\n",
        "print(f)"
      ],
      "metadata": {
        "colab": {
          "base_uri": "https://localhost:8080/"
        },
        "id": "22lzPnXylWy5",
        "outputId": "abc0d658-c684-452b-9ea4-85653d92f6ca"
      },
      "execution_count": null,
      "outputs": [
        {
          "output_type": "stream",
          "name": "stdout",
          "text": [
            "{2, 3, 4, 5}\n"
          ]
        }
      ]
    },
    {
      "cell_type": "code",
      "source": [
        "f.remove(5)\n",
        "print(f)"
      ],
      "metadata": {
        "colab": {
          "base_uri": "https://localhost:8080/"
        },
        "id": "BMqUDeiPldbd",
        "outputId": "3d6b29cf-6c27-4891-d543-7b7c3b6a87b8"
      },
      "execution_count": null,
      "outputs": [
        {
          "output_type": "stream",
          "name": "stdout",
          "text": [
            "{2, 3, 4}\n"
          ]
        }
      ]
    },
    {
      "cell_type": "code",
      "source": [
        "a=20\n",
        "b=20\n",
        "c=a+b\n",
        "print(c)"
      ],
      "metadata": {
        "colab": {
          "base_uri": "https://localhost:8080/"
        },
        "id": "9GhVIZU-lmOS",
        "outputId": "5edf423a-ed02-46d3-8a53-e1ecd50a07d9"
      },
      "execution_count": null,
      "outputs": [
        {
          "output_type": "stream",
          "name": "stdout",
          "text": [
            "40\n"
          ]
        }
      ]
    },
    {
      "cell_type": "code",
      "source": [
        "a=int(input('enter the first value :'))\n",
        "b=int(input('enter the socond value :'))\n",
        "c=a+b\n",
        "print('your answer is :',c)"
      ],
      "metadata": {
        "colab": {
          "base_uri": "https://localhost:8080/"
        },
        "id": "niB5CN8fl08L",
        "outputId": "a464c177-e1a0-4cac-b0ef-420290e57bf5"
      },
      "execution_count": null,
      "outputs": [
        {
          "output_type": "stream",
          "name": "stdout",
          "text": [
            "enter the first value :60\n",
            "enter the socond value :30\n",
            "your answer is : 90\n"
          ]
        }
      ]
    },
    {
      "cell_type": "code",
      "source": [
        "a=int(input('enter your first value'))\n",
        "b=int(input('enter your second value'))\n",
        "c=(input('choose your operation'))\n",
        "if(c=='+'):\n",
        "  print(a+b)\n",
        "elif(c=='-'):\n",
        "  print(a-b)\n",
        "elif(c=='*'):\n",
        "  print(a*b)\n",
        "elif(c=='%'):\n",
        "  print(a%b)\n",
        "else:\n",
        "  print('choose your operation')\n",
        "  \n"
      ],
      "metadata": {
        "colab": {
          "base_uri": "https://localhost:8080/"
        },
        "id": "3_mq3SCmmNiW",
        "outputId": "0d46358c-e524-43cd-d56e-37badcc34502"
      },
      "execution_count": null,
      "outputs": [
        {
          "output_type": "stream",
          "name": "stdout",
          "text": [
            "enter your first value4\n",
            "enter your second value4\n",
            "choose your operation+\n",
            "8\n"
          ]
        }
      ]
    },
    {
      "cell_type": "code",
      "source": [
        "a=int(input('enter your purchase'))"
      ],
      "metadata": {
        "id": "yDeFhgvgpfMP"
      },
      "execution_count": null,
      "outputs": []
    }
  ]
}