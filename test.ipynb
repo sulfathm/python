{
 "cells": [
  {
   "cell_type": "code",
   "execution_count": 1,
   "id": "e4e34806",
   "metadata": {},
   "outputs": [
    {
     "name": "stdout",
     "output_type": "stream",
     "text": [
      "(8, 7, 6, 5, 4, 3, 2, 1)\n"
     ]
    }
   ],
   "source": [
    "#reverse of a number\n",
    "t=1,2,3,4,5,6,7,8\n",
    "p=t[::-1]\n",
    "print(p)"
   ]
  },
  {
   "cell_type": "code",
   "execution_count": 2,
   "id": "a7c4bc44",
   "metadata": {},
   "outputs": [
    {
     "name": "stdout",
     "output_type": "stream",
     "text": [
      "1\n",
      "2\n",
      "3\n",
      "5\n",
      "8\n",
      "13\n",
      "21\n",
      "34\n",
      "55\n"
     ]
    }
   ],
   "source": [
    "#febinacci series\n",
    "n=9\n",
    "a=0\n",
    "b=1\n",
    "for i in range(b,n+1):\n",
    "    if i<0:\n",
    "        sum=i\n",
    "    else:\n",
    "        sum=a+b\n",
    "        a=b\n",
    "        b=sum\n",
    "        print(b)\n"
   ]
  },
  {
   "cell_type": "code",
   "execution_count": 3,
   "id": "ecd676f8",
   "metadata": {},
   "outputs": [
    {
     "name": "stdout",
     "output_type": "stream",
     "text": [
      "enter the limit6\n",
      "1\n",
      "2\n",
      "6\n",
      "24\n",
      "120\n",
      "720\n"
     ]
    }
   ],
   "source": [
    "#factorial\n",
    "num=int(input(\"enter the limit\"))\n",
    "s=1\n",
    "for i in range(s,num+1):\n",
    "    s=s*i\n",
    "    print(s)"
   ]
  },
  {
   "cell_type": "code",
   "execution_count": 4,
   "id": "a412c8a3",
   "metadata": {},
   "outputs": [
    {
     "name": "stdout",
     "output_type": "stream",
     "text": [
      "enter your number :8\n",
      "even\n"
     ]
    }
   ],
   "source": [
    "#odd or even\n",
    "integer=int(input(\"enter your number :\"))\n",
    "if integer%2==0:\n",
    "        print(\"even\")\n",
    "else:\n",
    "        print(\"odd\")"
   ]
  },
  {
   "cell_type": "code",
   "execution_count": 5,
   "id": "63a210d0",
   "metadata": {},
   "outputs": [
    {
     "name": "stdout",
     "output_type": "stream",
     "text": [
      "enter your number :7\n",
      "odd number\n"
     ]
    }
   ],
   "source": [
    "#odd or even\n",
    "integer=int(input(\"enter your number :\"))\n",
    "reminder=integer%2\n",
    "if (reminder==0):\n",
    "    print(\"even number\")\n",
    "else:\n",
    "    print(\"odd number\")"
   ]
  },
  {
   "cell_type": "code",
   "execution_count": 6,
   "id": "98b35b18",
   "metadata": {},
   "outputs": [
    {
     "name": "stdout",
     "output_type": "stream",
     "text": [
      "50.24\n"
     ]
    }
   ],
   "source": [
    "#area of circle\n",
    "class circle:\n",
    "    def __init__(self,r):\n",
    "        self.r=r\n",
    "    def area(self):\n",
    "        print(3.14*(self.r)**2)\n",
    "obj=circle(4)\n",
    "obj.area()\n",
    "    "
   ]
  },
  {
   "cell_type": "code",
   "execution_count": 7,
   "id": "6ee9f854",
   "metadata": {},
   "outputs": [
    {
     "name": "stdout",
     "output_type": "stream",
     "text": [
      "20\n"
     ]
    }
   ],
   "source": [
    "#area of rectangle\n",
    "class rectangle:\n",
    "    def __init__(self,a,b):\n",
    "        self.a=a\n",
    "        self.b=b\n",
    "    def area(self):\n",
    "        print(self.a*self.b)\n",
    "obj=rectangle(4,5)\n",
    "obj.area()"
   ]
  },
  {
   "cell_type": "code",
   "execution_count": 1,
   "id": "98f981f0",
   "metadata": {},
   "outputs": [
    {
     "name": "stdout",
     "output_type": "stream",
     "text": [
      "enter your number :123\n"
     ]
    },
    {
     "ename": "TypeError",
     "evalue": "'int' object is not iterable",
     "output_type": "error",
     "traceback": [
      "\u001b[1;31m---------------------------------------------------------------------------\u001b[0m",
      "\u001b[1;31mTypeError\u001b[0m                                 Traceback (most recent call last)",
      "Input \u001b[1;32mIn [1]\u001b[0m, in \u001b[0;36m<cell line: 4>\u001b[1;34m()\u001b[0m\n\u001b[0;32m      2\u001b[0m num\u001b[38;5;241m=\u001b[39m\u001b[38;5;28mint\u001b[39m(\u001b[38;5;28minput\u001b[39m(\u001b[38;5;124m\"\u001b[39m\u001b[38;5;124menter your number :\u001b[39m\u001b[38;5;124m\"\u001b[39m))\n\u001b[0;32m      3\u001b[0m \u001b[38;5;28msum\u001b[39m\u001b[38;5;241m=\u001b[39m\u001b[38;5;241m0\u001b[39m\n\u001b[1;32m----> 4\u001b[0m \u001b[38;5;28;01mfor\u001b[39;00m i \u001b[38;5;129;01min\u001b[39;00m num:\n\u001b[0;32m      5\u001b[0m     \u001b[38;5;28msum\u001b[39m\u001b[38;5;241m+\u001b[39m\u001b[38;5;241m=\u001b[39m\u001b[38;5;28mint\u001b[39m(i)\u001b[38;5;241m*\u001b[39m\u001b[38;5;241m*\u001b[39m\u001b[38;5;241m3\u001b[39m\n\u001b[0;32m      6\u001b[0m     \u001b[38;5;28;01mif\u001b[39;00m \u001b[38;5;28msum\u001b[39m\u001b[38;5;241m==\u001b[39m\u001b[38;5;28mint\u001b[39m(num):\n",
      "\u001b[1;31mTypeError\u001b[0m: 'int' object is not iterable"
     ]
    }
   ],
   "source": [
    "#armstrong number\n",
    "num=int(input(\"enter your number :\"))\n",
    "sum=0\n",
    "for i in num:\n",
    "    sum+=int(i)**3\n",
    "    if sum==int(num):\n",
    "        print(\"Armstrong\")\n",
    "    else:\n",
    "        print(\"Not armstrong\")\n",
    "    \n",
    "        "
   ]
  },
  {
   "cell_type": "code",
   "execution_count": 9,
   "id": "d9518173",
   "metadata": {},
   "outputs": [
    {
     "name": "stdout",
     "output_type": "stream",
     "text": [
      "enter a number :165\n",
      "  165 not armstrong number\n"
     ]
    }
   ],
   "source": [
    "#check weather armstrong or not\n",
    "number=int(input(\"enter a number :\"))\n",
    "length=len(str(number))\n",
    "temp=number\n",
    "s=0\n",
    "while (temp>0):\n",
    "    digit=temp%10\n",
    "    s=digit**length\n",
    "    temp/=10\n",
    "if (number==s):\n",
    "    print(\" \",number,\"Armstrong number\")\n",
    "else:\n",
    "    print(\" \",number,\"not armstrong number\")"
   ]
  },
  {
   "cell_type": "code",
   "execution_count": 10,
   "id": "d74ce215",
   "metadata": {},
   "outputs": [
    {
     "name": "stdout",
     "output_type": "stream",
     "text": [
      "starting range :1\n",
      "ending range :7\n",
      "1\n",
      "2\n",
      "6\n",
      "24\n",
      "120\n",
      "720\n",
      "5040\n"
     ]
    }
   ],
   "source": [
    "#factorial\n",
    "a=int(input(\"starting range :\"))\n",
    "b=int(input(\"ending range :\"))\n",
    "s=1\n",
    "for i in range(a,b+1):\n",
    "    s=s*i\n",
    "    print(s)"
   ]
  },
  {
   "cell_type": "code",
   "execution_count": 14,
   "id": "94bbe074",
   "metadata": {},
   "outputs": [
    {
     "name": "stdout",
     "output_type": "stream",
     "text": [
      "enter a number6\n",
      " prime\n",
      " prime\n",
      "Not Prime\n",
      "Not Prime\n",
      " prime\n",
      "\n"
     ]
    }
   ],
   "source": [
    "#prime numbers\n",
    "number=int(input(\"enter a number\"))\n",
    "for i in range(2,number+1):\n",
    "    if number%i==0:\n",
    "        print(\" prime\")\n",
    "        \n",
    "    else:\n",
    "        print(\"Not Prime\")\n",
    "print()"
   ]
  },
  {
   "cell_type": "code",
   "execution_count": 25,
   "id": "59aa0d8c",
   "metadata": {},
   "outputs": [
    {
     "name": "stdout",
     "output_type": "stream",
     "text": [
      "first number :1\n",
      "last number :5\n",
      "15\n"
     ]
    }
   ],
   "source": [
    "#sum of digit of a number\n",
    "num1=int(input(\"first number :\"))\n",
    "num2=int(input(\"last number :\"))\n",
    "sum=0\n",
    "for i in range(num1,num2+1):\n",
    "    sum=sum+i\n",
    "print(sum)\n",
    "    "
   ]
  },
  {
   "cell_type": "code",
   "execution_count": 28,
   "id": "cd697b54",
   "metadata": {},
   "outputs": [
    {
     "name": "stdout",
     "output_type": "stream",
     "text": [
      "15\n",
      "0\n"
     ]
    }
   ],
   "source": [
    "#average of a number\n",
    "mylist=1,2,3,4,5\n",
    "order=len(mylist)\n",
    "sum=0\n",
    "for i in mylist:\n",
    "    sum=sum+i\n",
    "print(sum)\n",
    "a=sum%order\n",
    "print(a)\n",
    "\n"
   ]
  },
  {
   "cell_type": "code",
   "execution_count": 34,
   "id": "db547150",
   "metadata": {},
   "outputs": [
    {
     "name": "stdout",
     "output_type": "stream",
     "text": [
      "6\n"
     ]
    }
   ],
   "source": [
    "mylist=[24,56,89,90,24,15]\n",
    "order=len(mylist)\n",
    "print(order)"
   ]
  },
  {
   "cell_type": "code",
   "execution_count": 18,
   "id": "f288049a",
   "metadata": {},
   "outputs": [
    {
     "ename": "SyntaxError",
     "evalue": "'literal' is an illegal expression for augmented assignment (1635455730.py, line 1)",
     "output_type": "error",
     "traceback": [
      "\u001b[1;36m  Input \u001b[1;32mIn [18]\u001b[1;36m\u001b[0m\n\u001b[1;33m    153/=10\u001b[0m\n\u001b[1;37m    ^\u001b[0m\n\u001b[1;31mSyntaxError\u001b[0m\u001b[1;31m:\u001b[0m 'literal' is an illegal expression for augmented assignment\n"
     ]
    }
   ],
   "source": [
    "153/=10\n"
   ]
  },
  {
   "cell_type": "code",
   "execution_count": null,
   "id": "bac3020f",
   "metadata": {},
   "outputs": [],
   "source": []
  }
 ],
 "metadata": {
  "kernelspec": {
   "display_name": "Python 3 (ipykernel)",
   "language": "python",
   "name": "python3"
  },
  "language_info": {
   "codemirror_mode": {
    "name": "ipython",
    "version": 3
   },
   "file_extension": ".py",
   "mimetype": "text/x-python",
   "name": "python",
   "nbconvert_exporter": "python",
   "pygments_lexer": "ipython3",
   "version": "3.9.12"
  }
 },
 "nbformat": 4,
 "nbformat_minor": 5
}
