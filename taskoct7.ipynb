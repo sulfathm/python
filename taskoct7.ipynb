{
 "cells": [
  {
   "cell_type": "code",
   "execution_count": 4,
   "id": "fc240197",
   "metadata": {},
   "outputs": [
    {
     "name": "stdout",
     "output_type": "stream",
     "text": [
      "first string'wonderful'\n",
      "second string'beautiful'\n",
      "both string are equal length\n"
     ]
    }
   ],
   "source": [
    "string=input('first string')\n",
    "string1=input('second string')\n",
    "if (len(string)==len(string1)):\n",
    "    print('both string are equal length')\n",
    "else:\n",
    "    (len(string)!=len(string1))\n",
    "    print('both strings are different length')\n"
   ]
  },
  {
   "cell_type": "code",
   "execution_count": 9,
   "id": "e82ea63a",
   "metadata": {},
   "outputs": [
    {
     "ename": "IndentationError",
     "evalue": "expected an indented block (3249233557.py, line 4)",
     "output_type": "error",
     "traceback": [
      "\u001b[1;36m  Input \u001b[1;32mIn [9]\u001b[1;36m\u001b[0m\n\u001b[1;33m    print('the integer is even')\u001b[0m\n\u001b[1;37m    ^\u001b[0m\n\u001b[1;31mIndentationError\u001b[0m\u001b[1;31m:\u001b[0m expected an indented block\n"
     ]
    }
   ],
   "source": [
    "integer=int(input('enter an integer :'))\n",
    "for i in integer:\n",
    "    if i%2==0:\n",
    "    print('the integer is even')\n",
    "    else:\n",
    "        i%2!=0\n",
    "        print('the integer is odd')"
   ]
  },
  {
   "cell_type": "code",
   "execution_count": null,
   "id": "a540a106",
   "metadata": {},
   "outputs": [],
   "source": []
  }
 ],
 "metadata": {
  "kernelspec": {
   "display_name": "Python 3 (ipykernel)",
   "language": "python",
   "name": "python3"
  },
  "language_info": {
   "codemirror_mode": {
    "name": "ipython",
    "version": 3
   },
   "file_extension": ".py",
   "mimetype": "text/x-python",
   "name": "python",
   "nbconvert_exporter": "python",
   "pygments_lexer": "ipython3",
   "version": "3.9.12"
  }
 },
 "nbformat": 4,
 "nbformat_minor": 5
}
