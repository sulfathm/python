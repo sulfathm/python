{
 "cells": [
  {
   "cell_type": "code",
   "execution_count": 1,
   "id": "89f3663d",
   "metadata": {},
   "outputs": [
    {
     "name": "stdout",
     "output_type": "stream",
     "text": [
      "enter a value :8\n",
      "the value is even\n"
     ]
    }
   ],
   "source": [
    "a=int(input('enter a value :'))\n",
    "if a%2==1:\n",
    "    print('the value is odd')\n",
    "else:\n",
    "    print('the value is even')"
   ]
  },
  {
   "cell_type": "code",
   "execution_count": 2,
   "id": "7bf0a9ef",
   "metadata": {},
   "outputs": [
    {
     "name": "stdout",
     "output_type": "stream",
     "text": [
      "enter a value :8\n",
      "the value is positive\n"
     ]
    }
   ],
   "source": [
    "b=int(input('enter a value :'))\n",
    "if a<0:\n",
    "    print('the value is negative')\n",
    "elif a>0:\n",
    "    print('the value is positive')\n",
    "else:\n",
    "    print('the value is neutral')"
   ]
  },
  {
   "cell_type": "code",
   "execution_count": 3,
   "id": "12e64beb",
   "metadata": {},
   "outputs": [
    {
     "name": "stdout",
     "output_type": "stream",
     "text": [
      "{1, 2, 3, 4, 5}\n",
      "{4, 6, 7, 8, 9}\n"
     ]
    }
   ],
   "source": [
    "s1=set([1,2,3,4,5])\n",
    "print(s1)\n",
    "s2=set([6,7,8,9,4])\n",
    "print(s2)"
   ]
  },
  {
   "cell_type": "code",
   "execution_count": 4,
   "id": "d77915ae",
   "metadata": {},
   "outputs": [
    {
     "data": {
      "text/plain": [
       "{1, 2, 3, 4, 5, 6, 7, 8, 9}"
      ]
     },
     "execution_count": 4,
     "metadata": {},
     "output_type": "execute_result"
    }
   ],
   "source": [
    "s1.union(s2)"
   ]
  },
  {
   "cell_type": "code",
   "execution_count": 5,
   "id": "81757164",
   "metadata": {},
   "outputs": [
    {
     "data": {
      "text/plain": [
       "{4}"
      ]
     },
     "execution_count": 5,
     "metadata": {},
     "output_type": "execute_result"
    }
   ],
   "source": [
    "s1.intersection(s2)"
   ]
  },
  {
   "cell_type": "code",
   "execution_count": 6,
   "id": "49de99af",
   "metadata": {},
   "outputs": [
    {
     "data": {
      "text/plain": [
       "{1, 2, 3, 5}"
      ]
     },
     "execution_count": 6,
     "metadata": {},
     "output_type": "execute_result"
    }
   ],
   "source": [
    "s1.difference(s2)"
   ]
  },
  {
   "cell_type": "code",
   "execution_count": 7,
   "id": "22fb3d4f",
   "metadata": {},
   "outputs": [
    {
     "data": {
      "text/plain": [
       "{6, 7, 8, 9}"
      ]
     },
     "execution_count": 7,
     "metadata": {},
     "output_type": "execute_result"
    }
   ],
   "source": [
    "s2.difference(s1)"
   ]
  },
  {
   "cell_type": "code",
   "execution_count": 8,
   "id": "79859def",
   "metadata": {},
   "outputs": [
    {
     "data": {
      "text/plain": [
       "'zayan'"
      ]
     },
     "execution_count": 8,
     "metadata": {},
     "output_type": "execute_result"
    }
   ],
   "source": [
    "d={'name':'zayan','age':2}\n",
    "d['name']\n"
   ]
  },
  {
   "cell_type": "code",
   "execution_count": 9,
   "id": "eee60769",
   "metadata": {},
   "outputs": [],
   "source": [
    "d['age']=3"
   ]
  },
  {
   "cell_type": "code",
   "execution_count": 10,
   "id": "60ec7d07",
   "metadata": {},
   "outputs": [
    {
     "name": "stdout",
     "output_type": "stream",
     "text": [
      "{'name': 'zayan', 'age': 3}\n"
     ]
    }
   ],
   "source": [
    "print(d)"
   ]
  },
  {
   "cell_type": "code",
   "execution_count": 11,
   "id": "26ec656e",
   "metadata": {},
   "outputs": [],
   "source": [
    "d['name']='aizin'"
   ]
  },
  {
   "cell_type": "code",
   "execution_count": 12,
   "id": "ec9d1df0",
   "metadata": {},
   "outputs": [
    {
     "name": "stdout",
     "output_type": "stream",
     "text": [
      "{'name': 'aizin', 'age': 3}\n"
     ]
    }
   ],
   "source": [
    "print(d)"
   ]
  },
  {
   "cell_type": "code",
   "execution_count": 13,
   "id": "c350ca74",
   "metadata": {},
   "outputs": [],
   "source": [
    "d['address']='green palace'"
   ]
  },
  {
   "cell_type": "code",
   "execution_count": 14,
   "id": "d49fbd1a",
   "metadata": {},
   "outputs": [
    {
     "name": "stdout",
     "output_type": "stream",
     "text": [
      "{'name': 'aizin', 'age': 3, 'address': 'green palace'}\n"
     ]
    }
   ],
   "source": [
    "print(d)"
   ]
  },
  {
   "cell_type": "code",
   "execution_count": 15,
   "id": "1e9961aa",
   "metadata": {},
   "outputs": [],
   "source": [
    "del d['address']"
   ]
  },
  {
   "cell_type": "code",
   "execution_count": 16,
   "id": "516ff9a9",
   "metadata": {},
   "outputs": [
    {
     "name": "stdout",
     "output_type": "stream",
     "text": [
      "{'name': 'aizin', 'age': 3}\n"
     ]
    }
   ],
   "source": [
    "print(d)"
   ]
  },
  {
   "cell_type": "code",
   "execution_count": 17,
   "id": "26a2fa01",
   "metadata": {},
   "outputs": [
    {
     "ename": "SyntaxError",
     "evalue": "invalid syntax (2528830346.py, line 1)",
     "output_type": "error",
     "traceback": [
      "\u001b[1;36m  Input \u001b[1;32mIn [17]\u001b[1;36m\u001b[0m\n\u001b[1;33m    d.del ()\u001b[0m\n\u001b[1;37m      ^\u001b[0m\n\u001b[1;31mSyntaxError\u001b[0m\u001b[1;31m:\u001b[0m invalid syntax\n"
     ]
    }
   ],
   "source": [
    "d.del ()\n",
    "print(d)"
   ]
  },
  {
   "cell_type": "code",
   "execution_count": null,
   "id": "aa973086",
   "metadata": {},
   "outputs": [],
   "source": [
    "E=set([1,5,8,9,5,4,3,2])\n",
    "print(E)\n"
   ]
  },
  {
   "cell_type": "code",
   "execution_count": null,
   "id": "d0f80f45",
   "metadata": {},
   "outputs": [],
   "source": [
    "f=set([1,3,2,8,9,4,5])\n",
    "print(f)"
   ]
  },
  {
   "cell_type": "code",
   "execution_count": null,
   "id": "8e379f2b",
   "metadata": {},
   "outputs": [],
   "source": [
    "f.issubset(E)"
   ]
  },
  {
   "cell_type": "code",
   "execution_count": null,
   "id": "bcca6989",
   "metadata": {},
   "outputs": [],
   "source": [
    "len(f)\n"
   ]
  },
  {
   "cell_type": "code",
   "execution_count": null,
   "id": "72cd1afd",
   "metadata": {},
   "outputs": [],
   "source": [
    "d5={1:2,3:4,5:6,7:8}\n",
    "x=d5.keys()"
   ]
  },
  {
   "cell_type": "code",
   "execution_count": null,
   "id": "cef27977",
   "metadata": {},
   "outputs": [],
   "source": [
    "print(x)"
   ]
  },
  {
   "cell_type": "code",
   "execution_count": null,
   "id": "7cf05eda",
   "metadata": {},
   "outputs": [],
   "source": [
    "y=d5.values()\n",
    "print(y)"
   ]
  },
  {
   "cell_type": "code",
   "execution_count": null,
   "id": "4e8b2062",
   "metadata": {},
   "outputs": [],
   "source": [
    "s=0\n",
    "for i in x:\n",
    "    s=s+i\n",
    "print(s)"
   ]
  },
  {
   "cell_type": "code",
   "execution_count": null,
   "id": "ec999532",
   "metadata": {},
   "outputs": [],
   "source": [
    "s=0\n",
    "for i in y:\n",
    "    s=s+i\n",
    "print(s)"
   ]
  },
  {
   "cell_type": "code",
   "execution_count": null,
   "id": "efbe7ee1",
   "metadata": {},
   "outputs": [],
   "source": [
    "b=int(input('enter the starting range :'))\n",
    "c=int(input('enter the ending range :'))\n",
    "s=0\n",
    "s1=0\n",
    "for i in range(b,c+1):\n",
    "    if i%2==0:\n",
    "        s=s+i\n",
    "    elif i%2==1:\n",
    "        s1=s1+i\n",
    "print('the value is even :',s)\n",
    "print('the value is odd :',s1)"
   ]
  },
  {
   "cell_type": "code",
   "execution_count": null,
   "id": "3a296bcf",
   "metadata": {},
   "outputs": [],
   "source": [
    "n=int(input('starting range :'))\n",
    "z=int(input('ending range :'))\n",
    "s=1\n",
    "for i in range(n,z+1):\n",
    "    s=s*i\n",
    "    print(s)"
   ]
  },
  {
   "cell_type": "code",
   "execution_count": null,
   "id": "991205bb",
   "metadata": {},
   "outputs": [],
   "source": [
    "t=int(input ('enter the limit :'))\n",
    "a=0\n",
    "b=1\n",
    "print(b)\n",
    "for i in range(b,t+1):\n",
    "    sum=a+b\n",
    "    print(sum)\n",
    "    a=b\n",
    "    b=sum\n",
    "    "
   ]
  },
  {
   "cell_type": "code",
   "execution_count": null,
   "id": "1feee552",
   "metadata": {},
   "outputs": [],
   "source": [
    "y1=int(input('entr the limit :'))\n",
    "a1=0\n",
    "b1=1\n",
    "for i in range(b1,y1+1):\n",
    "    sum=a1+b1\n",
    "    print(sum)\n",
    "    a1=b1\n",
    "    b1=sum"
   ]
  },
  {
   "cell_type": "code",
   "execution_count": null,
   "id": "d0080bfc",
   "metadata": {},
   "outputs": [],
   "source": [
    "f=int(input('enter the limut :'))\n",
    "for i in range(f+1):\n",
    "    print(i)\n",
    "    if i==5:\n",
    "        break\n",
    "    "
   ]
  },
  {
   "cell_type": "code",
   "execution_count": null,
   "id": "1eb1ae71",
   "metadata": {},
   "outputs": [],
   "source": [
    "j=int(input('enter the limit :'))\n",
    "for i in range(j+1):\n",
    "    print(i)\n",
    "    if i==5:\n",
    "        continue\n"
   ]
  },
  {
   "cell_type": "code",
   "execution_count": null,
   "id": "debb7226",
   "metadata": {},
   "outputs": [],
   "source": [
    "j8=int(input('enter the limit :'))\n",
    "a=0\n",
    "b=1\n",
    "print(b)\n",
    "for i in range(b,j8+1):\n",
    "    sum=a+b\n",
    "    print(sum)\n",
    "    a=b\n",
    "    b=sum\n"
   ]
  },
  {
   "cell_type": "code",
   "execution_count": 19,
   "id": "e043a153",
   "metadata": {},
   "outputs": [
    {
     "name": "stdout",
     "output_type": "stream",
     "text": [
      "enter the limit :8\n",
      "0\n",
      "1\n",
      "2\n",
      "3\n",
      "4\n",
      "5\n",
      "6\n",
      "7\n",
      "8\n"
     ]
    }
   ],
   "source": [
    "j8=int(input('enter the limit :'))\n",
    "for i in range(j8+1):\n",
    "    print(i)\n",
    "    if i==5:\n",
    "        continue"
   ]
  },
  {
   "cell_type": "code",
   "execution_count": 21,
   "id": "8c31c60f",
   "metadata": {},
   "outputs": [
    {
     "name": "stdout",
     "output_type": "stream",
     "text": [
      "enter the limit :8\n",
      "0\n",
      "1\n",
      "2\n",
      "3\n",
      "4\n",
      "5\n",
      "6\n",
      "7\n",
      "8\n"
     ]
    }
   ],
   "source": [
    "f=int(input('enter the limit :'))\n",
    "for i in range (f+1):\n",
    "    print(i)\n",
    "    if i==5:\n",
    "        continue\n",
    "    elif i==7:\n",
    "        continue"
   ]
  },
  {
   "cell_type": "code",
   "execution_count": 23,
   "id": "1cefb28f",
   "metadata": {},
   "outputs": [],
   "source": [
    "n=1\n",
    "n<4\n",
    "pass"
   ]
  },
  {
   "cell_type": "code",
   "execution_count": null,
   "id": "9fb3f16f",
   "metadata": {},
   "outputs": [],
   "source": []
  }
 ],
 "metadata": {
  "kernelspec": {
   "display_name": "Python 3 (ipykernel)",
   "language": "python",
   "name": "python3"
  },
  "language_info": {
   "codemirror_mode": {
    "name": "ipython",
    "version": 3
   },
   "file_extension": ".py",
   "mimetype": "text/x-python",
   "name": "python",
   "nbconvert_exporter": "python",
   "pygments_lexer": "ipython3",
   "version": "3.9.12"
  }
 },
 "nbformat": 4,
 "nbformat_minor": 5
}
