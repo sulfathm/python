{
 "cells": [
  {
   "cell_type": "code",
   "execution_count": 13,
   "id": "67fb8e34",
   "metadata": {},
   "outputs": [
    {
     "name": "stdout",
     "output_type": "stream",
     "text": [
      "hai\n"
     ]
    }
   ],
   "source": [
    "  def example():\n",
    "        print('hai')\n",
    "example()"
   ]
  },
  {
   "cell_type": "code",
   "execution_count": 12,
   "id": "daf99423",
   "metadata": {},
   "outputs": [
    {
     "name": "stdout",
     "output_type": "stream",
     "text": [
      "8\n"
     ]
    }
   ],
   "source": [
    "def sum(a,b):\n",
    "    print(a+b)\n",
    "sum(5,3)\n",
    "    "
   ]
  },
  {
   "cell_type": "code",
   "execution_count": 14,
   "id": "2c1b9c40",
   "metadata": {},
   "outputs": [
    {
     "name": "stdout",
     "output_type": "stream",
     "text": [
      "sulfath 20\n"
     ]
    }
   ],
   "source": [
    "def student(name,age):\n",
    "    print(name,age)\n",
    "student('sulfath',20)"
   ]
  },
  {
   "cell_type": "code",
   "execution_count": 15,
   "id": "8aff4aa5",
   "metadata": {},
   "outputs": [
    {
     "name": "stdout",
     "output_type": "stream",
     "text": [
      "hai sulfath good morning\n"
     ]
    }
   ],
   "source": [
    "def wish(name,msg='good morning'):\n",
    "    print('hai',name+' '+msg)\n",
    "wish('sulfath')"
   ]
  },
  {
   "cell_type": "code",
   "execution_count": 16,
   "id": "87b7381f",
   "metadata": {},
   "outputs": [
    {
     "name": "stdout",
     "output_type": "stream",
     "text": [
      "hai ansaba how are you\n"
     ]
    }
   ],
   "source": [
    "wish ('ansaba','how are you')"
   ]
  },
  {
   "cell_type": "code",
   "execution_count": 17,
   "id": "b94a0afd",
   "metadata": {},
   "outputs": [
    {
     "name": "stdout",
     "output_type": "stream",
     "text": [
      "hai adarsh good night\n"
     ]
    }
   ],
   "source": [
    "wish('adarsh','good night')"
   ]
  },
  {
   "cell_type": "code",
   "execution_count": 19,
   "id": "028a20f3",
   "metadata": {},
   "outputs": [
    {
     "name": "stdout",
     "output_type": "stream",
     "text": [
      "hello\n"
     ]
    }
   ],
   "source": [
    "def example():\n",
    "    print(\"hello\")\n",
    "example()"
   ]
  },
  {
   "cell_type": "code",
   "execution_count": 20,
   "id": "cc015362",
   "metadata": {},
   "outputs": [
    {
     "name": "stdout",
     "output_type": "stream",
     "text": [
      "8\n"
     ]
    }
   ],
   "source": [
    "def some(a,b):\n",
    "    print(a+b)\n",
    "some(5,3)"
   ]
  },
  {
   "cell_type": "code",
   "execution_count": 21,
   "id": "00881429",
   "metadata": {},
   "outputs": [
    {
     "name": "stdout",
     "output_type": "stream",
     "text": [
      "sulfath\n",
      "20\n"
     ]
    }
   ],
   "source": [
    "def student(name,age):\n",
    "    print(name)\n",
    "    print(age)\n",
    "student(\"sulfath\",20)"
   ]
  },
  {
   "cell_type": "code",
   "execution_count": 7,
   "id": "d45b991b",
   "metadata": {},
   "outputs": [
    {
     "name": "stdout",
     "output_type": "stream",
     "text": [
      "hai sulfath good morning\n"
     ]
    }
   ],
   "source": [
    "def wish(name,msg=\"good morning\"):\n",
    "    print('hai',name+\" \"+msg)\n",
    "    \n",
    "    \n",
    "wish(\"sulfath\")"
   ]
  },
  {
   "cell_type": "code",
   "execution_count": 4,
   "id": "c44fc953",
   "metadata": {},
   "outputs": [
    {
     "name": "stdout",
     "output_type": "stream",
     "text": [
      "hello\n"
     ]
    }
   ],
   "source": []
  },
  {
   "cell_type": "code",
   "execution_count": 8,
   "id": "cfccae34",
   "metadata": {},
   "outputs": [
    {
     "name": "stdout",
     "output_type": "stream",
     "text": [
      "hai ansaba how are you\n"
     ]
    }
   ],
   "source": [
    "wish(\"ansaba\",\"how are you\")"
   ]
  },
  {
   "cell_type": "code",
   "execution_count": 10,
   "id": "c1178f66",
   "metadata": {},
   "outputs": [
    {
     "name": "stdout",
     "output_type": "stream",
     "text": [
      "hai adarsh how are you\n"
     ]
    }
   ],
   "source": [
    "wish('adarsh',\"how are you\")"
   ]
  },
  {
   "cell_type": "code",
   "execution_count": 14,
   "id": "3523c029",
   "metadata": {},
   "outputs": [
    {
     "name": "stdout",
     "output_type": "stream",
     "text": [
      "sulfath\n",
      "20\n",
      "ansaba\n",
      "20\n",
      "adarsh\n",
      "24\n"
     ]
    }
   ],
   "source": [
    "def student(name,age):\n",
    "    print(name)\n",
    "    print(age)\n",
    "student(age=20,name=\"sulfath\")\n",
    "student(\"ansaba\",age=20)\n",
    "student(\"adarsh\",age=24)"
   ]
  },
  {
   "cell_type": "code",
   "execution_count": 17,
   "id": "4fe11376",
   "metadata": {},
   "outputs": [
    {
     "ename": "SyntaxError",
     "evalue": "positional argument follows keyword argument (1218445333.py, line 4)",
     "output_type": "error",
     "traceback": [
      "\u001b[1;36m  Input \u001b[1;32mIn [17]\u001b[1;36m\u001b[0m\n\u001b[1;33m    student(age=20,'adarsh')\u001b[0m\n\u001b[1;37m                           ^\u001b[0m\n\u001b[1;31mSyntaxError\u001b[0m\u001b[1;31m:\u001b[0m positional argument follows keyword argument\n"
     ]
    }
   ],
   "source": [
    "def student(name,age):\n",
    "    print(name)\n",
    "    print(age)\n",
    "student(age=20,'adarsh')"
   ]
  },
  {
   "cell_type": "code",
   "execution_count": 1,
   "id": "ec4926b9",
   "metadata": {},
   "outputs": [
    {
     "name": "stdout",
     "output_type": "stream",
     "text": [
      "13\n",
      "-3\n"
     ]
    }
   ],
   "source": [
    "def sum(a,b):\n",
    "    print(a+b)\n",
    "    print(a-b)\n",
    "sum(5,8)"
   ]
  },
  {
   "cell_type": "code",
   "execution_count": 2,
   "id": "790aa849",
   "metadata": {},
   "outputs": [
    {
     "name": "stdout",
     "output_type": "stream",
     "text": [
      "raju\n",
      "5000\n"
     ]
    }
   ],
   "source": [
    "def employee(name,salary):\n",
    "    print(name)\n",
    "    print(salary)\n",
    "employee('raju',5000)"
   ]
  },
  {
   "cell_type": "code",
   "execution_count": 15,
   "id": "eab01972",
   "metadata": {},
   "outputs": [
    {
     "name": "stdout",
     "output_type": "stream",
     "text": [
      "raju\n",
      "9000\n"
     ]
    }
   ],
   "source": [
    "def employee(name,salary=9000):\n",
    "    print(name)\n",
    "    print(salary)\n",
    "employee('raju')\n"
   ]
  },
  {
   "cell_type": "code",
   "execution_count": 17,
   "id": "32944c10",
   "metadata": {},
   "outputs": [
    {
     "name": "stdout",
     "output_type": "stream",
     "text": [
      "raju\n",
      "5000\n"
     ]
    }
   ],
   "source": [
    "def employee(name,salary):\n",
    "    print(name)\n",
    "    print(salary)\n",
    "employee(\"raju\",5000)\n",
    "    "
   ]
  },
  {
   "cell_type": "code",
   "execution_count": 18,
   "id": "301d73ec",
   "metadata": {},
   "outputs": [
    {
     "name": "stdout",
     "output_type": "stream",
     "text": [
      "raju\n",
      "9000\n"
     ]
    }
   ],
   "source": [
    "def employee(name,salary=9000):\n",
    "    print(name)\n",
    "    print(salary)\n",
    "employee(\"raju\")"
   ]
  },
  {
   "cell_type": "code",
   "execution_count": 24,
   "id": "dc1aecb7",
   "metadata": {},
   "outputs": [
    {
     "name": "stdout",
     "output_type": "stream",
     "text": [
      "4\n"
     ]
    }
   ],
   "source": [
    "a=lambda x:x*2\n",
    "print(a(2))"
   ]
  },
  {
   "cell_type": "code",
   "execution_count": 34,
   "id": "f3f6f3b4",
   "metadata": {},
   "outputs": [
    {
     "name": "stdout",
     "output_type": "stream",
     "text": [
      "[2, 4, 6]\n"
     ]
    }
   ],
   "source": [
    "#filter \n",
    "a=[1,2,3,4,5,6]\n",
    "l=list(filter(lambda x:x%2==0,a))\n",
    "       \n",
    "print(l)"
   ]
  },
  {
   "cell_type": "code",
   "execution_count": null,
   "id": "24cf300a",
   "metadata": {},
   "outputs": [],
   "source": []
  },
  {
   "cell_type": "code",
   "execution_count": 32,
   "id": "bc312817",
   "metadata": {},
   "outputs": [
    {
     "name": "stdout",
     "output_type": "stream",
     "text": [
      "[2, 4, 6, 8, 10, 12]\n"
     ]
    }
   ],
   "source": [
    "#map\n",
    "l=list(map(lambda x:(x*2),a))\n",
    "print(l)"
   ]
  },
  {
   "cell_type": "code",
   "execution_count": 37,
   "id": "8663b1e2",
   "metadata": {},
   "outputs": [
    {
     "name": "stdout",
     "output_type": "stream",
     "text": [
      "4\n"
     ]
    }
   ],
   "source": [
    "b=lambda y:y*2\n",
    "print(b(2))"
   ]
  },
  {
   "cell_type": "code",
   "execution_count": 38,
   "id": "50963a62",
   "metadata": {},
   "outputs": [
    {
     "name": "stdout",
     "output_type": "stream",
     "text": [
      "[2, 4, 6]\n"
     ]
    }
   ],
   "source": [
    "b=[1,2,3,4,5,6]\n",
    "l=list(filter(lambda y:y%2==0,b))\n",
    "print(l)"
   ]
  },
  {
   "cell_type": "code",
   "execution_count": 39,
   "id": "d6947b19",
   "metadata": {},
   "outputs": [
    {
     "name": "stdout",
     "output_type": "stream",
     "text": [
      "[2, 4, 6, 8, 10, 12]\n"
     ]
    }
   ],
   "source": [
    "l=list(map(lambda y:y*2,b))\n",
    "print(l)"
   ]
  },
  {
   "cell_type": "code",
   "execution_count": 40,
   "id": "6a968d67",
   "metadata": {},
   "outputs": [
    {
     "name": "stdout",
     "output_type": "stream",
     "text": [
      "[1, 4, 9, 16, 25, 36, 49, 64, 81]\n"
     ]
    }
   ],
   "source": [
    "#to find square of numbers by using map\n",
    "g=[1,2,3,4,5,6,7,8,9]\n",
    "p=list(map(lambda x:x**2,g))\n",
    "print(p)"
   ]
  },
  {
   "cell_type": "code",
   "execution_count": 41,
   "id": "aa6a99a2",
   "metadata": {},
   "outputs": [
    {
     "name": "stdout",
     "output_type": "stream",
     "text": [
      "[3, 6, 9]\n"
     ]
    }
   ],
   "source": [
    "f=list(filter(lambda x:x%3==0,g))\n",
    "print(f)"
   ]
  },
  {
   "cell_type": "code",
   "execution_count": 42,
   "id": "1a46ad57",
   "metadata": {},
   "outputs": [
    {
     "name": "stdout",
     "output_type": "stream",
     "text": [
      "[1, 4, 9, 16, 25, 36, 49, 64, 81, 100, 121, 144, 169, 196, 225, 256, 289, 324, 361, 400]\n"
     ]
    }
   ],
   "source": [
    "h=[1,2,3,4,5,6,7,8,9,10,11,12,13,14,15,16,17,18,19,20]\n",
    "y=list(map(lambda x:x**2,h))\n",
    "print(y)"
   ]
  },
  {
   "cell_type": "code",
   "execution_count": 46,
   "id": "ee717fe8",
   "metadata": {},
   "outputs": [
    {
     "name": "stdout",
     "output_type": "stream",
     "text": [
      "[1, 4, 9, 16, 25, 36, 49, 64, 81, 100, 121, 144, 169, 196, 225, 256, 289, 324, 361, 400]\n"
     ]
    }
   ],
   "source": [
    "k=[1,2,3,4,5,6,7,8,9,10,11,12,13,14,15,16,17,18,19,20]\n",
    "u=list(map(lambda z:z**2,k))\n",
    "print(u)\n",
    "   "
   ]
  },
  {
   "cell_type": "code",
   "execution_count": 68,
   "id": "a61de547",
   "metadata": {},
   "outputs": [
    {
     "name": "stdout",
     "output_type": "stream",
     "text": [
      "[2, 4, 6, 8, 10, 12, 14, 16, 18, 20]\n"
     ]
    }
   ],
   "source": [
    "t=list(filter(lambda r:r%2==0,k))\n",
    "print(t)"
   ]
  },
  {
   "cell_type": "code",
   "execution_count": 70,
   "id": "cdf85e2b",
   "metadata": {},
   "outputs": [
    {
     "name": "stdout",
     "output_type": "stream",
     "text": [
      "[1, 3, 5, 7, 9, 11, 13, 15, 17, 19]\n"
     ]
    }
   ],
   "source": [
    "d=list(filter(lambda r:r%2==1,k))\n",
    "print(d)"
   ]
  },
  {
   "cell_type": "code",
   "execution_count": 71,
   "id": "a5d96543",
   "metadata": {},
   "outputs": [
    {
     "name": "stdout",
     "output_type": "stream",
     "text": [
      "[4, 16, 36, 64, 100, 144, 196, 256, 324, 400, 1, 9, 25, 49, 81, 121, 169, 225, 289, 361]\n"
     ]
    }
   ],
   "source": [
    "d1=list(map(lambda x:x**2,t+d))\n",
    "print(d1)"
   ]
  },
  {
   "cell_type": "code",
   "execution_count": null,
   "id": "ebe3c821",
   "metadata": {},
   "outputs": [],
   "source": []
  }
 ],
 "metadata": {
  "kernelspec": {
   "display_name": "Python 3 (ipykernel)",
   "language": "python",
   "name": "python3"
  },
  "language_info": {
   "codemirror_mode": {
    "name": "ipython",
    "version": 3
   },
   "file_extension": ".py",
   "mimetype": "text/x-python",
   "name": "python",
   "nbconvert_exporter": "python",
   "pygments_lexer": "ipython3",
   "version": "3.9.12"
  }
 },
 "nbformat": 4,
 "nbformat_minor": 5
}
