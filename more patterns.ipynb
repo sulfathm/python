{
 "cells": [
  {
   "cell_type": "code",
   "execution_count": 9,
   "id": "44429c58",
   "metadata": {},
   "outputs": [
    {
     "name": "stdout",
     "output_type": "stream",
     "text": [
      "        \n",
      "        *\n",
      "       * *\n",
      "      * * *\n",
      "     * * * *\n",
      "    * * * * *\n",
      "   * * * * * *\n",
      "  * * * * * * *\n",
      "*"
     ]
    }
   ],
   "source": [
    "row=8\n",
    "def triangleshape():\n",
    "    for i in range(row):\n",
    "        print(\" \"*(row-i)+\" *\"*i)\n",
    "def poleshape():\n",
    "    for i in range(row):\n",
    "        for j in range(row):\n",
    "            if (i==0 and j==2):\n",
    "                print(\"*\",end=\"\")\n",
    "            \n",
    "triangleshape()\n",
    "poleshape()"
   ]
  },
  {
   "cell_type": "code",
   "execution_count": 13,
   "id": "8f3d54eb",
   "metadata": {},
   "outputs": [],
   "source": [
    "def poleshape():\n",
    "    for i in range(row):\n",
    "        for j in range(row):\n",
    "            if (i==0 and j==2):\n",
    "                print(\"*\",end=\"\")\n",
    "poleshape()"
   ]
  },
  {
   "cell_type": "code",
   "execution_count": 19,
   "id": "6897a9ee",
   "metadata": {},
   "outputs": [
    {
     "name": "stdout",
     "output_type": "stream",
     "text": [
      "      \n",
      "      \n",
      "      \n",
      "      \n",
      "      \n",
      "      \n",
      "  **  \n",
      "  **  \n",
      "  **  \n"
     ]
    }
   ],
   "source": [
    "n=8\n",
    "for row in range(0,n+1):\n",
    "    for col in range(0,n+1-3):\n",
    "        if (row==6 and col>1 and col<4) or (row==7 and col>1 and col<4)or (row==8 and col>1 and col<4):\n",
    "            print(\"*\",end=\"\")\n",
    "        else:\n",
    "            print(\" \",end=\"\")\n",
    "    print()"
   ]
  },
  {
   "cell_type": "code",
   "execution_count": 29,
   "id": "b2c70531",
   "metadata": {},
   "outputs": [
    {
     "name": "stdout",
     "output_type": "stream",
     "text": [
      "    \n",
      "    *\n",
      "   * *\n",
      "  * * *\n",
      "\n",
      "    *\n",
      "   * *\n",
      "  * * *\n",
      "\n",
      "  **  \n",
      "  **  \n",
      "  **  \n",
      "      \n",
      "      \n",
      "      \n",
      "      \n",
      "      \n",
      "      \n"
     ]
    }
   ],
   "source": [
    "\n",
    "raw=3\n",
    "for i in range(raw+1):\n",
    "    print(\" \"*(raw+1-i)+\" *\"*i)\n",
    "print()\n",
    "for i in range(1,raw+1):\n",
    "    print(\" \"*(raw+1-i)+\" *\"*i)\n",
    "print()\n",
    "n=8\n",
    "for row in range(0,n+1):\n",
    "    for col in range(0,n+1-3):\n",
    "        if (row==0 and col>1 and col<4) or (row==1 and col>1 and col<4)or (row==2 and col>1 and col<4):\n",
    "            print(\"*\",end=\"\")\n",
    "        else:\n",
    "            print(\" \",end=\"\")\n",
    "    print()"
   ]
  },
  {
   "cell_type": "code",
   "execution_count": 39,
   "id": "a9465ccb",
   "metadata": {},
   "outputs": [
    {
     "name": "stdout",
     "output_type": "stream",
     "text": [
      "        \n",
      "        *\n",
      "       * *\n",
      "      * * *\n",
      "     * * * *\n",
      "    * * * * *\n",
      "   * * * * * *\n",
      "  * * * * * * *\n",
      "        \n",
      "        *\n",
      "       * *\n",
      "      * * *\n",
      "     * * * *\n",
      "    * * * * *\n",
      "   * * * * * *\n",
      "  * * * * * * *\n",
      "    \n",
      "    *\n",
      "   * *\n",
      "  * * *\n"
     ]
    }
   ],
   "source": [
    "s=7\n",
    "def triangleShape(s):\n",
    "    for i in range(s):\n",
    "        for j in range(s-i):\n",
    "            print(' ', end=' ')\n",
    "        for k in range(2*i+1):\n",
    "            print('*',end=' ')\n",
    "        print()\n",
    "def poleShape(n):\n",
    "    for i in range(n):\n",
    "        for j in range(n-1):\n",
    "            print(' ', end=' ')\n",
    "        print('* * *')\n",
    "\n",
    "triangleshape()\n",
    "triangleshape()\n",
    "poleshape()"
   ]
  },
  {
   "cell_type": "code",
   "execution_count": 43,
   "id": "31dac876",
   "metadata": {},
   "outputs": [
    {
     "name": "stdout",
     "output_type": "stream",
     "text": [
      "\n",
      "\n",
      "\n",
      "\n",
      "\n",
      "*\n",
      " *\n",
      " **\n"
     ]
    }
   ],
   "source": [
    "row=8\n",
    "for row in range(0,row):\n",
    "    for col in range(0,row-4):\n",
    "        if (row==0 and col==2) or (row==1 and col<4 and col>0) or (row==2) or (row==3 and col==2) or (row==4 and col<4 and col>0) or (row==5) or (row==6 and col<4 and col>0) or  (row==7 and col<4 and col>0) or  (row==8 and col<4 and col>0):\n",
    "            print(\"*\",end=\"\")\n",
    "        else:\n",
    "            print(\" \",end=\"\")\n",
    "    print()"
   ]
  },
  {
   "cell_type": "code",
   "execution_count": 44,
   "id": "68b3f9ef",
   "metadata": {},
   "outputs": [
    {
     "name": "stdout",
     "output_type": "stream",
     "text": [
      "\n",
      " \n",
      "  \n",
      "   \n",
      "    \n",
      "     \n",
      "      \n",
      "       \n"
     ]
    }
   ],
   "source": [
    "row=8\n",
    "for row in range(0,row):\n",
    "    for col in range(0,row):\n",
    "        if (row==0 and col==2):\n",
    "            print(\"*\",end=\"\")\n",
    "        else:\n",
    "            print(\" \",end=\"\")\n",
    "    print()"
   ]
  },
  {
   "cell_type": "code",
   "execution_count": 60,
   "id": "a11e1203",
   "metadata": {},
   "outputs": [
    {
     "name": "stdout",
     "output_type": "stream",
     "text": [
      "Enter number of rows: 5\n",
      "          * \n",
      "        * * * \n",
      "      * * * * * \n",
      "    * * * * * * * \n",
      "  * * * * * * * * * \n",
      "          * \n",
      "        * * * \n",
      "      * * * * * \n",
      "    * * * * * * * \n",
      "  * * * * * * * * * \n",
      "        * * *\n",
      "        * * *\n",
      "        * * *\n",
      "        * * *\n",
      "        * * *\n"
     ]
    }
   ],
   "source": [
    "def triangleShape(row):\n",
    "    for i in range(row):\n",
    "        for j in range(row-i):\n",
    "            print(' ', end=' ')\n",
    "        for j in range(2*i+1):\n",
    "            print('*',end=' ')\n",
    "        print()\n",
    "\n",
    "# Generating Pole Shape\n",
    "def poleShape(row):\n",
    "    for i in range(row):\n",
    "        for j in range(row-1):\n",
    "            print(' ', end=' ')\n",
    "        print('* * *')\n",
    "\n",
    "# Input and Function Call\n",
    "row = int(input('Enter number of rows: '))\n",
    "\n",
    "triangleShape(row)\n",
    "triangleShape(row)\n",
    "poleShape(row)"
   ]
  },
  {
   "cell_type": "code",
   "execution_count": 57,
   "id": "47f1e7ef",
   "metadata": {},
   "outputs": [
    {
     "name": "stdout",
     "output_type": "stream",
     "text": [
      "Enter number of rows: 6\n",
      "            *           * * *         * * * * *       * * * * * * *     * * * * * * * * *   * * * * * * * * * * *           * * *\n",
      "          * * *\n",
      "          * * *\n",
      "          * * *\n",
      "          * * *\n",
      "          * * *\n"
     ]
    }
   ],
   "source": [
    "row=8\n",
    "def triangleshape():\n",
    "    for i in range(row):\n",
    "        print(\" \"*(row-i)+\" *\"*i)\n",
    "def poleShape(n):\n",
    "    for i in range(n):\n",
    "        for j in range(n-1):\n",
    "            print(' ', end=' ')\n",
    "        print('* * *')\n",
    "\n",
    "# Input and Function Call\n",
    "row = int(input('Enter number of rows: '))\n",
    "triangleShape(row)\n",
    "poleShape(row)\n",
    "\n"
   ]
  },
  {
   "cell_type": "code",
   "execution_count": 59,
   "id": "950496d3",
   "metadata": {},
   "outputs": [
    {
     "name": "stdout",
     "output_type": "stream",
     "text": [
      "        \n",
      "        *\n",
      "       * *\n",
      "      * * *\n",
      "     * * * *\n",
      "    * * * * *\n",
      "   * * * * * *\n",
      "  * * * * * * *\n",
      "\n",
      "        \n",
      "        *\n",
      "       * *\n",
      "      * * *\n",
      "     * * * *\n",
      "    * * * * *\n",
      "   * * * * * *\n",
      "  * * * * * * *\n",
      "\n"
     ]
    }
   ],
   "source": [
    "row=8\n",
    "def triangleshape():\n",
    "    for i in range(row):\n",
    "        print(\" \"*(row-i)+\" *\"*i)\n",
    "    print()\n",
    "triangleshape()\n",
    "triangleshape()"
   ]
  },
  {
   "cell_type": "code",
   "execution_count": 11,
   "id": "6c486ed4",
   "metadata": {},
   "outputs": [
    {
     "name": "stdout",
     "output_type": "stream",
     "text": [
      "\n",
      "*\n",
      "**\n",
      "***\n",
      "****\n",
      "*****\n",
      "****\n",
      "***\n",
      "**\n",
      "*\n",
      "\n",
      "\n"
     ]
    }
   ],
   "source": [
    "n=5\n",
    "for i in range(n+1):\n",
    "    print(\"\"*(n-i)+\"*\"*i)\n",
    "\n",
    "for i in range(1,n+1):\n",
    "    print(\"\"*i+\"*\"*(n-i))\n",
    "print()"
   ]
  },
  {
   "cell_type": "code",
   "execution_count": 20,
   "id": "e9820a49",
   "metadata": {},
   "outputs": [
    {
     "name": "stdout",
     "output_type": "stream",
     "text": [
      "1\n",
      "22\n",
      "333\n",
      "4444\n",
      "55555\n"
     ]
    }
   ],
   "source": [
    "n=5\n",
    "for i in range(1,n+1):\n",
    "    for j in range(i):\n",
    "        print(i,end=\"\")\n",
    "    for j in range(n-i):\n",
    "        print(\"\",end=\"\")\n",
    "    print()"
   ]
  },
  {
   "cell_type": "code",
   "execution_count": 21,
   "id": "39ca47b4",
   "metadata": {},
   "outputs": [
    {
     "name": "stdout",
     "output_type": "stream",
     "text": [
      "1\n",
      "23\n",
      "345\n",
      "4567\n",
      "56789\n"
     ]
    }
   ],
   "source": [
    "n=5\n",
    "for i in range(1,n+1):\n",
    "    for j in range(i):\n",
    "        print(j+i,end=\"\")\n",
    "    for j in range(n-i):\n",
    "        print(\"\",end=\"\")\n",
    "    print()"
   ]
  },
  {
   "cell_type": "code",
   "execution_count": 29,
   "id": "95ad97fb",
   "metadata": {},
   "outputs": [
    {
     "name": "stdout",
     "output_type": "stream",
     "text": [
      "1     \n",
      "1 2    \n",
      "1 2 3   \n",
      "1 2 3 4  \n",
      "1 2 3 4 5 \n"
     ]
    }
   ],
   "source": [
    "n=5\n",
    "for i in range(1,n+1):\n",
    "    for j in range(1,i+1):\n",
    "        print(j,end=\" \")\n",
    "    for j in range(n-i):\n",
    "        print(\" \",end=\"\")\n",
    "    print()"
   ]
  },
  {
   "cell_type": "code",
   "execution_count": 33,
   "id": "3fe489ef",
   "metadata": {},
   "outputs": [
    {
     "name": "stdout",
     "output_type": "stream",
     "text": [
      "1 1 1 1 \n",
      "2 2 2 \n",
      "3 3 \n",
      "4 \n",
      "\n"
     ]
    }
   ],
   "source": [
    "n=5\n",
    "for i in range(1,n+1):\n",
    "    for j in range(i):\n",
    "        print(\"\",end=\"\")\n",
    "    for j in range(n-i):\n",
    "        print(i,end=\" \")\n",
    "    print()"
   ]
  },
  {
   "cell_type": "code",
   "execution_count": 40,
   "id": "4c4a8ba8",
   "metadata": {},
   "outputs": [
    {
     "name": "stdout",
     "output_type": "stream",
     "text": [
      "6 6 6 6 6 6 \n",
      "6 6 6 6 6 \n",
      "6 6 6 6 \n",
      "6 6 6 \n",
      "6 6 \n",
      "6 \n"
     ]
    }
   ],
   "source": [
    "n=6\n",
    "for i in range(n,0,-1):\n",
    "    for j in range(0,i):\n",
    "        print(n,end=\" \")\n",
    "    for j in range(0,i):\n",
    "        print(\"\",end=\"\")\n",
    "    print()"
   ]
  },
  {
   "cell_type": "code",
   "execution_count": null,
   "id": "62207f0d",
   "metadata": {},
   "outputs": [],
   "source": []
  }
 ],
 "metadata": {
  "kernelspec": {
   "display_name": "Python 3 (ipykernel)",
   "language": "python",
   "name": "python3"
  },
  "language_info": {
   "codemirror_mode": {
    "name": "ipython",
    "version": 3
   },
   "file_extension": ".py",
   "mimetype": "text/x-python",
   "name": "python",
   "nbconvert_exporter": "python",
   "pygments_lexer": "ipython3",
   "version": "3.9.12"
  }
 },
 "nbformat": 4,
 "nbformat_minor": 5
}
