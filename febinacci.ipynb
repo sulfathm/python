{
 "cells": [
  {
   "cell_type": "code",
   "execution_count": null,
   "id": "03c08601",
   "metadata": {},
   "outputs": [],
   "source": [
    "#febinacci series\n",
    "t=int(input(\"enter the limit\"))\n",
    " a=0\n",
    " b=1\n",
    " print(b)\n",
    " for i in range(b,t+1):\n",
    "    sum=a+b\n",
    "    a=b\n",
    "    b=sum\n",
    "print(sum)"
   ]
  },
  {
   "cell_type": "code",
   "execution_count": null,
   "id": "d33d62ea",
   "metadata": {},
   "outputs": [],
   "source": [
    "t=int(input('enter the limit :'))\n",
    "a=0\n",
    "b=1\n",
    "print(b)\n",
    "for i in range(b,t+1):\n",
    "    sum=a+b\n",
    "    a=b\n",
    "    b=sum\n",
    "    print(sum)\n"
   ]
  },
  {
   "cell_type": "code",
   "execution_count": null,
   "id": "26975c20",
   "metadata": {},
   "outputs": [],
   "source": [
    "#breakfunction\n",
    "f=int(input('eter the limit'))\n",
    "      \n",
    "\n",
    "for i in range(f+1):\n",
    "    print(i)\n",
    "    if i==5:\n",
    "        break\n",
    "        \n",
    "        \n",
    "    \n",
    "    \n",
    "    "
   ]
  },
  {
   "cell_type": "code",
   "execution_count": null,
   "id": "a6cb6ff7",
   "metadata": {},
   "outputs": [],
   "source": [
    "f=int(input('entr the limt :'))\n",
    "\n",
    "for i in range(f+1):\n",
    "    \n",
    "    if i==5:\n",
    "        continue\n",
    "        \n",
    "        \n",
    "    print(i)\n",
    "    \n",
    "    "
   ]
  },
  {
   "cell_type": "code",
   "execution_count": null,
   "id": "2dc971e0",
   "metadata": {},
   "outputs": [],
   "source": [
    "nterms=int(input('enter the limit'))\n",
    "n=0\n",
    "n1=1\n",
    "count=0\n",
    "while count<nterms:\n",
    "    print(n1)\n",
    "    a=n+n1\n",
    "    n=n1\n",
    "    n1=a\n",
    "    count+=1"
   ]
  },
  {
   "cell_type": "code",
   "execution_count": null,
   "id": "74fab2cb",
   "metadata": {},
   "outputs": [],
   "source": [
    "y=int(input('enter the numbers :))\n",
    "reverse=0\n",
    "while (y>0):\n",
    "            reminder=y%1\n",
    "            reverse=(reverse*10)+reminder\n",
    "            y=y//10\n",
    "            print(y)\n",
    "\n",
    "    "
   ]
  },
  {
   "cell_type": "code",
   "execution_count": null,
   "id": "fe8cf441",
   "metadata": {},
   "outputs": [],
   "source": [
    "num=12345\n",
    "reverse=0\n",
    "while num!=0:\n",
    "    digit=num%10\n",
    "    reverse=reverse*10+digit\n",
    "    num//=10\n",
    "print(str(reverse))\n",
    "    \n"
   ]
  },
  {
   "cell_type": "markdown",
   "id": "9ffa242d",
   "metadata": {},
   "source": [
    "\n"
   ]
  },
  {
   "cell_type": "code",
   "execution_count": null,
   "id": "4adf2f7b",
   "metadata": {},
   "outputs": [],
   "source": [
    "num=12345678910"
   ]
  },
  {
   "cell_type": "code",
   "execution_count": null,
   "id": "0569b4cd",
   "metadata": {},
   "outputs": [],
   "source": [
    "reverse=0\n",
    "while num!=0:\n",
    "    digit=num%10\n",
    "    reverse=reverse*10+digit\n",
    "    num//=10\n",
    "print(str(reverse))"
   ]
  },
  {
   "cell_type": "code",
   "execution_count": null,
   "id": "b7c702bc",
   "metadata": {},
   "outputs": [],
   "source": [
    "#armstrong number\n",
    "l=int(input('enter number'))  \n",
    "count=0\n",
    "while l!=0:\n",
    "    digit=l%10\n",
    "    count=count+digit**3\n",
    "    l//=10\n",
    "print(str(count)+'the number is armstrong')\n",
    "print(str(count)+'the number is not armstrong')\n",
    "    \n"
   ]
  },
  {
   "cell_type": "code",
   "execution_count": 7,
   "id": "0e30c9ba",
   "metadata": {},
   "outputs": [
    {
     "name": "stdout",
     "output_type": "stream",
     "text": [
      "starting range :1\n",
      "ending range :5\n",
      "120\n"
     ]
    }
   ],
   "source": [
    "#factorial with while loop\n",
    "u=int(input('starting range :'))\n",
    "v=int(input('ending range :'))\n",
    "s=1\n",
    "for i in range(u,v+1):\n",
    "    s=s*i\n",
    "print(s)\n",
    "\n",
    "\n"
   ]
  },
  {
   "cell_type": "code",
   "execution_count": 9,
   "id": "dac082d1",
   "metadata": {},
   "outputs": [
    {
     "name": "stdout",
     "output_type": "stream",
     "text": [
      "enter the first number10\n",
      "enter the last number900\n",
      "405405\n"
     ]
    }
   ],
   "source": [
    "#sum of natural numbers\n",
    "r=int(input('enter the first number'))\n",
    "s=int(input('enter the last number'))\n",
    "m=0\n",
    "for i in range(r,s+1):\n",
    "    m=m+i\n",
    "print(m)"
   ]
  },
  {
   "cell_type": "code",
   "execution_count": null,
   "id": "49accfae",
   "metadata": {},
   "outputs": [],
   "source": []
  }
 ],
 "metadata": {
  "kernelspec": {
   "display_name": "Python 3 (ipykernel)",
   "language": "python",
   "name": "python3"
  },
  "language_info": {
   "codemirror_mode": {
    "name": "ipython",
    "version": 3
   },
   "file_extension": ".py",
   "mimetype": "text/x-python",
   "name": "python",
   "nbconvert_exporter": "python",
   "pygments_lexer": "ipython3",
   "version": "3.9.12"
  }
 },
 "nbformat": 4,
 "nbformat_minor": 5
}
