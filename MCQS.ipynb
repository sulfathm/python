{
 "cells": [
  {
   "cell_type": "code",
   "execution_count": 2,
   "id": "3493658a",
   "metadata": {},
   "outputs": [
    {
     "ename": "SyntaxError",
     "evalue": "invalid syntax (3642067137.py, line 3)",
     "output_type": "error",
     "traceback": [
      "\u001b[1;36m  Input \u001b[1;32mIn [2]\u001b[1;36m\u001b[0m\n\u001b[1;33m    a Wick van Rossum\u001b[0m\n\u001b[1;37m      ^\u001b[0m\n\u001b[1;31mSyntaxError\u001b[0m\u001b[1;31m:\u001b[0m invalid syntax\n"
     ]
    }
   ],
   "source": [
    "#1\n",
    "1. Who developed Python Programming Language?\n",
    "a. Wick van Rossum\n",
    "b. Rasmus Lerdorf\n",
    "c. Guido van Rossum\n",
    "d Niene Stom\n",
    "\n",
    "correct answer is option c\n"
   ]
  },
  {
   "cell_type": "code",
   "execution_count": null,
   "id": "db03ed35",
   "metadata": {},
   "outputs": [],
   "source": [
    "#2\n",
    "2. Which type of Programming does Python support?\n",
    "a) object-oriented programming\n",
    "b) structured programming\n",
    "c) functional programming\n",
    "d) all of the mentioned\n",
    "\n",
    "\n",
    "ANS option d. "
   ]
  },
  {
   "cell_type": "code",
   "execution_count": null,
   "id": "18fa62ab",
   "metadata": {},
   "outputs": [],
   "source": [
    "#3\n",
    "3. Is Python case sensitive when dealing with identifiers?\n",
    "a) no\n",
    "b) yes\n",
    "c) machine dependent\n",
    "d) none of the mentioned\n",
    "\n",
    "Answer: a\n",
    "Explanation: Case is always significant.\n"
   ]
  },
  {
   "cell_type": "code",
   "execution_count": null,
   "id": "b181a352",
   "metadata": {},
   "outputs": [],
   "source": [
    "#4\n",
    "4. Which of the following is the correct extension of the Python file?\n",
    "a) .python\n",
    "b) .pl\n",
    "c) .py\n",
    "d) .p\n",
    "\n",
    "ans option c"
   ]
  },
  {
   "cell_type": "code",
   "execution_count": null,
   "id": "177a41f7",
   "metadata": {},
   "outputs": [],
   "source": [
    "#5\n",
    "6. All keywords in Python are in _________\n",
    "a) Capitalized\n",
    "b) lower case\n",
    "c) UPPER CASE\n",
    "d) None of the mentioned\n",
    "\n",
    "ans d "
   ]
  },
  {
   "cell_type": "code",
   "execution_count": null,
   "id": "16fa965d",
   "metadata": {},
   "outputs": [],
   "source": [
    "6.What will be the value of the following Python expression?\n",
    "\n",
    "4 + 3 % 5\n",
    "\n",
    "\n",
    "Answer: a\n",
    "Explanation: The order of precedence is: %, +. Hence the expression above, on simplification results in 4 + 3 = 7. "
   ]
  },
  {
   "cell_type": "code",
   "execution_count": null,
   "id": "6ba459cf",
   "metadata": {},
   "outputs": [],
   "source": [
    "7.Which of the following is used to define a block of code in Python language?\n",
    "a) Indentation\n",
    "b) Key\n",
    "c) Brackets\n",
    "d) All of the mentioned\n",
    "\n",
    "\n",
    "ans a"
   ]
  },
  {
   "cell_type": "code",
   "execution_count": null,
   "id": "dfe94b3c",
   "metadata": {},
   "outputs": [],
   "source": [
    "8. Which keyword is used for function in Python language?\n",
    "a) Function\n",
    "b) Def\n",
    "c) Fun\n",
    "d) Define\n",
    "\n",
    "ans b"
   ]
  },
  {
   "cell_type": "code",
   "execution_count": null,
   "id": "45a1834b",
   "metadata": {},
   "outputs": [],
   "source": [
    "9. Which of the following character is used to give single-line comments in Python?\n",
    "a) //\n",
    "b) #\n",
    "c) !\n",
    "d) /*\n",
    "\n",
    "ans b"
   ]
  },
  {
   "cell_type": "code",
   "execution_count": null,
   "id": "e7ce4a2b",
   "metadata": {},
   "outputs": [],
   "source": [
    "10. What will be the output of the following Python code?\n",
    "\n",
    "i = 1\n",
    "while True:\n",
    "    if i%3 == 0:\n",
    "        break\n",
    "    print(i)\n",
    " \n",
    "    i + = 1\n",
    "a) 1 2 3\n",
    "b) error\n",
    "c) 1 2\n",
    "d) none of the mentioned\n",
    "\n",
    "Answer: b\n",
    "Explanation: SyntaxError, there shouldn’t be a space between + and = in +=."
   ]
  },
  {
   "cell_type": "code",
   "execution_count": null,
   "id": "051961b6",
   "metadata": {},
   "outputs": [],
   "source": [
    "11. Python supports the creation of anonymous functions at runtime, using a construct called __________\n",
    "a) pi\n",
    "b) anonymous\n",
    "c) lambda\n",
    "d) none of the mentioned\n",
    "\n",
    "\n",
    "Answer: c\n",
    "Explanation: Python supports the creation of anonymous functions (i.e. functions that are not bound to a name) at runtime, using a construct called lambda. Lambda functions are restricted to a single expression. They can be used wherever normal functions can be used."
   ]
  },
  {
   "cell_type": "code",
   "execution_count": null,
   "id": "7acb6ebf",
   "metadata": {},
   "outputs": [],
   "source": [
    "12. 14. What is the order of precedence in python?\n",
    "a) Exponential, Parentheses, Multiplication, Division, Addition, Subtraction\n",
    "b) Exponential, Parentheses, Division, Multiplication, Addition, Subtraction\n",
    "c) Parentheses, Exponential, Multiplication, Division, Subtraction, Addition\n",
    "d) Parentheses, Exponential, Multiplication, Division, Addition, Subtraction\n",
    "\n",
    "\n",
    "ans d"
   ]
  },
  {
   "cell_type": "code",
   "execution_count": null,
   "id": "7c876b13",
   "metadata": {},
   "outputs": [],
   "source": [
    "13. What will be the output of the following Python code snippet if x=1?\n",
    "\n",
    "x<<2\n",
    "a) 4\n",
    "b) 2\n",
    "c) 1\n",
    "d) 8\n",
    "\n",
    "ans a"
   ]
  },
  {
   "cell_type": "code",
   "execution_count": null,
   "id": "8c8eda23",
   "metadata": {},
   "outputs": [],
   "source": [
    "14. What are the values of the following Python expressions?\n",
    "\n",
    " 2**(3**2)\n",
    " (2**3)**2\n",
    " 2**3**2\n",
    "a) 512, 64, 512\n",
    "b) 512, 512, 512\n",
    "c) 64, 512, 64\n",
    "d) 64, 64, 64\n",
    "\n",
    "\n",
    "ans a"
   ]
  },
  {
   "cell_type": "code",
   "execution_count": null,
   "id": "0bad0296",
   "metadata": {},
   "outputs": [],
   "source": [
    "15. Which of the following is the truncation division operator in Python?\n",
    "a) |\n",
    "b) //\n",
    "c) /\n",
    "d) %\n",
    "\n",
    "\n",
    "ans b"
   ]
  },
  {
   "cell_type": "code",
   "execution_count": null,
   "id": "b2da4662",
   "metadata": {},
   "outputs": [],
   "source": [
    "16. What will be the output of the following Python code?\n",
    "\n",
    "l=[1, 0, 2, 0, 'hello', '', []]\n",
    "list(filter(bool, l))\n",
    "a) [1, 0, 2, ‘hello’, ”, []]\n",
    "b) Error\n",
    "c) [1, 2, ‘hello’]\n",
    "d) [1, 0, 2, 0, ‘hello’, ”, []]\n",
    "\n",
    "\n",
    "ans Answer: c\n",
    "Explanation: The code shown above returns a new list containing only those elements of the list l which do not amount to zero. Hence the output is: [1, 2, ‘hello’].\n"
   ]
  },
  {
   "cell_type": "code",
   "execution_count": null,
   "id": "55e93ed2",
   "metadata": {},
   "outputs": [],
   "source": []
  }
 ],
 "metadata": {
  "kernelspec": {
   "display_name": "Python 3 (ipykernel)",
   "language": "python",
   "name": "python3"
  },
  "language_info": {
   "codemirror_mode": {
    "name": "ipython",
    "version": 3
   },
   "file_extension": ".py",
   "mimetype": "text/x-python",
   "name": "python",
   "nbconvert_exporter": "python",
   "pygments_lexer": "ipython3",
   "version": "3.9.12"
  }
 },
 "nbformat": 4,
 "nbformat_minor": 5
}
