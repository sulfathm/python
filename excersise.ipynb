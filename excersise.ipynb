{
 "cells": [
  {
   "cell_type": "code",
   "execution_count": 1,
   "id": "06f6e0a8",
   "metadata": {},
   "outputs": [
    {
     "name": "stdout",
     "output_type": "stream",
     "text": [
      "1,2,4,5,9\n",
      "list : ['1', '2', '4', '5', '9']\n",
      "tuple : <class 'tuple'>\n"
     ]
    }
   ],
   "source": [
    "# Write a Python program which accepts a sequence of comma-separated numbers from user and generate a list and a tuple with those numbers.\n",
    "\n",
    "numbers=input()\n",
    "list=numbers.split(\",\")\n",
    "\n",
    "print(\"list :\",list)\n",
    "print(\"tuple :\",tuple)\n",
    "\n"
   ]
  },
  {
   "cell_type": "code",
   "execution_count": 2,
   "id": "01c5c61c",
   "metadata": {},
   "outputs": [
    {
     "name": "stdout",
     "output_type": "stream",
     "text": [
      "Input the year : 2002\n",
      "Input the month : 4\n",
      "     April 2002\n",
      "Mo Tu We Th Fr Sa Su\n",
      " 1  2  3  4  5  6  7\n",
      " 8  9 10 11 12 13 14\n",
      "15 16 17 18 19 20 21\n",
      "22 23 24 25 26 27 28\n",
      "29 30\n",
      "\n"
     ]
    }
   ],
   "source": [
    "#calendar\n",
    "\n",
    "import calendar\n",
    "y = int(input(\"Input the year : \"))\n",
    "m = int(input(\"Input the month : \"))\n",
    "print(calendar.month(y, m))\n",
    "\n"
   ]
  },
  {
   "cell_type": "code",
   "execution_count": 3,
   "id": "7c2cfd9e",
   "metadata": {},
   "outputs": [
    {
     "name": "stdout",
     "output_type": "stream",
     "text": [
      "3\n",
      "100\n",
      "2\n",
      "87\n",
      "200\n",
      "18\n",
      "300\n",
      "14\n",
      "400\n"
     ]
    }
   ],
   "source": [
    "#You are making a ticketing system.\n",
    "\n",
    "#The price of a single ticket is $100.\n",
    "\n",
    "#For children under 3 years of age, the ticket is free.\n",
    "\n",
    "#Your program needs to take the ages of 5 passengers as input and output the total price for their tickets.\n",
    "\n",
    "totel=0\n",
    "i=0\n",
    "while i < 5:\n",
    "    age = int (input ())\n",
    "    i=i+1\n",
    "    if age < 3:\n",
    "        continue\n",
    "    totel+=100\n",
    "    print(totel)"
   ]
  },
  {
   "cell_type": "code",
   "execution_count": 4,
   "id": "1dd9aa70",
   "metadata": {},
   "outputs": [
    {
     "name": "stdout",
     "output_type": "stream",
     "text": [
      "16 days, 0:00:00\n"
     ]
    }
   ],
   "source": [
    "# to find difference between two days\n",
    "from datetime import date\n",
    "day1=date(2002,4,5)\n",
    "day2=date(2002,4,21)\n",
    "dif=(day2-day1)\n",
    "print(dif)\n"
   ]
  },
  {
   "cell_type": "code",
   "execution_count": 5,
   "id": "3c9915ff",
   "metadata": {},
   "outputs": [
    {
     "name": "stdout",
     "output_type": "stream",
     "text": [
      "197.82000000000002\n"
     ]
    }
   ],
   "source": [
    "# The volume of a sphere\n",
    "\n",
    "h=7\n",
    "r=3\n",
    "volume=(3.14*r**2*h)\n",
    "print(volume)"
   ]
  },
  {
   "cell_type": "code",
   "execution_count": 6,
   "id": "2ac424c1",
   "metadata": {},
   "outputs": [
    {
     "name": "stdout",
     "output_type": "stream",
     "text": [
      "28.26\n"
     ]
    }
   ],
   "source": [
    "# area of a circle\n",
    "\n",
    "r=3\n",
    "area=(3.14*r**2)\n",
    "print(area)"
   ]
  },
  {
   "cell_type": "code",
   "execution_count": 7,
   "id": "cda4d03e",
   "metadata": {},
   "outputs": [
    {
     "name": "stdout",
     "output_type": "stream",
     "text": [
      "904.3199999999999\n"
     ]
    }
   ],
   "source": [
    "# volume of a sphere\n",
    "\n",
    "v=4/3*3.14*(r**3)\n",
    "r=6\n",
    "volume=(4/3*3.14*(r**3))\n",
    "print(volume)"
   ]
  },
  {
   "cell_type": "code",
   "execution_count": 8,
   "id": "44efe0f7",
   "metadata": {},
   "outputs": [
    {
     "name": "stdout",
     "output_type": "stream",
     "text": [
      "1 is odd\n",
      "2 is even\n",
      "3 is odd\n",
      "4 is even\n",
      "5 is odd\n",
      "6 is even\n",
      "7 is odd\n",
      "8 is even\n",
      "9 is odd\n",
      "10 is even\n"
     ]
    }
   ],
   "source": [
    "# find odd and even numbers within 1 to 10 by using while loop\n",
    "x = 1\n",
    "while x <= 10:\n",
    "  if x%2 == 0:\n",
    "    print(str(x) + \" is even\")\n",
    "  else:\n",
    "    print(str(x) + \" is odd\")\n",
    "\n",
    "  x += 1"
   ]
  },
  {
   "cell_type": "code",
   "execution_count": 9,
   "id": "db5222ad",
   "metadata": {},
   "outputs": [
    {
     "name": "stdout",
     "output_type": "stream",
     "text": [
      "True\n",
      "False\n"
     ]
    }
   ],
   "source": [
    "#1 Write a Python function that takes a sequence of numbers and determines whether all the numbers are different from each other.\n",
    "\n",
    "def numbers(data):\n",
    "    if len(data)==len(set(data)):\n",
    "        return True\n",
    "        #print(\"Yes\")\n",
    "    else:\n",
    "        #print(\"No\");\n",
    "        return False;\n",
    "print(numbers([2,3,4,5,6]))\n",
    "print(numbers([2,2,5,6,4,4]))\n",
    "    "
   ]
  },
  {
   "cell_type": "code",
   "execution_count": 10,
   "id": "08382587",
   "metadata": {},
   "outputs": [
    {
     "data": {
      "text/plain": [
       "5"
      ]
     },
     "execution_count": 10,
     "metadata": {},
     "output_type": "execute_result"
    }
   ],
   "source": [
    "data=[2,3,4,5,7]\n",
    "len(set(data))"
   ]
  },
  {
   "cell_type": "code",
   "execution_count": 11,
   "id": "5232eda4",
   "metadata": {},
   "outputs": [
    {
     "name": "stdout",
     "output_type": "stream",
     "text": [
      "first number :23\n",
      "second number :67\n",
      "third number :89\n",
      "median number :\n",
      "67\n"
     ]
    }
   ],
   "source": [
    "#2 Write a Python program to find the median among three given numbers.\n",
    "\n",
    "x=int(input(\"first number :\"))\n",
    "y=int(input(\"second number :\"))\n",
    "z=int(input(\"third number :\"))\n",
    "print(\"median number :\")\n",
    "if y < x and x < z:\n",
    "    print(x)\n",
    "elif z < x and x < y:\n",
    "    print(x)\n",
    "    \n",
    "elif z < y and y < x:\n",
    "    print(y)\n",
    "elif x < y and y < z:\n",
    "    print(y)\n",
    "    \n",
    "elif y < z and z < x:\n",
    "    print(z)    \n",
    "elif x < z and z < y:\n",
    "    print(z)\n"
   ]
  },
  {
   "cell_type": "code",
   "execution_count": 12,
   "id": "f135e945",
   "metadata": {},
   "outputs": [
    {
     "name": "stdout",
     "output_type": "stream",
     "text": [
      "enter starting range :1\n",
      "enter ending range :20\n",
      "sum of even numbers 110\n",
      "sum of odd numbers 100\n"
     ]
    }
   ],
   "source": [
    "#3 sum of odd and even numbers\n",
    "\n",
    "a=int(input(\"enter starting range :\"))\n",
    "b=int(input(\"enter ending range :\"))\n",
    "s=0\n",
    "s1=0\n",
    "for i in range(a,b+1):\n",
    "    if i%2==0:\n",
    "        s=s+i\n",
    "    elif i%2==1:\n",
    "        s1=s1+i\n",
    "print(\"sum of even numbers\",s)\n",
    "print(\"sum of odd numbers\",s1)"
   ]
  },
  {
   "cell_type": "code",
   "execution_count": 13,
   "id": "ad8548d8",
   "metadata": {},
   "outputs": [
    {
     "name": "stdout",
     "output_type": "stream",
     "text": [
      "totel purchase amount :1880\n",
      "your discount amount is : 376.0\n",
      "the amount you paying is : 1504.0\n"
     ]
    }
   ],
   "source": [
    "#4 purchase a product from flipkart.we got 20% discount on upto 1500 shopping.\n",
    "\n",
    "a=int(input(\"totel purchase amount :\"))\n",
    "if a>1500:\n",
    "    b=(a*20/100)\n",
    "    print(\"your discount amount is :\",b)\n",
    "    print(\"the amount you paying is :\",a-b)\n",
    "else:\n",
    "    print(\"you have no discount!!\")"
   ]
  },
  {
   "cell_type": "code",
   "execution_count": 14,
   "id": "7ca8e657",
   "metadata": {},
   "outputs": [
    {
     "name": "stdout",
     "output_type": "stream",
     "text": [
      "enter an number: 16\n",
      "the number is positive.\n"
     ]
    }
   ],
   "source": [
    "#5 check weather an integer is positive negative or neutral\n",
    "\n",
    "number=int(input(\"enter an number: \"))\n",
    "if number>0:\n",
    "    print(\"the number is positive.\")\n",
    "elif number<0:\n",
    "    print(\"the number is negative.\")\n",
    "else:\n",
    "    print(\"thr number is zero\")"
   ]
  },
  {
   "cell_type": "code",
   "execution_count": 15,
   "id": "c27eee9c",
   "metadata": {},
   "outputs": [
    {
     "name": "stdout",
     "output_type": "stream",
     "text": [
      "malayalam :89\n",
      "Arabic :90\n",
      "English :78\n",
      "Hindi :56\n",
      "Mathematics :98\n",
      "Physics :23\n",
      "Chemistry :56\n",
      "Biology :67\n",
      "IT :89\n",
      "Social Science :78\n",
      "B+\n"
     ]
    }
   ],
   "source": [
    "#6 SSLC marklist\n",
    "m1=int(input(\"malayalam :\"))\n",
    "m2=int(input(\"Arabic :\"))\n",
    "m3=int(input(\"English :\"))\n",
    "m4=int(input(\"Hindi :\"))\n",
    "m5=int(input(\"Mathematics :\"))\n",
    "m6=int(input(\"Physics :\"))\n",
    "m7=int(input(\"Chemistry :\"))\n",
    "m8=int(input(\"Biology :\"))\n",
    "m9=int(input(\"IT :\"))\n",
    "m10=int(input(\"Social Science :\"))\n",
    "M=m1+m2+m3+m4+m5+m6+m7+m8+m9+m10\n",
    "if M>900:\n",
    "    print(\"A+\")\n",
    "elif M>800 and M<900:\n",
    "    print(\"A\")\n",
    "elif M>700 and M<800:\n",
    "    print(\"B+\")\n",
    "elif M>600 and M<700:\n",
    "    print(\"B\")\n",
    "elif M>500 and M<600:\n",
    "    print(\"C+\")\n",
    "elif M>400 and m<500:\n",
    "    print(\"C\")\n",
    "elif M>300 and M<400:\n",
    "    print(\"D+\")\n",
    "else:\n",
    "    print(\"FAILED!!!\")"
   ]
  },
  {
   "cell_type": "code",
   "execution_count": 16,
   "id": "b5179240",
   "metadata": {},
   "outputs": [
    {
     "data": {
      "text/plain": [
       "'name**is**james'"
      ]
     },
     "execution_count": 16,
     "metadata": {},
     "output_type": "execute_result"
    }
   ],
   "source": [
    "#7 Display three string “Name”, “Is”, “James” as “Name**Is**James”\n",
    "\n",
    "a=('name','is','james')\n",
    "b=\"**\"\n",
    "b.join(a)"
   ]
  },
  {
   "cell_type": "code",
   "execution_count": 17,
   "id": "0e2b4087",
   "metadata": {},
   "outputs": [
    {
     "name": "stdout",
     "output_type": "stream",
     "text": [
      "345.88\n"
     ]
    }
   ],
   "source": [
    "#8  Display float number with 2 decimal places using print()\n",
    "\n",
    "number=345.8754\n",
    "print('%.2f' % number)\n"
   ]
  },
  {
   "cell_type": "code",
   "execution_count": 18,
   "id": "418840b7",
   "metadata": {},
   "outputs": [
    {
     "name": "stdout",
     "output_type": "stream",
     "text": [
      "45.987\n"
     ]
    }
   ],
   "source": [
    "number=45.987345663\n",
    "print('%.3f'% number)"
   ]
  },
  {
   "cell_type": "code",
   "execution_count": 19,
   "id": "fa8dd3ba",
   "metadata": {},
   "outputs": [
    {
     "ename": "NameError",
     "evalue": "name 'around' is not defined",
     "output_type": "error",
     "traceback": [
      "\u001b[1;31m---------------------------------------------------------------------------\u001b[0m",
      "\u001b[1;31mNameError\u001b[0m                                 Traceback (most recent call last)",
      "Input \u001b[1;32mIn [19]\u001b[0m, in \u001b[0;36m<cell line: 2>\u001b[1;34m()\u001b[0m\n\u001b[0;32m      1\u001b[0m number\u001b[38;5;241m=\u001b[39m\u001b[38;5;241m45.987345663\u001b[39m\n\u001b[1;32m----> 2\u001b[0m \u001b[43maround\u001b[49m\n",
      "\u001b[1;31mNameError\u001b[0m: name 'around' is not defined"
     ]
    }
   ],
   "source": [
    "number=45.987345663\n",
    "around"
   ]
  },
  {
   "cell_type": "code",
   "execution_count": null,
   "id": "26bceee6",
   "metadata": {},
   "outputs": [],
   "source": [
    "#9 Accept a list of 5 float numbers as an input from the user\n",
    "\n",
    "numbers = []\n",
    "\n",
    "# 5 is the list size\n",
    "# run loop 5 times\n",
    "for i in range(0, 5):\n",
    "    print(\"Enter number at location\", i, \":\")\n",
    "    # accept float number from user\n",
    "    item = float(input())\n",
    "    # add it to the list\n",
    "    numbers.append(item)\n",
    "\n",
    "print(\"User List:\", numbers)"
   ]
  },
  {
   "cell_type": "code",
   "execution_count": null,
   "id": "39726dba",
   "metadata": {},
   "outputs": [],
   "source": [
    "numbers=[]\n",
    "for i in range(0,5):\n",
    "    print(\"enter number at location\",i, \":\")\n",
    "    items=float(input())\n",
    "    numbers.append(items)\n",
    "print(\"mylist :\",numbers)"
   ]
  },
  {
   "cell_type": "code",
   "execution_count": null,
   "id": "9fb1e264",
   "metadata": {},
   "outputs": [],
   "source": [
    "#10 Write all content of a given file into a new file by skipping line number 5\n",
    "\n",
    "\n",
    "files=\"file\"\n",
    "for i in range(1,7+1):\n",
    "    print(files,i)\n",
    "    if i==5:\n",
    "        i+=1\n",
    "        continue"
   ]
  },
  {
   "cell_type": "code",
   "execution_count": null,
   "id": "9c2c6fa8",
   "metadata": {},
   "outputs": [],
   "source": [
    "#11 Format variables using a string.format() method.\n",
    "\n",
    "totalMoney = 1000\n",
    "quantity = 3\n",
    "price = 450\n",
    "\n",
    "I have 1000 dollars so I can buy 3 football for 450.00 dollars.\n",
    "print(\"I have {} dollars so I can buy {} football for {} dollars .\".format(totelMoney,quantity,price))"
   ]
  },
  {
   "cell_type": "code",
   "execution_count": null,
   "id": "d07ca14d",
   "metadata": {},
   "outputs": [],
   "source": [
    "#12 Check file is empty or not\n",
    "\n",
    "\n",
    "mylist=[]\n",
    "length=len(mylist)\n",
    "if length<=0:\n",
    "    print(\"The file is empty.\")\n",
    "else:\n",
    "    print(\"The file has values\")"
   ]
  },
  {
   "cell_type": "code",
   "execution_count": null,
   "id": "0e9f9a0b",
   "metadata": {},
   "outputs": [],
   "source": [
    "#13 Read line number 4 from the following file\n",
    "\n",
    "file=[1,4,2,6,7,8,\"string\"]\n",
    "file[1]"
   ]
  },
  {
   "cell_type": "code",
   "execution_count": 20,
   "id": "366bba33",
   "metadata": {},
   "outputs": [
    {
     "name": "stdout",
     "output_type": "stream",
     "text": [
      "1\n",
      "2\n",
      "3\n",
      "4\n",
      "5\n",
      "6\n",
      "7\n",
      "8\n",
      "9\n",
      "10\n"
     ]
    }
   ],
   "source": [
    "#14 Print First 10 natural numbers using while loop\n",
    "\n",
    "i=1\n",
    "while i <= 10:\n",
    "    print(i)\n",
    "    i+=1"
   ]
  },
  {
   "cell_type": "code",
   "execution_count": 21,
   "id": "05b98ff9",
   "metadata": {},
   "outputs": [
    {
     "ename": "TypeError",
     "evalue": "'int' object is not iterable",
     "output_type": "error",
     "traceback": [
      "\u001b[1;31m---------------------------------------------------------------------------\u001b[0m",
      "\u001b[1;31mTypeError\u001b[0m                                 Traceback (most recent call last)",
      "Input \u001b[1;32mIn [21]\u001b[0m, in \u001b[0;36m<cell line: 3>\u001b[1;34m()\u001b[0m\n\u001b[0;32m      1\u001b[0m num\u001b[38;5;241m=\u001b[39m\u001b[38;5;241m1\u001b[39m\n\u001b[0;32m      2\u001b[0m s\u001b[38;5;241m=\u001b[39m\u001b[38;5;241m0\u001b[39m\n\u001b[1;32m----> 3\u001b[0m \u001b[38;5;28;01mfor\u001b[39;00m i \u001b[38;5;129;01min\u001b[39;00m num:\n\u001b[0;32m      4\u001b[0m     s\u001b[38;5;241m+\u001b[39m\u001b[38;5;241m=\u001b[39m\u001b[38;5;241m1\u001b[39m\n\u001b[0;32m      5\u001b[0m     \u001b[38;5;28mprint\u001b[39m(s)\n",
      "\u001b[1;31mTypeError\u001b[0m: 'int' object is not iterable"
     ]
    }
   ],
   "source": [
    "num=1\n",
    "s=0\n",
    "for i in num:\n",
    "    s+=1\n",
    "    print(s)"
   ]
  },
  {
   "cell_type": "code",
   "execution_count": 22,
   "id": "a3628206",
   "metadata": {},
   "outputs": [
    {
     "name": "stdout",
     "output_type": "stream",
     "text": [
      "1 \n",
      "1 2 \n",
      "1 2 3 \n",
      "1 2 3 4 \n",
      "1 2 3 4 5 \n"
     ]
    }
   ],
   "source": [
    "#15 Print the following pattern\n",
    "#1 \n",
    "#1 2 \n",
    "#1 2 3 \n",
    "#1 2 3 4 \n",
    "#1 2 3 4 5\n",
    "\n",
    "\n",
    "for i in range(1,5+1):\n",
    "    for j in range(1,i+1):\n",
    "        print(j,end=\" \")\n",
    "    print()"
   ]
  },
  {
   "cell_type": "code",
   "execution_count": 23,
   "id": "1a5a0aa5",
   "metadata": {},
   "outputs": [
    {
     "name": "stdout",
     "output_type": "stream",
     "text": [
      "2\n",
      "4\n",
      "6\n",
      "8\n",
      "10\n",
      "12\n",
      "14\n",
      "16\n",
      "18\n",
      "20\n"
     ]
    }
   ],
   "source": [
    "#Write a program to print multiplication table of a given number\n",
    "\n",
    "for i in range(1,10+1):\n",
    "    print(i*2)"
   ]
  },
  {
   "cell_type": "markdown",
   "id": "9f79a3c2",
   "metadata": {},
   "source": [
    "\n",
    "\n",
    "for i in range(1,10+1):\n",
    "    print(i*2)"
   ]
  },
  {
   "cell_type": "code",
   "execution_count": 31,
   "id": "01af8615",
   "metadata": {},
   "outputs": [
    {
     "name": "stdout",
     "output_type": "stream",
     "text": [
      "75\n",
      "150\n",
      "145\n",
      "50\n"
     ]
    }
   ],
   "source": [
    "#17 Display numbers from a list using loop\n",
    "\n",
    "#The number must be divisible by five\n",
    "#If the number is greater than 150, then skip it and move to the next number\n",
    "#If the number is greater than 500, then stop the loop\n",
    "\n",
    "\n",
    "\n",
    "numbers = [12, 75, 150, 180, 145, 525, 50]\n",
    "for i in numbers:\n",
    "    if i>150:\n",
    "        continue\n",
    "    elif i > 500:\n",
    "        break\n",
    "    elif (i%5==0):\n",
    "        print(i)\n",
    "    \n",
    "    \n",
    "    \n",
    "\n",
    "\n"
   ]
  },
  {
   "cell_type": "code",
   "execution_count": 34,
   "id": "23e70bce",
   "metadata": {},
   "outputs": [
    {
     "name": "stdout",
     "output_type": "stream",
     "text": [
      "Total digits are: 5\n"
     ]
    }
   ],
   "source": [
    "#18 Count the total number of digits in a number\n",
    "\n",
    "\n",
    "\n",
    "num = 75869\n",
    "count = 0\n",
    "while num != 0:\n",
    "    num = num // 10\n",
    "    count = count + 1\n",
    "print(\"Total digits are:\", count)\n"
   ]
  },
  {
   "cell_type": "code",
   "execution_count": 35,
   "id": "e51a375f",
   "metadata": {},
   "outputs": [
    {
     "data": {
      "text/plain": [
       "7586"
      ]
     },
     "execution_count": 35,
     "metadata": {},
     "output_type": "execute_result"
    }
   ],
   "source": [
    "75869//10"
   ]
  },
  {
   "cell_type": "code",
   "execution_count": 39,
   "id": "e321285b",
   "metadata": {},
   "outputs": [
    {
     "name": "stdout",
     "output_type": "stream",
     "text": [
      "5 4 3 2 1 \n",
      "4 3 2 1 \n",
      "3 2 1 \n",
      "2 1 \n",
      "1 \n",
      "\n"
     ]
    }
   ],
   "source": [
    "#19 print the following pattern\n",
    "#5 4 3 2 1 \n",
    "#4 3 2 1 \n",
    "#3 2 1 \n",
    "#2 1 \n",
    "#1\n",
    "\n",
    "n=5\n",
    "k=5\n",
    "for i in range(0,n+1):\n",
    "    for j in range(k-i,0,-1):\n",
    "        print(j,end=\" \")\n",
    "    print()\n"
   ]
  },
  {
   "cell_type": "code",
   "execution_count": 42,
   "id": "878b4de7",
   "metadata": {},
   "outputs": [
    {
     "name": "stdout",
     "output_type": "stream",
     "text": [
      "50\n",
      "40\n",
      "30\n",
      "20\n",
      "10\n"
     ]
    }
   ],
   "source": [
    "#20 Print list in reverse order using a loop\n",
    "#list1 = [10, 20, 30, 40, 50]\n",
    "\n",
    "\n",
    "list1=[10,20,30,40,50]\n",
    "list2=reversed (list1)\n",
    "for i in list2:\n",
    "    print(i)"
   ]
  },
  {
   "cell_type": "code",
   "execution_count": 43,
   "id": "608a55fb",
   "metadata": {},
   "outputs": [
    {
     "name": "stdout",
     "output_type": "stream",
     "text": [
      "-10\n",
      "-9\n",
      "-8\n",
      "-7\n",
      "-6\n",
      "-5\n",
      "-4\n",
      "-3\n",
      "-2\n",
      "-1\n"
     ]
    }
   ],
   "source": [
    "#21 Display numbers from -10 to -1 using for loop\n",
    "for i in range(-10,-1+1):\n",
    "    print(i)"
   ]
  },
  {
   "cell_type": "code",
   "execution_count": 48,
   "id": "7d507f82",
   "metadata": {},
   "outputs": [
    {
     "name": "stdout",
     "output_type": "stream",
     "text": [
      "0\n",
      "1\n",
      "2\n",
      "3\n",
      "4\n",
      "5\n",
      "Done\n"
     ]
    }
   ],
   "source": [
    "#22 Use else block to display a message “Done” after successful execution of for loop\n",
    "\n",
    "for i in range(0,5+1):\n",
    "    print(i)\n",
    "    if i==5:\n",
    "        print(\"Done\")\n"
   ]
  },
  {
   "cell_type": "code",
   "execution_count": 49,
   "id": "6aa0bb38",
   "metadata": {},
   "outputs": [
    {
     "name": "stdout",
     "output_type": "stream",
     "text": [
      "Prime numbers between 25 and 50 are:\n",
      "29\n",
      "31\n",
      "37\n",
      "41\n",
      "43\n",
      "47\n"
     ]
    }
   ],
   "source": [
    "#23 Write a program to display all prime numbers within a range\n",
    "\n",
    "\n",
    "start = 25\n",
    "end = 50\n",
    "print(\"Prime numbers between\", start, \"and\", end, \"are:\")\n",
    "\n",
    "for num in range(start, end + 1):\n",
    "    \n",
    "    if num > 1:\n",
    "        for i in range(2, num):\n",
    "            \n",
    "            if (num % i) == 0:\n",
    "                \n",
    "                break\n",
    "        else:\n",
    "            print(num)\n"
   ]
  },
  {
   "cell_type": "code",
   "execution_count": 50,
   "id": "cc1c8ec4",
   "metadata": {},
   "outputs": [
    {
     "name": "stdout",
     "output_type": "stream",
     "text": [
      "1\n",
      "2\n",
      "3\n",
      "5\n",
      "8\n",
      "13\n",
      "21\n",
      "34\n",
      "55\n"
     ]
    }
   ],
   "source": [
    "#24 Display Fibonacci series up to 10 terms\n",
    "\n",
    "a=0\n",
    "b=1\n",
    "for i in range(1,10+1):\n",
    "    if(i<=1):\n",
    "        sum=i\n",
    "    else:\n",
    "        sum=a+b\n",
    "        a=b\n",
    "        b=sum\n",
    "        print(sum)"
   ]
  },
  {
   "cell_type": "code",
   "execution_count": 54,
   "id": "4cf959a3",
   "metadata": {},
   "outputs": [
    {
     "name": "stdout",
     "output_type": "stream",
     "text": [
      "20 ,40 ,60 ,80 ,100 ,"
     ]
    }
   ],
   "source": [
    "#25 Use a loop to display elements from a given list present at odd index positions\n",
    "\n",
    "my_list = [10, 20, 30, 40, 50, 60, 70, 80, 90, 100]\n",
    "for i in my_list[1::2]:\n",
    "    print(i,end=\" ,\")\n"
   ]
  },
  {
   "cell_type": "code",
   "execution_count": 58,
   "id": "d4541c45",
   "metadata": {},
   "outputs": [
    {
     "name": "stdout",
     "output_type": "stream",
     "text": [
      "starting range :1\n",
      "ending range :6\n",
      "Current Number is : 1  and the cube is 1\n",
      "Current Number is : 2  and the cube is 8\n",
      "Current Number is : 3  and the cube is 27\n",
      "Current Number is : 4  and the cube is 64\n",
      "Current Number is : 5  and the cube is 125\n",
      "Current Number is : 6  and the cube is 216\n"
     ]
    }
   ],
   "source": [
    "#26 Calculate the cube of all numbers from 1 to a given number\n",
    "a=int(input(\"starting range :\"))\n",
    "b=int(input(\"ending range :\"))\n",
    "for i in range(a,b+1):\n",
    "    print(\"Current Number is :\", i, \" and the cube is\", (i * i * i))\n",
    " "
   ]
  },
  {
   "cell_type": "code",
   "execution_count": 66,
   "id": "d73c63c6",
   "metadata": {},
   "outputs": [
    {
     "name": "stdout",
     "output_type": "stream",
     "text": [
      "\n",
      "* \n",
      "* * \n",
      "* * * \n",
      "* * * * \n",
      "* * * * * \n",
      "* * * * \n",
      "* * * \n",
      "* * \n",
      "* \n",
      "\n"
     ]
    }
   ],
   "source": [
    "#27 Print the following pattern\n",
    "#* \n",
    "#* * \n",
    "#* * * \n",
    "#* * * * \n",
    "#* * * * * \n",
    "#* * * * \n",
    "#* * * \n",
    "#* * \n",
    "#*\n",
    "\n",
    "\n",
    "rows=5\n",
    "for i in range(rows+1):\n",
    "    print(\"* \"*i)\n",
    "for i in range(rows-1,0,-1):\n",
    "    print(\"* \"*i)\n",
    "print()"
   ]
  },
  {
   "cell_type": "code",
   "execution_count": 71,
   "id": "d00fb82f",
   "metadata": {},
   "outputs": [
    {
     "name": "stdout",
     "output_type": "stream",
     "text": [
      "j\n",
      "m\n",
      "s\n",
      "j m s\n"
     ]
    }
   ],
   "source": [
    "#28 Create a string made of the first, middle and last character\n",
    "\n",
    "str1=\"james\"\n",
    "#print(str1[0])\n",
    "#print(str1[2])\n",
    "#print(str1[4])\n",
    "print(str1[0],str1[2],str1[4])"
   ]
  },
  {
   "cell_type": "code",
   "execution_count": 73,
   "id": "2a63cb61",
   "metadata": {},
   "outputs": [
    {
     "name": "stdout",
     "output_type": "stream",
     "text": [
      "Ault Kelly\n",
      "AuKellylt\n"
     ]
    }
   ],
   "source": [
    "#29 Append new string in the middle of a given string\n",
    "\n",
    "s1 = \"Ault\"\n",
    "s2 = \"Kelly\"\n",
    "def append_middle(s1, s2):\n",
    "    print( s1, s2)\n",
    "\n",
    "    \n",
    "    mi = int(len(s1) / 2)\n",
    "\n",
    "    \n",
    "    x = s1[:mi:]\n",
    "    \n",
    "    x = x + s2\n",
    "    \n",
    "    x = x + s1[mi:]\n",
    "    print( x)\n",
    "\n",
    "append_middle(\"Ault\", \"Kelly\")\n"
   ]
  },
  {
   "cell_type": "code",
   "execution_count": 74,
   "id": "fb15c7be",
   "metadata": {},
   "outputs": [
    {
     "name": "stdout",
     "output_type": "stream",
     "text": [
      "['My', 'name', 'is', 'Kelly']\n"
     ]
    }
   ],
   "source": [
    "#30  Concatenate two lists index-wise\n",
    "\n",
    "\n",
    "list1 = [\"M\", \"na\", \"i\", \"Ke\"] \n",
    "list2 = [\"y\", \"me\", \"s\", \"lly\"]\n",
    "\n",
    "list3 = [i + j for i, j in zip(list1, list2)]\n",
    "print(list3)\n",
    "\n"
   ]
  },
  {
   "cell_type": "code",
   "execution_count": 75,
   "id": "a1502a0a",
   "metadata": {},
   "outputs": [
    {
     "data": {
      "text/plain": [
       "<zip at 0x1acd2baaa80>"
      ]
     },
     "execution_count": 75,
     "metadata": {},
     "output_type": "execute_result"
    }
   ],
   "source": [
    "list1 = [\"M\", \"na\", \"i\", \"Ke\"] \n",
    "list2 = [\"y\", \"me\", \"s\", \"lly\"]\n",
    "zip(list1,list2)"
   ]
  },
  {
   "cell_type": "code",
   "execution_count": null,
   "id": "f4729cfb",
   "metadata": {},
   "outputs": [],
   "source": []
  }
 ],
 "metadata": {
  "kernelspec": {
   "display_name": "Python 3 (ipykernel)",
   "language": "python",
   "name": "python3"
  },
  "language_info": {
   "codemirror_mode": {
    "name": "ipython",
    "version": 3
   },
   "file_extension": ".py",
   "mimetype": "text/x-python",
   "name": "python",
   "nbconvert_exporter": "python",
   "pygments_lexer": "ipython3",
   "version": "3.9.12"
  }
 },
 "nbformat": 4,
 "nbformat_minor": 5
}
