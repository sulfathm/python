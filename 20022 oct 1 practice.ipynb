{
 "cells": [
  {
   "cell_type": "code",
   "execution_count": 1,
   "id": "89f3663d",
   "metadata": {},
   "outputs": [
    {
     "name": "stdout",
     "output_type": "stream",
     "text": [
      "enter a value :8\n",
      "the value is even\n"
     ]
    }
   ],
   "source": [
    "a=int(input('enter a value :'))\n",
    "if a%2==1:\n",
    "    print('the value is odd')\n",
    "else:\n",
    "    print('the value is even')"
   ]
  },
  {
   "cell_type": "code",
   "execution_count": 2,
   "id": "7bf0a9ef",
   "metadata": {},
   "outputs": [
    {
     "name": "stdout",
     "output_type": "stream",
     "text": [
      "enter a value :8\n",
      "the value is positive\n"
     ]
    }
   ],
   "source": [
    "b=int(input('enter a value :'))\n",
    "if a<0:\n",
    "    print('the value is negative')\n",
    "elif a>0:\n",
    "    print('the value is positive')\n",
    "else:\n",
    "    print('the value is neutral')"
   ]
  },
  {
   "cell_type": "code",
   "execution_count": 3,
   "id": "12e64beb",
   "metadata": {},
   "outputs": [
    {
     "name": "stdout",
     "output_type": "stream",
     "text": [
      "{1, 2, 3, 4, 5}\n",
      "{4, 6, 7, 8, 9}\n"
     ]
    }
   ],
   "source": [
    "s1=set([1,2,3,4,5])\n",
    "print(s1)\n",
    "s2=set([6,7,8,9,4])\n",
    "print(s2)"
   ]
  },
  {
   "cell_type": "code",
   "execution_count": 4,
   "id": "d77915ae",
   "metadata": {},
   "outputs": [
    {
     "data": {
      "text/plain": [
       "{1, 2, 3, 4, 5, 6, 7, 8, 9}"
      ]
     },
     "execution_count": 4,
     "metadata": {},
     "output_type": "execute_result"
    }
   ],
   "source": [
    "s1.union(s2)"
   ]
  },
  {
   "cell_type": "code",
   "execution_count": 5,
   "id": "81757164",
   "metadata": {},
   "outputs": [
    {
     "data": {
      "text/plain": [
       "{4}"
      ]
     },
     "execution_count": 5,
     "metadata": {},
     "output_type": "execute_result"
    }
   ],
   "source": [
    "s1.intersection(s2)"
   ]
  },
  {
   "cell_type": "code",
   "execution_count": 6,
   "id": "49de99af",
   "metadata": {},
   "outputs": [
    {
     "data": {
      "text/plain": [
       "{1, 2, 3, 5}"
      ]
     },
     "execution_count": 6,
     "metadata": {},
     "output_type": "execute_result"
    }
   ],
   "source": [
    "s1.difference(s2)"
   ]
  },
  {
   "cell_type": "code",
   "execution_count": 7,
   "id": "22fb3d4f",
   "metadata": {},
   "outputs": [
    {
     "data": {
      "text/plain": [
       "{6, 7, 8, 9}"
      ]
     },
     "execution_count": 7,
     "metadata": {},
     "output_type": "execute_result"
    }
   ],
   "source": [
    "s2.difference(s1)"
   ]
  },
  {
   "cell_type": "code",
   "execution_count": 8,
   "id": "79859def",
   "metadata": {},
   "outputs": [
    {
     "data": {
      "text/plain": [
       "'zayan'"
      ]
     },
     "execution_count": 8,
     "metadata": {},
     "output_type": "execute_result"
    }
   ],
   "source": [
    "d={'name':'zayan','age':2}\n",
    "d['name']\n"
   ]
  },
  {
   "cell_type": "code",
   "execution_count": 9,
   "id": "eee60769",
   "metadata": {},
   "outputs": [],
   "source": [
    "d['age']=3"
   ]
  },
  {
   "cell_type": "code",
   "execution_count": 10,
   "id": "60ec7d07",
   "metadata": {},
   "outputs": [
    {
     "name": "stdout",
     "output_type": "stream",
     "text": [
      "{'name': 'zayan', 'age': 3}\n"
     ]
    }
   ],
   "source": [
    "print(d)"
   ]
  },
  {
   "cell_type": "code",
   "execution_count": 11,
   "id": "26ec656e",
   "metadata": {},
   "outputs": [],
   "source": [
    "d['name']='aizin'"
   ]
  },
  {
   "cell_type": "code",
   "execution_count": 12,
   "id": "ec9d1df0",
   "metadata": {},
   "outputs": [
    {
     "name": "stdout",
     "output_type": "stream",
     "text": [
      "{'name': 'aizin', 'age': 3}\n"
     ]
    }
   ],
   "source": [
    "print(d)"
   ]
  },
  {
   "cell_type": "code",
   "execution_count": 13,
   "id": "c350ca74",
   "metadata": {},
   "outputs": [],
   "source": [
    "d['address']='green palace'"
   ]
  },
  {
   "cell_type": "code",
   "execution_count": 14,
   "id": "d49fbd1a",
   "metadata": {},
   "outputs": [
    {
     "name": "stdout",
     "output_type": "stream",
     "text": [
      "{'name': 'aizin', 'age': 3, 'address': 'green palace'}\n"
     ]
    }
   ],
   "source": [
    "print(d)"
   ]
  },
  {
   "cell_type": "code",
   "execution_count": 15,
   "id": "1e9961aa",
   "metadata": {},
   "outputs": [],
   "source": [
    "del d['address']"
   ]
  },
  {
   "cell_type": "code",
   "execution_count": 16,
   "id": "516ff9a9",
   "metadata": {},
   "outputs": [
    {
     "name": "stdout",
     "output_type": "stream",
     "text": [
      "{'name': 'aizin', 'age': 3}\n"
     ]
    }
   ],
   "source": [
    "print(d)"
   ]
  },
  {
   "cell_type": "code",
   "execution_count": 17,
   "id": "26a2fa01",
   "metadata": {},
   "outputs": [
    {
     "ename": "SyntaxError",
     "evalue": "invalid syntax (2528830346.py, line 1)",
     "output_type": "error",
     "traceback": [
      "\u001b[1;36m  Input \u001b[1;32mIn [17]\u001b[1;36m\u001b[0m\n\u001b[1;33m    d.del ()\u001b[0m\n\u001b[1;37m      ^\u001b[0m\n\u001b[1;31mSyntaxError\u001b[0m\u001b[1;31m:\u001b[0m invalid syntax\n"
     ]
    }
   ],
   "source": [
    "d.del ()\n",
    "print(d)"
   ]
  },
  {
   "cell_type": "code",
   "execution_count": null,
   "id": "aa973086",
   "metadata": {},
   "outputs": [],
   "source": [
    "E=set([1,5,8,9,5,4,3,2])\n",
    "print(E)\n"
   ]
  },
  {
   "cell_type": "code",
   "execution_count": null,
   "id": "d0f80f45",
   "metadata": {},
   "outputs": [],
   "source": [
    "f=set([1,3,2,8,9,4,5])\n",
    "print(f)"
   ]
  },
  {
   "cell_type": "code",
   "execution_count": null,
   "id": "8e379f2b",
   "metadata": {},
   "outputs": [],
   "source": [
    "f.issubset(E)"
   ]
  },
  {
   "cell_type": "code",
   "execution_count": null,
   "id": "bcca6989",
   "metadata": {},
   "outputs": [],
   "source": [
    "len(f)\n"
   ]
  },
  {
   "cell_type": "code",
   "execution_count": null,
   "id": "72cd1afd",
   "metadata": {},
   "outputs": [],
   "source": [
    "d5={1:2,3:4,5:6,7:8}\n",
    "x=d5.keys()"
   ]
  },
  {
   "cell_type": "code",
   "execution_count": null,
   "id": "cef27977",
   "metadata": {},
   "outputs": [],
   "source": [
    "print(x)"
   ]
  },
  {
   "cell_type": "code",
   "execution_count": null,
   "id": "7cf05eda",
   "metadata": {},
   "outputs": [],
   "source": [
    "y=d5.values()\n",
    "print(y)"
   ]
  },
  {
   "cell_type": "code",
   "execution_count": null,
   "id": "4e8b2062",
   "metadata": {},
   "outputs": [],
   "source": [
    "s=0\n",
    "for i in x:\n",
    "    s=s+i\n",
    "print(s)"
   ]
  },
  {
   "cell_type": "code",
   "execution_count": null,
   "id": "ec999532",
   "metadata": {},
   "outputs": [],
   "source": [
    "s=0\n",
    "for i in y:\n",
    "    s=s+i\n",
    "print(s)"
   ]
  },
  {
   "cell_type": "code",
   "execution_count": null,
   "id": "efbe7ee1",
   "metadata": {},
   "outputs": [],
   "source": [
    "b=int(input('enter the starting range :'))\n",
    "c=int(input('enter the ending range :'))\n",
    "s=0\n",
    "s1=0\n",
    "for i in range(b,c+1):\n",
    "    if i%2==0:\n",
    "        s=s+i\n",
    "    elif i%2==1:\n",
    "        s1=s1+i\n",
    "print('the value is even :',s)\n",
    "print('the value is odd :',s1)"
   ]
  },
  {
   "cell_type": "code",
   "execution_count": null,
   "id": "3a296bcf",
   "metadata": {},
   "outputs": [],
   "source": [
    "n=int(input('starting range :'))\n",
    "z=int(input('ending range :'))\n",
    "s=1\n",
    "for i in range(n,z+1):\n",
    "    s=s*i\n",
    "    print(s)"
   ]
  },
  {
   "cell_type": "code",
   "execution_count": null,
   "id": "991205bb",
   "metadata": {},
   "outputs": [],
   "source": [
    "t=int(input ('enter the limit :'))\n",
    "a=0\n",
    "b=1\n",
    "print(b)\n",
    "for i in range(b,t+1):\n",
    "    sum=a+b\n",
    "    print(sum)\n",
    "    a=b\n",
    "    b=sum\n",
    "    "
   ]
  },
  {
   "cell_type": "code",
   "execution_count": null,
   "id": "1feee552",
   "metadata": {},
   "outputs": [],
   "source": [
    "y1=int(input('entr the limit :'))\n",
    "a1=0\n",
    "b1=1\n",
    "for i in range(b1,y1+1):\n",
    "    sum=a1+b1\n",
    "    print(sum)\n",
    "    a1=b1\n",
    "    b1=sum"
   ]
  },
  {
   "cell_type": "code",
   "execution_count": null,
   "id": "d0080bfc",
   "metadata": {},
   "outputs": [],
   "source": [
    "f=int(input('enter the limut :'))\n",
    "for i in range(f+1):\n",
    "    print(i)\n",
    "    if i==5:\n",
    "        break\n",
    "    "
   ]
  },
  {
   "cell_type": "code",
   "execution_count": null,
   "id": "1eb1ae71",
   "metadata": {},
   "outputs": [],
   "source": [
    "j=int(input('enter the limit :'))\n",
    "for i in range(j+1):\n",
    "    print(i)\n",
    "    if i==5:\n",
    "        continue\n"
   ]
  },
  {
   "cell_type": "code",
   "execution_count": null,
   "id": "debb7226",
   "metadata": {},
   "outputs": [],
   "source": [
    "j8=int(input('enter the limit :'))\n",
    "a=0\n",
    "b=1\n",
    "print(b)\n",
    "for i in range(b,j8+1):\n",
    "    sum=a+b\n",
    "    print(sum)\n",
    "    a=b\n",
    "    b=sum\n"
   ]
  },
  {
   "cell_type": "code",
   "execution_count": 19,
   "id": "e043a153",
   "metadata": {},
   "outputs": [
    {
     "name": "stdout",
     "output_type": "stream",
     "text": [
      "enter the limit :8\n",
      "0\n",
      "1\n",
      "2\n",
      "3\n",
      "4\n",
      "5\n",
      "6\n",
      "7\n",
      "8\n"
     ]
    }
   ],
   "source": [
    "j8=int(input('enter the limit :'))\n",
    "for i in range(j8+1):\n",
    "    print(i)\n",
    "    if i==5:\n",
    "        continue"
   ]
  },
  {
   "cell_type": "code",
   "execution_count": 21,
   "id": "8c31c60f",
   "metadata": {},
   "outputs": [
    {
     "name": "stdout",
     "output_type": "stream",
     "text": [
      "enter the limit :8\n",
      "0\n",
      "1\n",
      "2\n",
      "3\n",
      "4\n",
      "5\n",
      "6\n",
      "7\n",
      "8\n"
     ]
    }
   ],
   "source": [
    "f=int(input('enter the limit :'))\n",
    "for i in range (f+1):\n",
    "    print(i)\n",
    "    if i==5:\n",
    "        continue\n",
    "    elif i==7:\n",
    "        continue"
   ]
  },
  {
   "cell_type": "code",
   "execution_count": 23,
   "id": "1cefb28f",
   "metadata": {},
   "outputs": [],
   "source": [
    "n=1\n",
    "n<4\n",
    "pass"
   ]
  },
  {
   "cell_type": "code",
   "execution_count": 4,
   "id": "9fb3f16f",
   "metadata": {},
   "outputs": [
    {
     "name": "stdout",
     "output_type": "stream",
     "text": [
      "enter the limit5\n"
     ]
    },
    {
     "ename": "NameError",
     "evalue": "name 'nterms' is not defined",
     "output_type": "error",
     "traceback": [
      "\u001b[1;31m---------------------------------------------------------------------------\u001b[0m",
      "\u001b[1;31mNameError\u001b[0m                                 Traceback (most recent call last)",
      "Input \u001b[1;32mIn [4]\u001b[0m, in \u001b[0;36m<cell line: 5>\u001b[1;34m()\u001b[0m\n\u001b[0;32m      5\u001b[0m \u001b[38;5;28;01mif\u001b[39;00m nt\u001b[38;5;241m<\u001b[39m\u001b[38;5;241m0\u001b[39m:\n\u001b[0;32m      6\u001b[0m     \u001b[38;5;28mprint\u001b[39m(\u001b[38;5;124m'\u001b[39m\u001b[38;5;124mplease enter a positive intiger\u001b[39m\u001b[38;5;124m'\u001b[39m)\n\u001b[1;32m----> 7\u001b[0m \u001b[38;5;28;01melif\u001b[39;00m \u001b[43mnterms\u001b[49m\u001b[38;5;241m==\u001b[39m\u001b[38;5;241m1\u001b[39m:\n\u001b[0;32m      8\u001b[0m     \u001b[38;5;28mprint\u001b[39m(\u001b[38;5;124m'\u001b[39m\u001b[38;5;124mfebinacci sequence upto\u001b[39m\u001b[38;5;124m'\u001b[39m,nterms)\n\u001b[0;32m      9\u001b[0m \u001b[38;5;28;01melse\u001b[39;00m:\n",
      "\u001b[1;31mNameError\u001b[0m: name 'nterms' is not defined"
     ]
    }
   ],
   "source": [
    "nt=int(input('enter the limit'))\n",
    "n1=0\n",
    "n2=1\n",
    "count=0\n",
    "if nt<0:\n",
    "    print('please enter a positive intiger')\n",
    "elif nterms==1:\n",
    "    print('febinacci sequence upto',nterms)\n",
    "else:\n",
    "    while count<nt:\n",
    "        print(n1)\n",
    "        nth=n1+n2\n",
    "        n1=n2\n",
    "        n2=nth\n",
    "        count+=1"
   ]
  },
  {
   "cell_type": "code",
   "execution_count": 6,
   "id": "0caca8da",
   "metadata": {},
   "outputs": [
    {
     "name": "stdout",
     "output_type": "stream",
     "text": [
      "5\n",
      "54\n",
      "543\n",
      "5432\n",
      "54321\n"
     ]
    }
   ],
   "source": [
    "num=12345\n",
    "reverse=0\n",
    "while num !=0:\n",
    "    digit=num%10\n",
    "    reverse=reverse*10+digit\n",
    "    num//=10\n",
    "    print(str(reverse))"
   ]
  },
  {
   "cell_type": "code",
   "execution_count": 7,
   "id": "c89aa0f9",
   "metadata": {},
   "outputs": [
    {
     "name": "stdout",
     "output_type": "stream",
     "text": [
      "3\n",
      "35\n",
      "354\n",
      "3549\n",
      "35498\n",
      "354987\n",
      "3549872\n"
     ]
    }
   ],
   "source": [
    "nmbr=2789453\n",
    "reverse=0\n",
    "while nmbr !=0:\n",
    "    digit=nmbr%10\n",
    "    reverse=reverse*10+digit\n",
    "    nmbr//=10\n",
    "    print(str(reverse))"
   ]
  },
  {
   "cell_type": "code",
   "execution_count": 8,
   "id": "e8124aaa",
   "metadata": {},
   "outputs": [
    {
     "name": "stdout",
     "output_type": "stream",
     "text": [
      "enter the number :987654321\n",
      "1\n",
      "12\n",
      "123\n",
      "1234\n",
      "12345\n",
      "123456\n",
      "1234567\n",
      "12345678\n",
      "123456789\n"
     ]
    }
   ],
   "source": [
    "no=int(input('enter the number :'))\n",
    "reverse=0\n",
    "while no !=0:\n",
    "    digit=no%10\n",
    "    reverse=reverse*10+digit\n",
    "    no//=10\n",
    "    print(str(reverse))"
   ]
  },
  {
   "cell_type": "code",
   "execution_count": 16,
   "id": "e4b1440d",
   "metadata": {},
   "outputs": [
    {
     "name": "stdout",
     "output_type": "stream",
     "text": [
      "[123456789]\n"
     ]
    }
   ],
   "source": [
    "l5=[123456789]\n",
    "l5.reverse()\n",
    "print(l5)"
   ]
  },
  {
   "cell_type": "code",
   "execution_count": 15,
   "id": "cc1019f9",
   "metadata": {},
   "outputs": [
    {
     "name": "stdout",
     "output_type": "stream",
     "text": [
      "[123456789]\n"
     ]
    }
   ],
   "source": [
    "b=l5[::-1]\n",
    "print(b)"
   ]
  },
  {
   "cell_type": "code",
   "execution_count": 17,
   "id": "ecd7d6ab",
   "metadata": {},
   "outputs": [
    {
     "name": "stdout",
     "output_type": "stream",
     "text": [
      "2\n",
      "20\n",
      "201\n",
      "2014\n",
      "20148\n",
      "201487\n",
      "2014875\n",
      "20148754\n",
      "201487546\n",
      "2014875469\n"
     ]
    }
   ],
   "source": [
    "nbr=9645784102\n",
    "reverse=0\n",
    "while nbr!=0:\n",
    "    digit=nbr%10\n",
    "    reverse=reverse*10+digit\n",
    "    nbr//=10\n",
    "    print(str(reverse))\n",
    "    "
   ]
  },
  {
   "cell_type": "code",
   "execution_count": 27,
   "id": "28b250c6",
   "metadata": {},
   "outputs": [
    {
     "name": "stdout",
     "output_type": "stream",
     "text": [
      "enter a number153\n",
      "153is a armstrong number\n"
     ]
    }
   ],
   "source": [
    "l=int(input('enter a number'))\n",
    "count=0\n",
    "while l!=0:\n",
    "    digit=l%10\n",
    "    count=count+digit**3\n",
    "    l//=10\n",
    "print(str(count)+'is a armstrong number')\n",
    "\n"
   ]
  },
  {
   "cell_type": "code",
   "execution_count": 14,
   "id": "0ac7a434",
   "metadata": {},
   "outputs": [
    {
     "name": "stdout",
     "output_type": "stream",
     "text": [
      "enter a number153\n",
      " 153 is not a armstrong number\n"
     ]
    }
   ],
   "source": [
    "num=int(input('enter a number'))\n",
    "order=len(str(num))\n",
    "temp=0;\n",
    "sum=0\n",
    "while (temp>0):\n",
    "    digit=temp%10\n",
    "    sum +=digit**order\n",
    "    temp//=10\n",
    "if (sum==num):\n",
    "    print('',num,'is a armstromg number')\n",
    "else:\n",
    "    print('',num,'is not a armstrong number')\n"
   ]
  },
  {
   "cell_type": "code",
   "execution_count": 13,
   "id": "4e592ea3",
   "metadata": {},
   "outputs": [
    {
     "name": "stdout",
     "output_type": "stream",
     "text": [
      "enter a number :153\n",
      " 153 is not a armstrong number\n"
     ]
    }
   ],
   "source": [
    "num=int(input('enter a number :'))\n",
    "length= len(str(intiger))\n",
    "tem =num;\n",
    "sum=0\n",
    "while (temp>0):\n",
    "    digit=temp%10\n",
    "    sum += digit**order\n",
    "    temp=temp//10\n",
    "if (sum==num):\n",
    "    print('',num,'is a armstrong number')\n",
    "else:\n",
    "    print('',num,'is not a armstrong number')"
   ]
  },
  {
   "cell_type": "code",
   "execution_count": 17,
   "id": "cf36b30c",
   "metadata": {},
   "outputs": [
    {
     "name": "stdout",
     "output_type": "stream",
     "text": [
      "enter the number :125\n",
      " 125 is not a armstrong  number\n"
     ]
    }
   ],
   "source": [
    "number=int(input('enter the number :'))\n",
    "order= len(str(number))\n",
    "temp=number;\n",
    "sum=0\n",
    "while (temp>0):\n",
    "    digit=temp%10\n",
    "    sum +=digit**order\n",
    "    temp=temp//10\n",
    "if (sum==number):\n",
    "    print('',number,'is a armstrong number')\n",
    "else:\n",
    "    print('',number,'is not a armstrong  number')"
   ]
  },
  {
   "cell_type": "code",
   "execution_count": 1,
   "id": "36b833a2",
   "metadata": {},
   "outputs": [
    {
     "name": "stdout",
     "output_type": "stream",
     "text": [
      "enter a number :153\n",
      " 153 is a armstrong number\n"
     ]
    }
   ],
   "source": [
    "num=int(input('enter a number :'))\n",
    "length=len(str(num))\n",
    "temp=num;\n",
    "sum=0\n",
    "while (temp>0):\n",
    "    digit=temp%10\n",
    "    sum +=digit**3\n",
    "    temp=temp//10\n",
    "if (sum==num):\n",
    "    print('',num,'is a armstrong number')\n",
    "else:\n",
    "    print('',num,'is not a armstrong number')"
   ]
  },
  {
   "cell_type": "code",
   "execution_count": 2,
   "id": "e7766d93",
   "metadata": {},
   "outputs": [],
   "source": [
    "def example ():\n",
    "    print(\"hai\")"
   ]
  },
  {
   "cell_type": "code",
   "execution_count": 3,
   "id": "163790e2",
   "metadata": {},
   "outputs": [
    {
     "name": "stdout",
     "output_type": "stream",
     "text": [
      "hai\n"
     ]
    }
   ],
   "source": [
    "example()"
   ]
  },
  {
   "cell_type": "code",
   "execution_count": 6,
   "id": "817bd140",
   "metadata": {},
   "outputs": [
    {
     "name": "stdout",
     "output_type": "stream",
     "text": [
      "14\n"
     ]
    }
   ],
   "source": [
    "def sum(a,b):\n",
    "    print(a+b)\n",
    "sum(5,9)"
   ]
  },
  {
   "cell_type": "code",
   "execution_count": 7,
   "id": "77a420fc",
   "metadata": {},
   "outputs": [
    {
     "name": "stdout",
     "output_type": "stream",
     "text": [
      "-2\n"
     ]
    }
   ],
   "source": [
    "def add (b,h):\n",
    "    print(b-h)\n",
    "add (7,9)"
   ]
  },
  {
   "cell_type": "code",
   "execution_count": 10,
   "id": "05132354",
   "metadata": {},
   "outputs": [
    {
     "name": "stdout",
     "output_type": "stream",
     "text": [
      "akku 19\n"
     ]
    }
   ],
   "source": [
    "def student(name,age):\n",
    "    print(name,age)\n",
    "student('akku',19)"
   ]
  },
  {
   "cell_type": "code",
   "execution_count": 15,
   "id": "58961d1e",
   "metadata": {},
   "outputs": [
    {
     "name": "stdout",
     "output_type": "stream",
     "text": [
      "hi sulfath good morning\n"
     ]
    }
   ],
   "source": [
    "def wish(name,msg='good morning'):\n",
    "    print('hi',name+' '+msg)\n",
    "wish('sulfath')"
   ]
  },
  {
   "cell_type": "code",
   "execution_count": 18,
   "id": "36080f7d",
   "metadata": {},
   "outputs": [
    {
     "name": "stdout",
     "output_type": "stream",
     "text": [
      "hi karthu good morning\n"
     ]
    }
   ],
   "source": [
    "wish('karthu')"
   ]
  },
  {
   "cell_type": "code",
   "execution_count": 19,
   "id": "a83d6ac9",
   "metadata": {},
   "outputs": [
    {
     "name": "stdout",
     "output_type": "stream",
     "text": [
      "hi anu how are you\n"
     ]
    }
   ],
   "source": [
    "wish('anu','how are you')"
   ]
  },
  {
   "cell_type": "code",
   "execution_count": 20,
   "id": "ab177017",
   "metadata": {},
   "outputs": [
    {
     "name": "stdout",
     "output_type": "stream",
     "text": [
      "adarsh\n",
      "20\n"
     ]
    }
   ],
   "source": [
    "def student(name,age):\n",
    "    print(name)\n",
    "    print(age)\n",
    "student('adarsh',age=20)"
   ]
  },
  {
   "cell_type": "code",
   "execution_count": 21,
   "id": "2cbf0260",
   "metadata": {},
   "outputs": [
    {
     "ename": "SyntaxError",
     "evalue": "positional argument follows keyword argument (2099497022.py, line 4)",
     "output_type": "error",
     "traceback": [
      "\u001b[1;36m  Input \u001b[1;32mIn [21]\u001b[1;36m\u001b[0m\n\u001b[1;33m    student(age=21,shana)\u001b[0m\n\u001b[1;37m                        ^\u001b[0m\n\u001b[1;31mSyntaxError\u001b[0m\u001b[1;31m:\u001b[0m positional argument follows keyword argument\n"
     ]
    }
   ],
   "source": [
    "def student(name,age):\n",
    "    print(name)\n",
    "    print(age)\n",
    "student(age=21,shana)"
   ]
  },
  {
   "cell_type": "code",
   "execution_count": 22,
   "id": "666ded78",
   "metadata": {},
   "outputs": [
    {
     "name": "stdout",
     "output_type": "stream",
     "text": [
      "8\n",
      "2\n"
     ]
    }
   ],
   "source": [
    "def sum(a,b):\n",
    "    print(a+b)\n",
    "    print(a-b)\n",
    "sum(5,3)"
   ]
  },
  {
   "cell_type": "code",
   "execution_count": 26,
   "id": "d5795bb2",
   "metadata": {},
   "outputs": [
    {
     "name": "stdout",
     "output_type": "stream",
     "text": [
      "asmi\n",
      "9000\n"
     ]
    }
   ],
   "source": [
    "def employee(name,salary=9000):\n",
    "    print(name)\n",
    "    print(salary)\n",
    "employee('asmi')"
   ]
  },
  {
   "cell_type": "code",
   "execution_count": 27,
   "id": "088d5c37",
   "metadata": {},
   "outputs": [
    {
     "name": "stdout",
     "output_type": "stream",
     "text": [
      "4\n"
     ]
    }
   ],
   "source": [
    "a=lambda x:x*2\n",
    "print(a(2))"
   ]
  },
  {
   "cell_type": "code",
   "execution_count": 28,
   "id": "fef3d061",
   "metadata": {},
   "outputs": [
    {
     "name": "stdout",
     "output_type": "stream",
     "text": [
      "25\n"
     ]
    }
   ],
   "source": [
    "v=lambda x:x**2\n",
    "print(v(5))"
   ]
  },
  {
   "cell_type": "code",
   "execution_count": 29,
   "id": "7abcbc84",
   "metadata": {},
   "outputs": [],
   "source": [
    "s=[1,2,3,4,5,6,7,8]\n",
    "l=list(filter(lambda x:x%2==0,s))"
   ]
  },
  {
   "cell_type": "code",
   "execution_count": 30,
   "id": "cc862ec3",
   "metadata": {},
   "outputs": [
    {
     "name": "stdout",
     "output_type": "stream",
     "text": [
      "[2, 4, 6, 8]\n"
     ]
    }
   ],
   "source": [
    "print(l)"
   ]
  },
  {
   "cell_type": "code",
   "execution_count": 31,
   "id": "1d014ce3",
   "metadata": {},
   "outputs": [],
   "source": [
    "l1=list(map(lambda x:x**2,s))"
   ]
  },
  {
   "cell_type": "code",
   "execution_count": 33,
   "id": "9983ad9f",
   "metadata": {},
   "outputs": [
    {
     "name": "stdout",
     "output_type": "stream",
     "text": [
      "[1, 4, 9, 16, 25, 36, 49, 64]\n"
     ]
    }
   ],
   "source": [
    "print(l1)"
   ]
  },
  {
   "cell_type": "code",
   "execution_count": 36,
   "id": "f783dbf4",
   "metadata": {},
   "outputs": [
    {
     "name": "stdout",
     "output_type": "stream",
     "text": [
      "[1, 4, 9, 16, 25, 36, 49, 64, 81, 100, 121, 144, 169, 196, 225, 256, 289, 324, 361, 400]\n"
     ]
    }
   ],
   "source": [
    "f=[1,2,3,4,5,6,7,8,9,10,11,12,13,14,15,16,17,18,19,20]\n",
    "u=list(map(lambda x1:x1**2,f))\n",
    "print(u)"
   ]
  },
  {
   "cell_type": "code",
   "execution_count": 37,
   "id": "1ab0957f",
   "metadata": {},
   "outputs": [
    {
     "name": "stdout",
     "output_type": "stream",
     "text": [
      "[1, 3, 5, 7, 9, 11, 13, 15, 17, 19]\n"
     ]
    }
   ],
   "source": [
    "j=list(filter(lambda x:x%2==1,f))\n",
    "print(j)"
   ]
  },
  {
   "cell_type": "code",
   "execution_count": 38,
   "id": "ff6c9bec",
   "metadata": {},
   "outputs": [
    {
     "name": "stdout",
     "output_type": "stream",
     "text": [
      "[2, 4, 6, 8, 10, 12, 14, 16, 18, 20]\n"
     ]
    }
   ],
   "source": [
    "j1=list(filter(lambda x:x%2==0,f))\n",
    "print(j1)"
   ]
  },
  {
   "cell_type": "code",
   "execution_count": 42,
   "id": "49cec6ec",
   "metadata": {},
   "outputs": [
    {
     "name": "stdout",
     "output_type": "stream",
     "text": [
      "[1, 3, 5, 7, 9, 11, 13, 15, 17, 19, 2, 4, 6, 8, 10, 12, 14, 16, 18, 20]\n"
     ]
    }
   ],
   "source": [
    "j2=list(filter(lambda x:x**2,j+j1))\n",
    "print(j2)"
   ]
  },
  {
   "cell_type": "code",
   "execution_count": null,
   "id": "cb905196",
   "metadata": {},
   "outputs": [],
   "source": []
  }
 ],
 "metadata": {
  "kernelspec": {
   "display_name": "Python 3 (ipykernel)",
   "language": "python",
   "name": "python3"
  },
  "language_info": {
   "codemirror_mode": {
    "name": "ipython",
    "version": 3
   },
   "file_extension": ".py",
   "mimetype": "text/x-python",
   "name": "python",
   "nbconvert_exporter": "python",
   "pygments_lexer": "ipython3",
   "version": "3.9.12"
  }
 },
 "nbformat": 4,
 "nbformat_minor": 5
}
