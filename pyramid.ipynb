{
 "cells": [
  {
   "cell_type": "code",
   "execution_count": 1,
   "id": "85c20e94",
   "metadata": {},
   "outputs": [
    {
     "name": "stdout",
     "output_type": "stream",
     "text": [
      "\n",
      "1 \n",
      "2 2 \n",
      "3 3 3 \n",
      "4 4 4 4 \n",
      "5 5 5 5 5 \n"
     ]
    }
   ],
   "source": [
    "num = 6\n",
    "\n",
    "for i in range(num):\n",
    "    for j in range(i):\n",
    "        print(i, end=' ')\n",
    "    print('')"
   ]
  },
  {
   "cell_type": "code",
   "execution_count": 2,
   "id": "dee2a3a1",
   "metadata": {},
   "outputs": [
    {
     "name": "stdout",
     "output_type": "stream",
     "text": [
      "2002\n",
      "2009\n",
      "2016\n",
      "2023\n",
      "2037\n",
      "2044\n",
      "2051\n",
      "2058\n",
      "2072\n",
      "2079\n",
      "2086\n",
      "2093\n",
      "2107\n",
      "2114\n",
      "2121\n",
      "2128\n",
      "2142\n",
      "2149\n",
      "2156\n",
      "2163\n",
      "2177\n",
      "2184\n",
      "2191\n",
      "2198\n",
      "2212\n",
      "2219\n",
      "2226\n",
      "2233\n",
      "2247\n",
      "2254\n",
      "2261\n",
      "2268\n",
      "2282\n",
      "2289\n",
      "2296\n",
      "2303\n",
      "2317\n",
      "2324\n",
      "2331\n",
      "2338\n",
      "2352\n",
      "2359\n",
      "2366\n",
      "2373\n",
      "2387\n",
      "2394\n",
      "2401\n",
      "2408\n",
      "2422\n",
      "2429\n",
      "2436\n",
      "2443\n",
      "2457\n",
      "2464\n",
      "2471\n",
      "2478\n",
      "2492\n",
      "2499\n",
      "2506\n",
      "2513\n",
      "2527\n",
      "2534\n",
      "2541\n",
      "2548\n",
      "2562\n",
      "2569\n",
      "2576\n",
      "2583\n",
      "2597\n",
      "2604\n",
      "2611\n",
      "2618\n",
      "2632\n",
      "2639\n",
      "2646\n",
      "2653\n",
      "2667\n",
      "2674\n",
      "2681\n",
      "2688\n",
      "2702\n",
      "2709\n",
      "2716\n",
      "2723\n",
      "2737\n",
      "2744\n",
      "2751\n",
      "2758\n",
      "2772\n",
      "2779\n",
      "2786\n",
      "2793\n",
      "2807\n",
      "2814\n",
      "2821\n",
      "2828\n",
      "2842\n",
      "2849\n",
      "2856\n",
      "2863\n",
      "2877\n",
      "2884\n",
      "2891\n",
      "2898\n",
      "2912\n",
      "2919\n",
      "2926\n",
      "2933\n",
      "2947\n",
      "2954\n",
      "2961\n",
      "2968\n",
      "2982\n",
      "2989\n",
      "2996\n",
      "3003\n",
      "3017\n",
      "3024\n",
      "3031\n",
      "3038\n",
      "3052\n",
      "3059\n",
      "3066\n",
      "3073\n",
      "3087\n",
      "3094\n",
      "3101\n",
      "3108\n",
      "3122\n",
      "3129\n",
      "3136\n",
      "3143\n",
      "3157\n",
      "3164\n",
      "3171\n",
      "3178\n",
      "3192\n",
      "3199\n"
     ]
    }
   ],
   "source": [
    "a=2000\n",
    "b=3200\n",
    "for i in range(2000,3200+1):\n",
    "    if (i%7==0 and i%5!=0):\n",
    "        print(i)"
   ]
  },
  {
   "cell_type": "code",
   "execution_count": 3,
   "id": "1c6e3002",
   "metadata": {},
   "outputs": [
    {
     "name": "stdout",
     "output_type": "stream",
     "text": [
      "{1: 1, 2: 4, 3: 9, 4: 16, 5: 25, 6: 36, 7: 49, 8: 64}\n"
     ]
    }
   ],
   "source": [
    "d=dict()\n",
    "for i in range(1,8+1):\n",
    "    d[i]=i*i\n",
    "print(d)\n",
    "    "
   ]
  },
  {
   "cell_type": "code",
   "execution_count": 4,
   "id": "0d3d081d",
   "metadata": {},
   "outputs": [
    {
     "name": "stdout",
     "output_type": "stream",
     "text": [
      "6\n",
      "['6']\n"
     ]
    }
   ],
   "source": [
    "o=input()\n",
    "g=o.split(',')\n",
    "print(g)"
   ]
  },
  {
   "cell_type": "code",
   "execution_count": 5,
   "id": "6a544b6d",
   "metadata": {},
   "outputs": [
    {
     "name": "stdout",
     "output_type": "stream",
     "text": [
      "8\n",
      "['8']\n"
     ]
    }
   ],
   "source": [
    "v=input()\n",
    "k=v.split(',')\n",
    "print(k)\n"
   ]
  },
  {
   "cell_type": "code",
   "execution_count": 6,
   "id": "82b00de1",
   "metadata": {},
   "outputs": [
    {
     "name": "stdout",
     "output_type": "stream",
     "text": [
      "7\n",
      "['7']\n"
     ]
    }
   ],
   "source": [
    "list=input()\n",
    "sort=sorted(list)\n",
    "print(sort)\n"
   ]
  },
  {
   "cell_type": "markdown",
   "id": "04278008",
   "metadata": {},
   "source": [
    "list=input()\n",
    "sort=sorted(list)\n",
    "print(sort)"
   ]
  },
  {
   "cell_type": "code",
   "execution_count": 7,
   "id": "63de6176",
   "metadata": {},
   "outputs": [
    {
     "name": "stdout",
     "output_type": "stream",
     "text": [
      "['apple', 'bag', 'grapes', 'orange']\n"
     ]
    }
   ],
   "source": [
    "mylist='apple','orange','grapes','bag'\n",
    "sort=sorted(mylist)\n",
    "print(sort)"
   ]
  },
  {
   "cell_type": "code",
   "execution_count": 8,
   "id": "7d113fff",
   "metadata": {},
   "outputs": [],
   "source": [
    "u=tuple(k)"
   ]
  },
  {
   "cell_type": "code",
   "execution_count": 9,
   "id": "acfc99b2",
   "metadata": {},
   "outputs": [
    {
     "name": "stdout",
     "output_type": "stream",
     "text": [
      "('8',)\n"
     ]
    }
   ],
   "source": [
    "print(u)"
   ]
  },
  {
   "cell_type": "code",
   "execution_count": 10,
   "id": "6f172159",
   "metadata": {},
   "outputs": [
    {
     "name": "stdout",
     "output_type": "stream",
     "text": [
      "enter the number of raws :7\n",
      "* * * * * * * \n",
      "* * * * * * * \n",
      "* * * * * * * \n",
      "* * * * * * * \n",
      "* * * * * * * \n",
      "* * * * * * * \n",
      "* * * * * * * \n"
     ]
    }
   ],
   "source": [
    "num=int(input('enter the number of raws :'))\n",
    "for i in range (num):\n",
    "    for j in range(num):\n",
    "        print('*',end=' ')\n",
    "    print()"
   ]
  },
  {
   "cell_type": "code",
   "execution_count": 11,
   "id": "1e5d5fcd",
   "metadata": {},
   "outputs": [
    {
     "name": "stdout",
     "output_type": "stream",
     "text": [
      "enter the number of raws :6\n",
      "\n",
      "\n",
      "\n",
      "\n",
      "\n",
      "\n",
      "\n",
      "*\n",
      "*\n",
      "*\n",
      "*\n",
      "*\n",
      "*\n",
      "\n",
      "**\n",
      "**\n",
      "**\n",
      "**\n",
      "**\n",
      "**\n",
      "\n",
      "***\n",
      "***\n",
      "***\n",
      "***\n",
      "***\n",
      "***\n",
      "\n",
      "****\n",
      "****\n",
      "****\n",
      "****\n",
      "****\n",
      "****\n",
      "\n",
      "*****\n",
      "*****\n",
      "*****\n",
      "*****\n",
      "*****\n",
      "*****\n",
      "\n"
     ]
    }
   ],
   "source": [
    "raw=int(input('enter the number of raws :'))\n",
    "for i in range(raw):\n",
    "    for j in range(raw):\n",
    "        print('*'*i)\n",
    "    print()"
   ]
  },
  {
   "cell_type": "code",
   "execution_count": 12,
   "id": "20d72222",
   "metadata": {},
   "outputs": [
    {
     "name": "stdout",
     "output_type": "stream",
     "text": [
      "enter the number of raws :6\n",
      "\n",
      "*\n",
      "**\n",
      "***\n",
      "****\n",
      "*****\n",
      "\n"
     ]
    }
   ],
   "source": [
    "raw=int(input('enter the number of raws :'))\n",
    "for i in range(raw):\n",
    "      print('*'*i)\n",
    "print()"
   ]
  },
  {
   "cell_type": "code",
   "execution_count": 13,
   "id": "a25aa364",
   "metadata": {},
   "outputs": [
    {
     "ename": "SyntaxError",
     "evalue": "invalid syntax (1952475127.py, line 2)",
     "output_type": "error",
     "traceback": [
      "\u001b[1;36m  Input \u001b[1;32mIn [13]\u001b[1;36m\u001b[0m\n\u001b[1;33m    print(''*(num)'*'*i)\u001b[0m\n\u001b[1;37m                  ^\u001b[0m\n\u001b[1;31mSyntaxError\u001b[0m\u001b[1;31m:\u001b[0m invalid syntax\n"
     ]
    }
   ],
   "source": [
    "for i in range(num):\n",
    "    print(''*(num)'*'*i)\n",
    "    "
   ]
  },
  {
   "cell_type": "code",
   "execution_count": 14,
   "id": "faf08bff",
   "metadata": {},
   "outputs": [
    {
     "name": "stdout",
     "output_type": "stream",
     "text": [
      "enter the number of raws :5\n",
      "i+j i+j i+j i+j i+j \n",
      "i+j i+j i+j i+j i+j \n",
      "i+j i+j i+j i+j i+j \n",
      "i+j i+j i+j i+j i+j \n",
      "i+j i+j i+j i+j i+j \n"
     ]
    }
   ],
   "source": [
    "#pyramid\n",
    "num=int(input('enter the number of raws :'))\n",
    "for i in range(num):\n",
    "    for j in range(num):\n",
    "        print('i+j',end=\" \")\n",
    "    print()"
   ]
  },
  {
   "cell_type": "code",
   "execution_count": 15,
   "id": "723e0f61",
   "metadata": {},
   "outputs": [
    {
     "name": "stdout",
     "output_type": "stream",
     "text": [
      "entr=er the number of raws :5\n",
      "# # # # # \n",
      "# # # # # \n",
      "# # # # # \n",
      "# # # # # \n",
      "# # # # # \n"
     ]
    }
   ],
   "source": [
    "raw=int(input('entr=er the number of raws :'))\n",
    "for i in range(raw) :\n",
    "    for j in range(raw):\n",
    "        print('#',end=' ')\n",
    "    print()"
   ]
  },
  {
   "cell_type": "code",
   "execution_count": 16,
   "id": "fe629070",
   "metadata": {},
   "outputs": [
    {
     "name": "stdout",
     "output_type": "stream",
     "text": [
      "enter the number of raws6\n",
      "1 1 1 1 1 1 \n",
      "1 1 1 1 1 1 \n",
      "1 1 1 1 1 1 \n",
      "1 1 1 1 1 1 \n",
      "1 1 1 1 1 1 \n",
      "1 1 1 1 1 1 \n"
     ]
    }
   ],
   "source": [
    "linecolumn=int(input(\"enter the number of raws\"))\n",
    "for i in range(linecolumn):\n",
    "    for j in range(linecolumn):\n",
    "        print('1',end=' ')\n",
    "    print()"
   ]
  },
  {
   "cell_type": "code",
   "execution_count": 17,
   "id": "3d1b25e8",
   "metadata": {},
   "outputs": [
    {
     "name": "stdout",
     "output_type": "stream",
     "text": [
      "enter the number of raws :5\n",
      "\n",
      "*\n",
      "**\n",
      "***\n",
      "****\n",
      "\n"
     ]
    }
   ],
   "source": [
    "pyramid=int(input('enter the number of raws :'))\n",
    "for i in range(pyramid):\n",
    "    print('*'*i)\n",
    "print()\n",
    "        "
   ]
  },
  {
   "cell_type": "code",
   "execution_count": 18,
   "id": "23cff8b7",
   "metadata": {},
   "outputs": [
    {
     "name": "stdout",
     "output_type": "stream",
     "text": [
      "entr the number of raws :5\n",
      "\n",
      "@\n",
      "@@\n",
      "@@@\n",
      "@@@@\n",
      "\n"
     ]
    }
   ],
   "source": [
    "raw4=int(input('entr the number of raws :'))\n",
    "for i in range(raw4):\n",
    "    print('@'*i)\n",
    "print()"
   ]
  },
  {
   "cell_type": "code",
   "execution_count": 19,
   "id": "a5653fd4",
   "metadata": {},
   "outputs": [
    {
     "name": "stdout",
     "output_type": "stream",
     "text": [
      "enter the number of raws :6\n",
      "      \n",
      "     * \n",
      "    * * \n",
      "   * * * \n",
      "  * * * * \n",
      " * * * * * \n",
      "\n"
     ]
    }
   ],
   "source": [
    "raw6=int(input('enter the number of raws :')) \n",
    "for i in range(raw6):\n",
    "    print(' '*(raw6-i)+'* '*i)\n",
    "print()"
   ]
  },
  {
   "cell_type": "code",
   "execution_count": 20,
   "id": "8da3878b",
   "metadata": {},
   "outputs": [
    {
     "name": "stdout",
     "output_type": "stream",
     "text": [
      "enter the number of raws :6\n",
      "      \n",
      "     *\n",
      "    **\n",
      "   ***\n",
      "  ****\n",
      " *****\n"
     ]
    }
   ],
   "source": [
    "raw7=int(input('enter the number of raws :'))\n",
    "for i in range(raw7):\n",
    "    print(' '*(raw7-i)+'*'*i)"
   ]
  },
  {
   "cell_type": "code",
   "execution_count": 21,
   "id": "0c16297e",
   "metadata": {},
   "outputs": [
    {
     "name": "stdout",
     "output_type": "stream",
     "text": [
      "enter the number of raws :4\n",
      "* * * * \n",
      "* * * * \n",
      "* * * * \n",
      "* * * * \n"
     ]
    }
   ],
   "source": [
    "pyramid=int(input('enter the number of raws :'))\n",
    "for i in range(pyramid):\n",
    "    for j in range(pyramid):\n",
    "        print('*',end=' ')\n",
    "    print()"
   ]
  },
  {
   "cell_type": "code",
   "execution_count": 22,
   "id": "54ff2f82",
   "metadata": {},
   "outputs": [
    {
     "name": "stdout",
     "output_type": "stream",
     "text": [
      "enter the number of raws :4\n",
      "\n",
      "*\n",
      "**\n",
      "***\n",
      "\n"
     ]
    }
   ],
   "source": [
    "pyramid1=int(input('enter the number of raws :'))\n",
    "for i in range(pyramid1):\n",
    "    print('*'*i)\n",
    "print()"
   ]
  },
  {
   "cell_type": "code",
   "execution_count": 23,
   "id": "8f97fe54",
   "metadata": {},
   "outputs": [
    {
     "name": "stdout",
     "output_type": "stream",
     "text": [
      "enter the number of raw :5\n",
      "    \n",
      "   *\n",
      "  **\n",
      " ***\n",
      "****\n"
     ]
    }
   ],
   "source": [
    "pyramid2=int(input('enter the number of raw :'))\n",
    "for i in range(pyramid2):\n",
    "    print(' '*(pyramid-i)+'*'*i)\n"
   ]
  },
  {
   "cell_type": "code",
   "execution_count": 24,
   "id": "14cef94d",
   "metadata": {},
   "outputs": [
    {
     "name": "stdout",
     "output_type": "stream",
     "text": [
      "enter the number of raw :6\n",
      "    \n",
      "   * \n",
      "  * * \n",
      " * * * \n",
      "* * * * \n",
      "* * * * * \n"
     ]
    }
   ],
   "source": [
    "pyramid2=int(input('enter the number of raw :'))\n",
    "for i in range(pyramid2):\n",
    "    print(' '*(pyramid-i)+'* '*i)\n"
   ]
  },
  {
   "cell_type": "code",
   "execution_count": 38,
   "id": "e61f5d6a",
   "metadata": {},
   "outputs": [
    {
     "name": "stdout",
     "output_type": "stream",
     "text": [
      "2 \n",
      "3 4 \n",
      "4 5 6 \n",
      "5 6 7 8 \n",
      "6 7 8 9 10 \n"
     ]
    }
   ],
   "source": [
    "rows=5\n",
    "for i in range(1,rows+1):\n",
    "1 \n",
    "    for j in range(1,i+1):\n",
    "        print(j+i,end=' ')\n",
    "    print()"
   ]
  },
  {
   "cell_type": "code",
   "execution_count": 53,
   "id": "816eb110",
   "metadata": {},
   "outputs": [
    {
     "name": "stdout",
     "output_type": "stream",
     "text": [
      "\n",
      "1 \n",
      "2 3 \n",
      "3 4 5 \n",
      "4 5 6 7 \n",
      "5 6 7 8 9 \n"
     ]
    }
   ],
   "source": [
    "rows=5\n",
    "for i in range(0,rows+1):\n",
    "    for j in range(0,i):\n",
    "        print(j+i,end=' ')\n",
    "    print()"
   ]
  },
  {
   "cell_type": "code",
   "execution_count": 27,
   "id": "06b2c25d",
   "metadata": {},
   "outputs": [
    {
     "name": "stdout",
     "output_type": "stream",
     "text": [
      "2 \n",
      "4 3 \n",
      "6 5 4 \n",
      "8 7 6 5 \n",
      "10 9 8 7 6 \n",
      "12 11 10 9 8 7 \n"
     ]
    }
   ],
   "source": [
    "rows=6\n",
    "for i in range(1,rows+1):\n",
    "    for j in range(i,0,-1):\n",
    "        print(j+i,end=' ')\n",
    "    print()\n",
    "               "
   ]
  },
  {
   "cell_type": "code",
   "execution_count": 28,
   "id": "0e0ce939",
   "metadata": {},
   "outputs": [
    {
     "name": "stdout",
     "output_type": "stream",
     "text": [
      "     \n",
      "    * \n",
      "   * * \n",
      "  * * * \n",
      " * * * * \n"
     ]
    }
   ],
   "source": [
    "rows=5\n",
    "for i in range(rows):\n",
    "    print(' '*(rows-i)+'* '*i)"
   ]
  },
  {
   "cell_type": "code",
   "execution_count": 29,
   "id": "decdb9a4",
   "metadata": {},
   "outputs": [
    {
     "name": "stdout",
     "output_type": "stream",
     "text": [
      "entr the number of raws :6\n",
      " ********* ******* ******* ***** ***** ***** *** *** *** *** * * * * *\n"
     ]
    }
   ],
   "source": [
    "raws=int(input('entr the number of raws :'))\n",
    "for i in range(raws,0,-1):\n",
    "    for j in range(raws-i):\n",
    "        print(' ',end='')\n",
    "        for j in range(2*i-1):\n",
    "            print('*',end='')\n",
    "print()"
   ]
  },
  {
   "cell_type": "code",
   "execution_count": 30,
   "id": "19b5a67b",
   "metadata": {},
   "outputs": [
    {
     "name": "stdout",
     "output_type": "stream",
     "text": [
      "entr the number of raws :7\n",
      "* * * * * * * * * * * * * * * * * * * * * \n"
     ]
    }
   ],
   "source": [
    "raws=int(input('entr the number of raws :'))\n",
    "for i in range(raws,0,-1):\n",
    "    for j in range(raws-i):\n",
    "        print('*',end=' ')\n",
    "        #for j in range(2*i-1):\n",
    "            #print('*',end='')\n",
    "print()"
   ]
  },
  {
   "cell_type": "code",
   "execution_count": 31,
   "id": "d24695db",
   "metadata": {},
   "outputs": [
    {
     "name": "stdout",
     "output_type": "stream",
     "text": [
      " * * * * *\n",
      " * * * *\n",
      " * * *\n",
      " * *\n",
      " *\n"
     ]
    }
   ],
   "source": [
    "rows=5\n",
    "for i in range(rows):\n",
    "    print(' *'*(rows-i)+''*i)"
   ]
  },
  {
   "cell_type": "code",
   "execution_count": 32,
   "id": "c3e1cc52",
   "metadata": {},
   "outputs": [
    {
     "name": "stdout",
     "output_type": "stream",
     "text": [
      "Enter the number of rows: 6\n",
      "          * * * * * * * \n",
      "           * * * * * * \n",
      "            * * * * * \n",
      "             * * * * \n",
      "              * * * \n",
      "               * * \n",
      "                * \n"
     ]
    }
   ],
   "source": [
    "rows = int(input(\"Enter the number of rows: \"))  \n",
    "k = 2*rows-2  \n",
    "for i in range(rows, -1, -1):  \n",
    "    for j in range(k, 0, -1): \n",
    "        print(end=\" \")  \n",
    "    k = k + 1  \n",
    "    for j in range(0, i + 1):\n",
    "        print(\"*\", end=\" \")  \n",
    "    print(\"\")  \n"
   ]
  },
  {
   "cell_type": "code",
   "execution_count": 33,
   "id": "05b762f5",
   "metadata": {},
   "outputs": [
    {
     "name": "stdout",
     "output_type": "stream",
     "text": [
      "    *\n",
      "   **\n",
      "  ***\n",
      " ****\n",
      "*****\n"
     ]
    }
   ],
   "source": [
    "num=5\n",
    "for i in range(1,num+1):\n",
    "    print(' '*(num-i)+'*'*i)"
   ]
  },
  {
   "cell_type": "code",
   "execution_count": 34,
   "id": "af2c3afa",
   "metadata": {},
   "outputs": [
    {
     "name": "stdout",
     "output_type": "stream",
     "text": [
      "M\n",
      "MN\n",
      "MNO\n",
      "MNOP\n",
      "MNOPQ\n"
     ]
    }
   ],
   "source": [
    "n = 5\n",
    "for i in range(n):\n",
    "    for j in range(i+1):\n",
    "        print(chr(j + 77), end=\"\")\n",
    "    print()\n"
   ]
  },
  {
   "cell_type": "code",
   "execution_count": 74,
   "id": "f5fc77ee",
   "metadata": {},
   "outputs": [
    {
     "name": "stdout",
     "output_type": "stream",
     "text": [
      "p\n",
      "py\n",
      "pyt\n",
      "pyth\n",
      "pytho\n",
      "python\n"
     ]
    }
   ],
   "source": [
    "s='python'\n",
    "l=0\n",
    "for i in s:\n",
    "    l=l+1\n",
    "    print(s[0:l])\n",
    "    "
   ]
  },
  {
   "cell_type": "code",
   "execution_count": 36,
   "id": "c740fee8",
   "metadata": {},
   "outputs": [
    {
     "name": "stdout",
     "output_type": "stream",
     "text": [
      "p\n",
      "py\n",
      "pyt\n",
      "pyth\n",
      "pytho\n",
      "python\n"
     ]
    }
   ],
   "source": [
    "s='python'\n",
    "l=0\n",
    "for i in s:\n",
    "    l=l+1\n",
    "    print(s[0:l])\n",
    "    \n",
    "    "
   ]
  },
  {
   "cell_type": "code",
   "execution_count": 39,
   "id": "0b512e22",
   "metadata": {},
   "outputs": [
    {
     "name": "stdout",
     "output_type": "stream",
     "text": [
      "p\n",
      "py\n",
      "pyt\n",
      "pyth\n",
      "pytho\n",
      "python\n",
      "pytho\n",
      "pyth\n",
      "pyt\n",
      "py\n",
      "p\n",
      "\n"
     ]
    }
   ],
   "source": [
    "s=\"python\"\n",
    "\n",
    "l=0\n",
    "t=0\n",
    "for i in s:\n",
    "    l=l+1\n",
    "    print(s[0:l])\n",
    "for i in s:\n",
    "    l=l-1\n",
    "    print(s[0:l])\n",
    "        "
   ]
  },
  {
   "cell_type": "code",
   "execution_count": 40,
   "id": "5aa78c22",
   "metadata": {},
   "outputs": [
    {
     "name": "stdout",
     "output_type": "stream",
     "text": [
      "     \n",
      "    * \n",
      "   * * \n",
      "  * * * \n",
      " * * * * \n"
     ]
    }
   ],
   "source": [
    "num=5\n",
    "for i in range(num): \n",
    "    print(' '*(num-i)+'* '*i)\n",
    "    \n",
    "    "
   ]
  },
  {
   "cell_type": "code",
   "execution_count": 41,
   "id": "97922ca8",
   "metadata": {},
   "outputs": [
    {
     "name": "stdout",
     "output_type": "stream",
     "text": [
      "Enter diamond's height: 5\n",
      "      *\n",
      "     ***\n",
      "    *****\n",
      "   *******\n",
      "  *********\n",
      "   *******\n",
      "    *****\n",
      "     ***\n",
      "      *\n"
     ]
    }
   ],
   "source": [
    "h = eval(input(\"Enter diamond's height: \"))\n",
    "for x in range(h):\n",
    "    print(\" \" * (h - x), \"*\" * (2*x + 1))\n",
    "for x in range(h - 2, -1, -1):\n",
    "    print(\" \" * (h - x), \"*\" * (2*x + 1))"
   ]
  },
  {
   "cell_type": "code",
   "execution_count": 69,
   "id": "5e15a4b5",
   "metadata": {},
   "outputs": [
    {
     "name": "stdout",
     "output_type": "stream",
     "text": [
      "enter diamond height :5\n",
      "      *\n",
      "     ***\n",
      "    *****\n",
      "   *******\n",
      "  *********\n"
     ]
    }
   ],
   "source": [
    "h=eval(input('enter diamond height :'))\n",
    "for i in range(h):\n",
    "    print(' '*(h-i),'*'*(2*i+1))"
   ]
  },
  {
   "cell_type": "code",
   "execution_count": 43,
   "id": "4af60f1f",
   "metadata": {},
   "outputs": [
    {
     "name": "stdout",
     "output_type": "stream",
     "text": [
      "enter diamond height :5\n",
      "   *******\n",
      "    *****\n",
      "     ***\n",
      "      *\n"
     ]
    }
   ],
   "source": [
    "h=eval(input('enter diamond height :'))\n",
    "for x in range(h - 2, -1, -1):\n",
    "    print(\" \" * (h - x), \"*\" * (2*x + 1))"
   ]
  },
  {
   "cell_type": "code",
   "execution_count": 44,
   "id": "b12a11aa",
   "metadata": {},
   "outputs": [
    {
     "name": "stdout",
     "output_type": "stream",
     "text": [
      "p\n",
      "py\n",
      "pyt\n",
      "pyth\n",
      "pytho\n",
      "python\n",
      "pytho\n",
      "pyth\n",
      "pyt\n",
      "py\n",
      "p\n",
      "\n",
      "\n",
      "\n",
      "\n",
      "\n",
      "\n",
      "\n",
      "\n",
      "\n",
      "\n",
      "\n",
      "\n",
      "\n"
     ]
    }
   ],
   "source": [
    "s=\"python\"\n",
    "\n",
    "l=0\n",
    "t=0\n",
    "for i in s:\n",
    "    l=l+1\n",
    "    print(s[0:l])\n",
    "for i in s:\n",
    "    l=l-1\n",
    "    print(s[-0:l])\n",
    "for i in s:\n",
    "    t=t+1\n",
    "    print(s[-l:0])\n",
    "for i in s:\n",
    "    t=t-1\n",
    "    print(s[-l:0])\n",
    "\n",
    "    \n",
    "\n",
    "        "
   ]
  },
  {
   "cell_type": "code",
   "execution_count": 45,
   "id": "8c04b496",
   "metadata": {},
   "outputs": [
    {
     "name": "stdout",
     "output_type": "stream",
     "text": [
      "height:5\n",
      "                python \n",
      "\n",
      "             python python \n",
      "\n",
      "          python python python \n",
      "\n",
      "       python python python python \n",
      "\n",
      "    python python python python python \n",
      "\n",
      "       python python python python \n",
      "\n",
      "          python python python \n",
      "\n",
      "             python python \n",
      "\n",
      "                python \n",
      "\n"
     ]
    }
   ],
   "source": [
    "b='python'\n",
    "l=0\n",
    "h=eval(input('height:'))\n",
    "\n",
    "\n",
    "for x in range(h):\n",
    "    print('   '* (h- x),\"python \" *(1*x+1))\n",
    "    print('\\r')\n",
    "    \n",
    "for x in range(h-2,-1,-1):\n",
    "    print('   '* (h- x),\"python \" *(1*x+1))\n",
    "    print('\\r')"
   ]
  },
  {
   "cell_type": "code",
   "execution_count": 70,
   "id": "3a1e2abb",
   "metadata": {},
   "outputs": [
    {
     "name": "stdout",
     "output_type": "stream",
     "text": [
      "height:3\n",
      "                                                    python \n",
      "\n",
      "                                                 python python \n",
      "\n",
      "                                              python python python \n",
      "\n",
      "                                           python python python python \n",
      "\n",
      "                                        python python python python python \n",
      "\n",
      "                                     python python python python python python \n",
      "\n",
      "                                  python python python python python python python \n",
      "\n",
      "                               python python python python python python python python \n",
      "\n",
      "                            python python python python python python python python python \n",
      "\n",
      "                         python python python python python python python python python python \n",
      "\n",
      "                      python python python python python python python python python python python \n",
      "\n",
      "                   python python python python python python python python python python python python \n",
      "\n",
      "                python python python python python python python python python python python python python \n",
      "\n",
      "             python python python python python python python python python python python python python python \n",
      "\n",
      "          python python python python python python python python python python python python python python python \n",
      "\n",
      "       python python python python python python python python python python python python python python python python \n",
      "\n",
      "    python python python python python python python python python python python python python python python python python \n",
      "\n",
      "       python python python python python python python python python python python python python python python python \n",
      "\n",
      "          python python python python python python python python python python python python python python python \n",
      "\n",
      "             python python python python python python python python python python python python python python \n",
      "\n",
      "                python python python python python python python python python python python python python \n",
      "\n",
      "                   python python python python python python python python python python python python \n",
      "\n",
      "                      python python python python python python python python python python python \n",
      "\n",
      "                         python python python python python python python python python python \n",
      "\n",
      "                            python python python python python python python python python \n",
      "\n",
      "                               python python python python python python python python \n",
      "\n",
      "                                  python python python python python python python \n",
      "\n",
      "                                     python python python python python python \n",
      "\n",
      "                                        python python python python python \n",
      "\n",
      "                                           python python python python \n",
      "\n",
      "                                              python python python \n",
      "\n",
      "                                                 python python \n",
      "\n",
      "                                                    python \n",
      "\n"
     ]
    }
   ],
   "source": [
    "b='python'\n",
    "l=0\n",
    "h=eval(input('height:'))\n",
    "for i in range(k):\n",
    "    print(\"   \"*(k-i),\"python \"*(1*i+1))\n",
    "    print(\"\\r\")\n",
    "for i in range(k-2,-1,-1):\n",
    "    print(\"   \"*(k-i),\"python \"*(1*i+1))\n",
    "    print(\"\\r\")"
   ]
  },
  {
   "cell_type": "code",
   "execution_count": 47,
   "id": "ba7784bf",
   "metadata": {
    "scrolled": true
   },
   "outputs": [
    {
     "name": "stdout",
     "output_type": "stream",
     "text": [
      "height :5\n",
      "                python \n",
      "\n",
      "             python python \n",
      "\n",
      "          python python python \n",
      "\n",
      "       python python python python \n",
      "\n",
      "    python python python python python \n",
      "\n",
      "       python python python python \n",
      "\n",
      "          python python python \n",
      "\n",
      "             python python \n",
      "\n",
      "                python \n",
      "\n"
     ]
    }
   ],
   "source": [
    "k=eval(input('height :'))\n",
    "for i in range(k):\n",
    "    print(\"   \"*(k-i),\"python \"*(1*i+1))\n",
    "    print(\"\\r\")\n",
    "for i in range(k-2,-1,-1):\n",
    "    print(\"   \"*(k-i),\"python \"*(1*i+1))\n",
    "    print(\"\\r\")"
   ]
  },
  {
   "cell_type": "code",
   "execution_count": 54,
   "id": "6cc7031f",
   "metadata": {},
   "outputs": [
    {
     "ename": "SyntaxError",
     "evalue": "invalid syntax (3902534907.py, line 7)",
     "output_type": "error",
     "traceback": [
      "\u001b[1;36m  Input \u001b[1;32mIn [54]\u001b[1;36m\u001b[0m\n\u001b[1;33m    for i in range(d):\u001b[0m\n\u001b[1;37m                     ^\u001b[0m\n\u001b[1;31mSyntaxError\u001b[0m\u001b[1;31m:\u001b[0m invalid syntax\n"
     ]
    }
   ],
   "source": [
    "d=eval(input(\"height:\"))\n",
    "s=\"python\"\n",
    "l=0\n",
    "for i in s:\n",
    "    l=l+1\n",
    "    print(s[0:l]\n",
    "          for i in range(d):\n",
    "    print(\"  \"*(d-i),\"python \"*(1*i+1))\n",
    "    print(\"\\r\")\n",
    "        \n",
    "        \n"
   ]
  },
  {
   "cell_type": "markdown",
   "id": "f1fe6d2d",
   "metadata": {},
   "source": [
    "###### k=eval(input('string :'))\n",
    "s='python'\n",
    "\n",
    "for i in range(k):\n",
    "        print('  '* (k-i),'python '*(1*x+1))\n",
    "        "
   ]
  },
  {
   "cell_type": "code",
   "execution_count": 55,
   "id": "17daa0a9",
   "metadata": {},
   "outputs": [
    {
     "name": "stdout",
     "output_type": "stream",
     "text": [
      "enter your string :python\n",
      "          p  \n",
      "  \n",
      "  \n",
      "  p  \n",
      "  p  y  \n",
      "  p  y  t  \n",
      "  p  y  t  h  \n",
      "        p  y  \n",
      "  \n",
      "  \n",
      "  p  \n",
      "  p  y  \n",
      "  p  y  t  \n",
      "  p  y  t  h  \n",
      "      p  y  t  \n",
      "  \n",
      "  \n",
      "  p  \n",
      "  p  y  \n",
      "  p  y  t  \n",
      "  p  y  t  h  \n",
      "    p  y  t  h  \n",
      "  \n",
      "  \n",
      "  p  \n",
      "  p  y  \n",
      "  p  y  t  \n",
      "  p  y  t  h  \n",
      "  p  y  t  h  o  \n",
      "  \n",
      "  \n",
      "  p  \n",
      "  p  y  \n",
      "  p  y  t  \n",
      "  p  y  t  h  \n",
      "p  y  t  h  o  n  \n",
      "  \n",
      "  \n",
      "  p  \n",
      "  p  y  \n",
      "  p  y  t  \n",
      "  p  y  t  h  \n"
     ]
    }
   ],
   "source": [
    "string=input('enter your string :')\n",
    "length=len(string)\n",
    "for i in range(length):\n",
    "    for j in range(length-i-1):\n",
    "        print(\"\",end=\"  \")\n",
    "    for j in range(i+1):\n",
    "        print(string[j],end=\"  \")\n",
    "    print()\n",
    "    for i in range(length):\n",
    "        print(\"\",end=\"  \")\n",
    "        for j in range(i-1):\n",
    "            print(string[j],end=\"  \")\n",
    "        print()\n",
    "    "
   ]
  },
  {
   "cell_type": "code",
   "execution_count": 56,
   "id": "b1d3ad28",
   "metadata": {},
   "outputs": [
    {
     "name": "stdout",
     "output_type": "stream",
     "text": [
      "enter your string :ABCDEF\n",
      "          A  \n"
     ]
    },
    {
     "ename": "TypeError",
     "evalue": "'dict' object cannot be interpreted as an integer",
     "output_type": "error",
     "traceback": [
      "\u001b[1;31m---------------------------------------------------------------------------\u001b[0m",
      "\u001b[1;31mTypeError\u001b[0m                                 Traceback (most recent call last)",
      "Input \u001b[1;32mIn [56]\u001b[0m, in \u001b[0;36m<cell line: 3>\u001b[1;34m()\u001b[0m\n\u001b[0;32m      7\u001b[0m     \u001b[38;5;28mprint\u001b[39m(string[j],end\u001b[38;5;241m=\u001b[39m\u001b[38;5;124m\"\u001b[39m\u001b[38;5;124m  \u001b[39m\u001b[38;5;124m\"\u001b[39m)\n\u001b[0;32m      8\u001b[0m \u001b[38;5;28mprint\u001b[39m()\n\u001b[1;32m----> 9\u001b[0m \u001b[38;5;28;01mfor\u001b[39;00m i \u001b[38;5;129;01min\u001b[39;00m \u001b[38;5;28;43mrange\u001b[39;49m\u001b[43m(\u001b[49m\u001b[43md\u001b[49m\u001b[43m)\u001b[49m:\n\u001b[0;32m     10\u001b[0m     \u001b[38;5;28mprint\u001b[39m(\u001b[38;5;124m\"\u001b[39m\u001b[38;5;124m  \u001b[39m\u001b[38;5;124m\"\u001b[39m\u001b[38;5;241m*\u001b[39m(d\u001b[38;5;241m-\u001b[39mi),\u001b[38;5;124m\"\u001b[39m\u001b[38;5;124mpython \u001b[39m\u001b[38;5;124m\"\u001b[39m\u001b[38;5;241m*\u001b[39m(\u001b[38;5;241m1\u001b[39m\u001b[38;5;241m*\u001b[39mi\u001b[38;5;241m+\u001b[39m\u001b[38;5;241m1\u001b[39m))\n\u001b[0;32m     11\u001b[0m     \u001b[38;5;28mprint\u001b[39m(\u001b[38;5;124m\"\u001b[39m\u001b[38;5;130;01m\\r\u001b[39;00m\u001b[38;5;124m\"\u001b[39m)\n",
      "\u001b[1;31mTypeError\u001b[0m: 'dict' object cannot be interpreted as an integer"
     ]
    }
   ],
   "source": [
    "string=input('enter your string :')\n",
    "length=len(string)\n",
    "for i in range(length):\n",
    "    for j in range(length-i-1):\n",
    "        print(\"\",end=\"  \")\n",
    "    for j in range(i+1):\n",
    "        print(string[j],end=\"  \")\n",
    "    print()\n",
    "    for i in range(d):\n",
    "        print(\"  \"*(d-i),\"python \"*(1*i+1))\n",
    "        print(\"\\r\")\n",
    "        \n",
    "    "
   ]
  },
  {
   "cell_type": "code",
   "execution_count": 57,
   "id": "8471c47f",
   "metadata": {},
   "outputs": [
    {
     "name": "stdout",
     "output_type": "stream",
     "text": [
      "enter your string :python\n",
      "          p  \n",
      "        p  y  \n",
      "      p  y  t  \n",
      "    p  y  t  h  \n",
      "  p  y  t  h  o  \n",
      "p  y  t  h  o  n  \n"
     ]
    }
   ],
   "source": [
    "string=input('enter your string :')\n",
    "length=len(string)\n",
    "for i in range(length):\n",
    "    for j in range(length-i-1):\n",
    "        print(\"\",end=\"  \")\n",
    "    for j in range(i+1):\n",
    "        print(string[j],end=\"  \")\n",
    "    print()\n",
    "    "
   ]
  },
  {
   "cell_type": "code",
   "execution_count": 72,
   "id": "d2efc976",
   "metadata": {},
   "outputs": [
    {
     "name": "stdout",
     "output_type": "stream",
     "text": [
      "Enter the number of rows: 5\n",
      "        * * * * * * \n",
      "         * * * * * \n",
      "          * * * * \n",
      "           * * * \n",
      "            * * \n",
      "             * \n"
     ]
    }
   ],
   "source": [
    "rows = int(input(\"Enter the number of rows: \"))  \n",
    "k = 2*rows-2  \n",
    "for i in range(rows, -1, -1):  \n",
    "    for j in range(k, 0, -1): \n",
    "        print(end=\" \")  \n",
    "    k = k + 1  \n",
    "    for j in range(0, i + 1):\n",
    "        print(\"*\", end=\" \")  \n",
    "    print(\"\")  "
   ]
  },
  {
   "cell_type": "code",
   "execution_count": 60,
   "id": "921f31a2",
   "metadata": {},
   "outputs": [
    {
     "ename": "SyntaxError",
     "evalue": "invalid syntax (846074046.py, line 4)",
     "output_type": "error",
     "traceback": [
      "\u001b[1;36m  Input \u001b[1;32mIn [60]\u001b[1;36m\u001b[0m\n\u001b[1;33m    for j in range(raw6-i)\u001b[0m\n\u001b[1;37m                          ^\u001b[0m\n\u001b[1;31mSyntaxError\u001b[0m\u001b[1;31m:\u001b[0m invalid syntax\n"
     ]
    }
   ],
   "source": [
    "raw6=int(input('enter the number of raws :')) \n",
    "for i in range(raw6):\n",
    "    for j in range(raw6):\n",
    "        for j in range(raw6-i)\n",
    "    print(' *'*(raw6-i)+'   '*i)\n",
    "print()"
   ]
  },
  {
   "cell_type": "code",
   "execution_count": 71,
   "id": "732f5438",
   "metadata": {},
   "outputs": [
    {
     "name": "stdout",
     "output_type": "stream",
     "text": [
      "enter height :5\n",
      "  * * * * * \n",
      "   * * * * \n",
      "    * * * \n",
      "     * * \n",
      "      * \n"
     ]
    }
   ],
   "source": [
    "h=eval(input('enter height :'))\n",
    "for x in range(h - 1, -1, -1):\n",
    "    print(\" \" *(h- x), \"* \" * (x + 1))"
   ]
  },
  {
   "cell_type": "code",
   "execution_count": null,
   "id": "d9cf0b8a",
   "metadata": {},
   "outputs": [],
   "source": []
  }
 ],
 "metadata": {
  "kernelspec": {
   "display_name": "Python 3 (ipykernel)",
   "language": "python",
   "name": "python3"
  },
  "language_info": {
   "codemirror_mode": {
    "name": "ipython",
    "version": 3
   },
   "file_extension": ".py",
   "mimetype": "text/x-python",
   "name": "python",
   "nbconvert_exporter": "python",
   "pygments_lexer": "ipython3",
   "version": "3.9.12"
  }
 },
 "nbformat": 4,
 "nbformat_minor": 5
}
