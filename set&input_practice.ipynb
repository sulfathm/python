{
  "nbformat": 4,
  "nbformat_minor": 0,
  "metadata": {
    "colab": {
      "provenance": []
    },
    "kernelspec": {
      "name": "python3",
      "display_name": "Python 3"
    },
    "language_info": {
      "name": "python"
    }
  },
  "cells": [
    {
      "cell_type": "code",
      "execution_count": null,
      "metadata": {
        "colab": {
          "base_uri": "https://localhost:8080/"
        },
        "id": "6d1x37z2kAwq",
        "outputId": "6e73cc23-0ea4-4114-aefb-a4bc180e78bb"
      },
      "outputs": [
        {
          "output_type": "stream",
          "name": "stdout",
          "text": [
            "{1, 2, 3, 4, 'zayan', 2.3}\n"
          ]
        }
      ],
      "source": [
        "a=set([1,2,3,4,\"zayan\",2.3])\n",
        "print(a)"
      ]
    },
    {
      "cell_type": "code",
      "source": [
        "a.add('aizi')\n",
        "print(a)"
      ],
      "metadata": {
        "colab": {
          "base_uri": "https://localhost:8080/"
        },
        "id": "mF2h7ijikidv",
        "outputId": "8c97e25b-cc21-48a2-e0c9-9ecd6d7db423"
      },
      "execution_count": null,
      "outputs": [
        {
          "output_type": "stream",
          "name": "stdout",
          "text": [
            "{1, 2, 3, 4, 'zayan', 2.3, 'aizi'}\n"
          ]
        }
      ]
    },
    {
      "cell_type": "code",
      "source": [
        "a.update([5,6,7])\n",
        "print(a)"
      ],
      "metadata": {
        "colab": {
          "base_uri": "https://localhost:8080/"
        },
        "id": "p1xtcsgzkvVD",
        "outputId": "43390180-9d96-4e31-c895-a6bcd75577b5"
      },
      "execution_count": null,
      "outputs": [
        {
          "output_type": "stream",
          "name": "stdout",
          "text": [
            "{1, 2, 3, 4, 'zayan', 2.3, 5, 6, 7, 'aizi'}\n"
          ]
        }
      ]
    },
    {
      "cell_type": "code",
      "source": [
        "d=a.copy()\n",
        "print(d)"
      ],
      "metadata": {
        "colab": {
          "base_uri": "https://localhost:8080/"
        },
        "id": "zWw3Ezjhk67A",
        "outputId": "9a8f82ef-e543-404e-edfd-6d2e2342a03b"
      },
      "execution_count": null,
      "outputs": [
        {
          "output_type": "stream",
          "name": "stdout",
          "text": [
            "{1, 2, 3, 4, 'zayan', 2.3, 5, 6, 7, 'aizi'}\n"
          ]
        }
      ]
    },
    {
      "cell_type": "code",
      "source": [
        "'hello' in a"
      ],
      "metadata": {
        "colab": {
          "base_uri": "https://localhost:8080/"
        },
        "id": "L6x-373vlOWw",
        "outputId": "6d583e6b-c407-43ed-9e75-3931fbe115f2"
      },
      "execution_count": null,
      "outputs": [
        {
          "output_type": "execute_result",
          "data": {
            "text/plain": [
              "False"
            ]
          },
          "metadata": {},
          "execution_count": 9
        }
      ]
    },
    {
      "cell_type": "code",
      "source": [
        "\"zayan\" in a"
      ],
      "metadata": {
        "colab": {
          "base_uri": "https://localhost:8080/"
        },
        "id": "_fpskL0MlW3Z",
        "outputId": "bb735a6e-c093-478c-d9f3-a969bbf48420"
      },
      "execution_count": null,
      "outputs": [
        {
          "output_type": "execute_result",
          "data": {
            "text/plain": [
              "True"
            ]
          },
          "metadata": {},
          "execution_count": 10
        }
      ]
    },
    {
      "cell_type": "code",
      "source": [
        "a.pop()"
      ],
      "metadata": {
        "colab": {
          "base_uri": "https://localhost:8080/"
        },
        "id": "Kdg8nu84lZm_",
        "outputId": "362765f4-e780-4c8b-e229-1d18648d1977"
      },
      "execution_count": null,
      "outputs": [
        {
          "output_type": "execute_result",
          "data": {
            "text/plain": [
              "1"
            ]
          },
          "metadata": {},
          "execution_count": 11
        }
      ]
    },
    {
      "cell_type": "code",
      "source": [
        "a.pop()\n",
        "print(a)"
      ],
      "metadata": {
        "colab": {
          "base_uri": "https://localhost:8080/"
        },
        "id": "sl4GkShyldSj",
        "outputId": "58c9c4cb-55b5-4525-a37c-efd1ce7bfbf3"
      },
      "execution_count": null,
      "outputs": [
        {
          "output_type": "stream",
          "name": "stdout",
          "text": [
            "{3, 4, 'zayan', 2.3, 5, 6, 7, 'aizi'}\n"
          ]
        }
      ]
    },
    {
      "cell_type": "code",
      "source": [
        "a.pop()\n",
        "print(a)"
      ],
      "metadata": {
        "colab": {
          "base_uri": "https://localhost:8080/"
        },
        "id": "25El6v6Alhdx",
        "outputId": "034c410d-294b-4120-f00e-483898da8a17"
      },
      "execution_count": null,
      "outputs": [
        {
          "output_type": "stream",
          "name": "stdout",
          "text": [
            "{4, 'zayan', 2.3, 5, 6, 7, 'aizi'}\n"
          ]
        }
      ]
    },
    {
      "cell_type": "code",
      "source": [
        "a.pop()\n",
        "print(a)"
      ],
      "metadata": {
        "colab": {
          "base_uri": "https://localhost:8080/"
        },
        "id": "YsMYTrBElonq",
        "outputId": "0187740c-9198-4e72-a6b8-e87580dc0e1a"
      },
      "execution_count": null,
      "outputs": [
        {
          "output_type": "stream",
          "name": "stdout",
          "text": [
            "{'zayan', 2.3, 5, 6, 7, 'aizi'}\n"
          ]
        }
      ]
    },
    {
      "cell_type": "code",
      "source": [
        "a.remove('zayan')\n",
        "print(a)"
      ],
      "metadata": {
        "colab": {
          "base_uri": "https://localhost:8080/"
        },
        "id": "k2vJScsPl-B3",
        "outputId": "b7266f24-4895-4150-d01c-5c9887eb570a"
      },
      "execution_count": null,
      "outputs": [
        {
          "output_type": "stream",
          "name": "stdout",
          "text": [
            "{2.3, 5, 6, 7, 'aizi'}\n"
          ]
        }
      ]
    },
    {
      "cell_type": "code",
      "source": [
        "a.remove('sulu')\n",
        "print(a)"
      ],
      "metadata": {
        "colab": {
          "base_uri": "https://localhost:8080/",
          "height": 181
        },
        "id": "R6eOjMkBmEaL",
        "outputId": "5a91cafe-d456-46f6-deb5-6d91c51baea2"
      },
      "execution_count": null,
      "outputs": [
        {
          "output_type": "error",
          "ename": "KeyError",
          "evalue": "ignored",
          "traceback": [
            "\u001b[0;31m---------------------------------------------------------------------------\u001b[0m",
            "\u001b[0;31mKeyError\u001b[0m                                  Traceback (most recent call last)",
            "\u001b[0;32m<ipython-input-16-573b482042ae>\u001b[0m in \u001b[0;36m<module>\u001b[0;34m\u001b[0m\n\u001b[0;32m----> 1\u001b[0;31m \u001b[0ma\u001b[0m\u001b[0;34m.\u001b[0m\u001b[0mremove\u001b[0m\u001b[0;34m(\u001b[0m\u001b[0;34m'sulu'\u001b[0m\u001b[0;34m)\u001b[0m\u001b[0;34m\u001b[0m\u001b[0;34m\u001b[0m\u001b[0m\n\u001b[0m\u001b[1;32m      2\u001b[0m \u001b[0mprint\u001b[0m\u001b[0;34m(\u001b[0m\u001b[0ma\u001b[0m\u001b[0;34m)\u001b[0m\u001b[0;34m\u001b[0m\u001b[0;34m\u001b[0m\u001b[0m\n",
            "\u001b[0;31mKeyError\u001b[0m: 'sulu'"
          ]
        }
      ]
    },
    {
      "cell_type": "code",
      "source": [
        "z=set([1,2,3,'dad'])\n",
        "print(z)"
      ],
      "metadata": {
        "colab": {
          "base_uri": "https://localhost:8080/"
        },
        "id": "ZPTfEf3jmJpi",
        "outputId": "92842e20-f3c5-4265-e639-d8521196453a"
      },
      "execution_count": null,
      "outputs": [
        {
          "output_type": "stream",
          "name": "stdout",
          "text": [
            "{'dad', 1, 2, 3}\n"
          ]
        }
      ]
    },
    {
      "cell_type": "code",
      "source": [
        "z.add('mom')\n",
        "print(z)"
      ],
      "metadata": {
        "colab": {
          "base_uri": "https://localhost:8080/"
        },
        "id": "D9DoR_8wmYGD",
        "outputId": "0a2130d7-0b44-4d10-caa2-7fc235283033"
      },
      "execution_count": null,
      "outputs": [
        {
          "output_type": "stream",
          "name": "stdout",
          "text": [
            "{'dad', 1, 2, 3, 'mom'}\n"
          ]
        }
      ]
    },
    {
      "cell_type": "code",
      "source": [
        "z.update([0,9,7])\n",
        "print(z)"
      ],
      "metadata": {
        "colab": {
          "base_uri": "https://localhost:8080/"
        },
        "id": "vh1rVo2Dmebt",
        "outputId": "c61c2474-d96d-4bca-8755-74ced0d3699a"
      },
      "execution_count": null,
      "outputs": [
        {
          "output_type": "stream",
          "name": "stdout",
          "text": [
            "{'dad', 1, 2, 3, 0, 7, 9, 'mom'}\n"
          ]
        }
      ]
    },
    {
      "cell_type": "code",
      "source": [
        "z.pop()\n",
        "print(z)"
      ],
      "metadata": {
        "colab": {
          "base_uri": "https://localhost:8080/"
        },
        "id": "lEszhIFlmmDl",
        "outputId": "6a193650-5ef5-4a29-80a4-82b4ce43a655"
      },
      "execution_count": null,
      "outputs": [
        {
          "output_type": "stream",
          "name": "stdout",
          "text": [
            "{1, 2, 3, 0, 7, 9, 'mom'}\n"
          ]
        }
      ]
    },
    {
      "cell_type": "code",
      "source": [
        "z.remove(0)\n",
        "print(z)"
      ],
      "metadata": {
        "colab": {
          "base_uri": "https://localhost:8080/",
          "height": 181
        },
        "id": "EyMlzaZhmqLY",
        "outputId": "bb1164f0-c871-4e1e-cb99-b50018badffc"
      },
      "execution_count": null,
      "outputs": [
        {
          "output_type": "error",
          "ename": "KeyError",
          "evalue": "ignored",
          "traceback": [
            "\u001b[0;31m---------------------------------------------------------------------------\u001b[0m",
            "\u001b[0;31mKeyError\u001b[0m                                  Traceback (most recent call last)",
            "\u001b[0;32m<ipython-input-25-c63dd931d761>\u001b[0m in \u001b[0;36m<module>\u001b[0;34m\u001b[0m\n\u001b[0;32m----> 1\u001b[0;31m \u001b[0mz\u001b[0m\u001b[0;34m.\u001b[0m\u001b[0mremove\u001b[0m\u001b[0;34m(\u001b[0m\u001b[0;36m0\u001b[0m\u001b[0;34m)\u001b[0m\u001b[0;34m\u001b[0m\u001b[0;34m\u001b[0m\u001b[0m\n\u001b[0m\u001b[1;32m      2\u001b[0m \u001b[0mprint\u001b[0m\u001b[0;34m(\u001b[0m\u001b[0mz\u001b[0m\u001b[0;34m)\u001b[0m\u001b[0;34m\u001b[0m\u001b[0;34m\u001b[0m\u001b[0m\n",
            "\u001b[0;31mKeyError\u001b[0m: 0"
          ]
        }
      ]
    },
    {
      "cell_type": "code",
      "source": [
        "a=int(input('add your first value :'))\n",
        "b=int(input('add your second value :'))\n",
        "c=a+b\n",
        "print('your answer is :',c)"
      ],
      "metadata": {
        "colab": {
          "base_uri": "https://localhost:8080/"
        },
        "id": "BzsfYQRhmu4C",
        "outputId": "075ba918-73f5-4566-943e-6c617b560c2c"
      },
      "execution_count": null,
      "outputs": [
        {
          "output_type": "stream",
          "name": "stdout",
          "text": [
            "add your first value :8\n",
            "add your second value :7\n",
            "your answer is : 15\n"
          ]
        }
      ]
    },
    {
      "cell_type": "code",
      "source": [
        "a=int(input('add your first value :'))\n",
        "b=int(input('add your second value :'))\n",
        "c=input('choose your operation :')\n",
        "if (c=='+'):\n",
        "  print(a+b)\n",
        "elif (c==\"-\"):\n",
        "  print(a-b)\n",
        "elif (c==\"*\"):\n",
        "  print(a*b)\n",
        "else:\n",
        "  print('choose the correct operation')"
      ],
      "metadata": {
        "id": "Ze08GsZBm7G-",
        "colab": {
          "base_uri": "https://localhost:8080/"
        },
        "outputId": "f63a470c-0e7a-45c0-9948-00c162e914b9"
      },
      "execution_count": null,
      "outputs": [
        {
          "output_type": "stream",
          "name": "stdout",
          "text": [
            "add your first value :9\n",
            "add your second value :88\n",
            "choose your operation :%\n",
            "choose the correct operation\n"
          ]
        }
      ]
    },
    {
      "cell_type": "markdown",
      "source": [],
      "metadata": {
        "id": "frrPSY7R0Mu9"
      }
    },
    {
      "cell_type": "code",
      "source": [
        "b=int(input('totel purchase amount :'))\n",
        "if b>1500:\n",
        "  c=(b*20/100)\n",
        "  print ('your discount amount :')\n",
        "  print('the amount you paying :')\n",
        "else:\n",
        "  print('you have no discount')\n",
        "  "
      ],
      "metadata": {
        "colab": {
          "base_uri": "https://localhost:8080/"
        },
        "id": "LX97rHfwxW5L",
        "outputId": "6248f741-cb73-4848-bcc2-77e7a6b44e73"
      },
      "execution_count": null,
      "outputs": [
        {
          "output_type": "stream",
          "name": "stdout",
          "text": [
            "totel purchase amount :3000\n",
            "your discount amount :\n",
            "the amount you paying :\n"
          ]
        }
      ]
    },
    {
      "cell_type": "code",
      "source": [
        "x=int(input('totel purchase amount :'))\n",
        "if x>1500:\n",
        "  y=(x*20/100)\n",
        "  print('the discount amount :',y)\n",
        "  print('the amount you paying :',x-y)\n",
        "else:\n",
        "  print('you have no discount') "
      ],
      "metadata": {
        "colab": {
          "base_uri": "https://localhost:8080/"
        },
        "id": "9eoMKHxh0hyg",
        "outputId": "e2604d35-955c-4f9a-ad58-43e0557a8c73"
      },
      "execution_count": null,
      "outputs": [
        {
          "output_type": "stream",
          "name": "stdout",
          "text": [
            "totel purchase amount :1550\n",
            "the discount amount : 310.0\n",
            "the amount you paying : 1240.0\n"
          ]
        }
      ]
    },
    {
      "cell_type": "code",
      "source": [
        "f=int(input('the totel purchase amount'))\n",
        "if f>2000:\n",
        "  g=(f*20/100)\n",
        "  print('the discount amount :',g)\n",
        "  print('the amount you paying :',f-g)\n",
        "else:\n",
        "  print('you have no discount')"
      ],
      "metadata": {
        "colab": {
          "base_uri": "https://localhost:8080/"
        },
        "id": "dAjGRoFQ12de",
        "outputId": "788a83fc-f408-47b8-f4d6-f5e1b8ca5db8"
      },
      "execution_count": null,
      "outputs": [
        {
          "output_type": "stream",
          "name": "stdout",
          "text": [
            "the totel purchase amount2800\n",
            "the discount amount : 560.0\n",
            "the amount you paying : 2240.0\n"
          ]
        }
      ]
    },
    {
      "cell_type": "code",
      "source": [
        "c=int(input('enter a number :'))\n",
        "if c%2==1:\n",
        "  print('the number is odd')\n",
        "else:\n",
        "  print('the number is not odd')"
      ],
      "metadata": {
        "colab": {
          "base_uri": "https://localhost:8080/"
        },
        "id": "2cud_KMm3IS5",
        "outputId": "f87ea015-d983-45b5-bf85-2354cd8cf81d"
      },
      "execution_count": null,
      "outputs": [
        {
          "output_type": "stream",
          "name": "stdout",
          "text": [
            "enter a number :-10\n",
            "the number is not odd\n"
          ]
        }
      ]
    },
    {
      "cell_type": "code",
      "source": [
        "h=int(input('enter a value :'))\n",
        "if h>0:\n",
        "  print('the value is positive')\n",
        "elif h=0:\n",
        "  print('the value neutral')\n",
        "else:\n",
        "  print('the value is negative')"
      ],
      "metadata": {
        "colab": {
          "base_uri": "https://localhost:8080/",
          "height": 130
        },
        "id": "CFXhkqY74hnz",
        "outputId": "bda0e8f7-c82b-4b77-f14c-d1da8a21683c"
      },
      "execution_count": null,
      "outputs": [
        {
          "output_type": "error",
          "ename": "SyntaxError",
          "evalue": "ignored",
          "traceback": [
            "\u001b[0;36m  File \u001b[0;32m\"<ipython-input-77-0e1003bde770>\"\u001b[0;36m, line \u001b[0;32m4\u001b[0m\n\u001b[0;31m    elif h=0:\u001b[0m\n\u001b[0m          ^\u001b[0m\n\u001b[0;31mSyntaxError\u001b[0m\u001b[0;31m:\u001b[0m invalid syntax\n"
          ]
        }
      ]
    },
    {
      "cell_type": "code",
      "source": [
        "s1=int(input('1st subject mark :'))\n",
        "s2=int(input('2nd subject mark :'))\n",
        "s3=int(input('3rd subject mark :'))\n",
        "s4=int(input('4th subject mark :'))\n",
        "s5=int(input('5th subject mark :'))\n",
        "sm=s1+s2+s3+s4+s5\n",
        "if sm>=450:\n",
        "  print('A+')\n",
        "if sm>=400 and sm>450:\n",
        "  print('A')\n",
        "if sm>=350 and sm<400:\n",
        "  print('B+')\n",
        "if sm>=300 and sm<350:\n",
        "  print('B')\n",
        "if sm>=250 and sm<300:\n",
        "  print('C+')\n",
        "if sm>=200 and sm<250:\n",
        "  print('d+')\n",
        "else:\n",
        "  print('you are failed!!!')"
      ],
      "metadata": {
        "colab": {
          "base_uri": "https://localhost:8080/"
        },
        "id": "xZ5Trw32548E",
        "outputId": "5a4d2185-9f4b-47f3-f5aa-ee6478267d82"
      },
      "execution_count": null,
      "outputs": [
        {
          "output_type": "stream",
          "name": "stdout",
          "text": [
            "1st subject mark :90\n",
            "2nd subject mark :80\n",
            "3rd subject mark :85\n",
            "4th subject mark :39\n",
            "5th subject mark :80\n",
            "B+\n",
            "you are failed!!!\n"
          ]
        }
      ]
    },
    {
      "cell_type": "code",
      "source": [],
      "metadata": {
        "id": "8A9S8ult9J5T"
      },
      "execution_count": null,
      "outputs": []
    }
  ]
}