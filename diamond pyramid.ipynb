{
 "cells": [
  {
   "cell_type": "code",
   "execution_count": 1,
   "id": "6b2102fa",
   "metadata": {},
   "outputs": [
    {
     "name": "stdout",
     "output_type": "stream",
     "text": [
      "enter your string :python\n",
      "          p  \n",
      "        p  y  \n",
      "      p  y  t  \n",
      "    p  y  t  h  \n",
      "  p  y  t  h  o  \n",
      "p  y  t  h  o  n  \n"
     ]
    }
   ],
   "source": [
    "string=input('enter your string :')\n",
    "length=len(string)\n",
    "for i in range(length):\n",
    "    for j in range(length-i-1):\n",
    "        print(\" \",end=\" \")\n",
    "    for j in range(i+1):\n",
    "        print(string[j],end=\"  \")\n",
    "    print()\n",
    "    "
   ]
  },
  {
   "cell_type": "code",
   "execution_count": 2,
   "id": "72c39eeb",
   "metadata": {},
   "outputs": [
    {
     "ename": "SyntaxError",
     "evalue": "invalid syntax (3451006500.py, line 6)",
     "output_type": "error",
     "traceback": [
      "\u001b[1;36m  Input \u001b[1;32mIn [2]\u001b[1;36m\u001b[0m\n\u001b[1;33m    for j in range(i+5)\u001b[0m\n\u001b[1;37m                       ^\u001b[0m\n\u001b[1;31mSyntaxError\u001b[0m\u001b[1;31m:\u001b[0m invalid syntax\n"
     ]
    }
   ],
   "source": [
    "string=input('enter your string :')\n",
    "length=len(string)\n",
    "for i in range(length):\n",
    "    for j in range(length-i-1):\n",
    "        print(\"\",end=\"  \")\n",
    "    for j in range(i+5)\n",
    "        print(string[j],end=\"   \")\n",
    "    print()\n",
    "    for j in range(lengh+i-length):\n",
    "        print(\"\",end=\"   \")\n",
    "    for j in range(i-1):\n",
    "        print(string[j],end=\"  \")\n",
    "    print()\n",
    "    \n",
    "    "
   ]
  },
  {
   "cell_type": "code",
   "execution_count": 3,
   "id": "ca2b3039",
   "metadata": {},
   "outputs": [
    {
     "name": "stdout",
     "output_type": "stream",
     "text": [
      "enter the string:python\n",
      "p y t h o n \n",
      " p y t h o \n",
      "  p y t h \n",
      "   p y t \n",
      "    p y \n",
      "     p \n"
     ]
    }
   ],
   "source": [
    "string=input(\"enter the string:\")\n",
    "length=len(string)\n",
    "for i in range(length):\n",
    "    for j in range(length+i-length):\n",
    "        print(\" \",end=\"\")\n",
    "    for j in range((length-1)-i+1):\n",
    "        print(string[j],end=\" \")\n",
    "    print()\n",
    "        "
   ]
  },
  {
   "cell_type": "code",
   "execution_count": 4,
   "id": "2f01fbac",
   "metadata": {
    "scrolled": true
   },
   "outputs": [
    {
     "name": "stdout",
     "output_type": "stream",
     "text": [
      "enter your string :ABCDEF\n",
      "          A   \n",
      "        A   B   \n",
      "      A   B   C   \n",
      "    A   B   C   D   \n",
      "  A   B   C   D   E   \n",
      "A   B   C   D   E   F   \n",
      "  A   B   C   D   E   \n",
      "    A   B   C   D   \n",
      "      A   B   C   \n",
      "        A   B   \n",
      "          A   \n"
     ]
    }
   ],
   "source": [
    "string=input('enter your string :')\n",
    "length=len(string)\n",
    "for i in range(length):\n",
    "    for j in range(length-i-1):\n",
    "        print(\" \",end=\" \")\n",
    "    for j in range(i+1):\n",
    "        print(string[j],\"\",end=\"  \")\n",
    "    print()\n",
    "\n",
    "for i in range(1,length):        \n",
    "    for j in range(length+i-length):\n",
    "        print(\" \",end=\" \")\n",
    "    for j in range((length-1)-i+1):\n",
    "        print(string[j],\"\",end=\"  \")\n",
    "    print()"
   ]
  },
  {
   "cell_type": "code",
   "execution_count": 5,
   "id": "1e320044",
   "metadata": {},
   "outputs": [
    {
     "name": "stdout",
     "output_type": "stream",
     "text": [
      "enter your string :python\n",
      "          p   \n",
      "        p   y   \n",
      "      p   y   t   \n",
      "    p   y   t   h   \n",
      "  p   y   t   h   o   \n",
      "p   y   t   h   o   n   \n",
      "  p   y   t   h   o   \n",
      "    p   y   t   h   \n",
      "      p   y   t   \n",
      "        p   y   \n",
      "          p   \n"
     ]
    }
   ],
   "source": [
    "string=input('enter your string :')\n",
    "length=len(string)\n",
    "for i in range(length):\n",
    "    for j in range(length-i-1):\n",
    "        print(\" \",end=\" \")\n",
    "    for j in range(i+1):\n",
    "        print(string[j], \"\" ,end=\"  \")\n",
    "    print()\n",
    "    \n",
    "for i in range(1,length):\n",
    "    for j in range(length+i-length):\n",
    "        print(\" \",end=\" \")\n",
    "    for j in range((length-1)-i+1):\n",
    "        print(string[j], \"\" ,end=\"  \")\n",
    "    print()"
   ]
  },
  {
   "cell_type": "code",
   "execution_count": 6,
   "id": "549a37f7",
   "metadata": {},
   "outputs": [
    {
     "name": "stdout",
     "output_type": "stream",
     "text": [
      "enter your string :python\n",
      "          p   \n",
      "        p   y   \n",
      "      p   y   t   \n",
      "    p   y   t   h   \n",
      "  p   y   t   h   o   \n",
      "p   y   t   h   o   n   \n",
      "  p   y   t   h   o   \n",
      "    p   y   t   h   \n",
      "      p   y   t   \n",
      "        p   y   \n",
      "          p   \n"
     ]
    }
   ],
   "source": [
    "string=input('enter your string :')\n",
    "length=len(string)\n",
    "for i in range(length):\n",
    "    for j in range(length-i-1):\n",
    "        print(\" \",end=\" \")\n",
    "    for j in range(i+1):\n",
    "        print(string[j],\"\",end=\"  \")\n",
    "    print()\n",
    "    \n",
    "for i in range(1,length):\n",
    "    for j in range(length+i-length):\n",
    "        print(\" \",end=\" \")\n",
    "    for j in range((length-1)-i+1):\n",
    "        print(string[j],\"\",end=\"  \")\n",
    "    print()"
   ]
  },
  {
   "cell_type": "code",
   "execution_count": 1,
   "id": "fef81feb",
   "metadata": {},
   "outputs": [
    {
     "name": "stdout",
     "output_type": "stream",
     "text": [
      "1 \n",
      "2 1 \n",
      "3 2 1 \n",
      "4 3 2 1 \n",
      "5 4 3 2 1 \n"
     ]
    }
   ],
   "source": [
    "row=6\n",
    "for i in range(1,row):\n",
    "    for j in range(i,0,-1):\n",
    "        print(j,end=\" \")\n",
    "    print()"
   ]
  },
  {
   "cell_type": "code",
   "execution_count": null,
   "id": "507e173c",
   "metadata": {
    "scrolled": true
   },
   "outputs": [],
   "source": []
  },
  {
   "cell_type": "code",
   "execution_count": 2,
   "id": "f8c11795",
   "metadata": {},
   "outputs": [
    {
     "name": "stdout",
     "output_type": "stream",
     "text": [
      "0 1 2 3 4 5 \n",
      "0 1 2 3 4 \n",
      "0 1 2 3 \n",
      "0 1 2 \n",
      "0 1 \n"
     ]
    }
   ],
   "source": [
    "row=6\n",
    "for i in range(row-1):\n",
    "    for j in range(i):\n",
    "        print(\"\",end=\"\")\n",
    "    for j in range((row-1)-i+1):\n",
    "        print(j,end=\" \")\n",
    "    print()"
   ]
  },
  {
   "cell_type": "code",
   "execution_count": 3,
   "id": "30de116a",
   "metadata": {},
   "outputs": [
    {
     "name": "stdout",
     "output_type": "stream",
     "text": [
      " 1 1 1 1 1 \n",
      "  2 2 2 2 \n",
      "   3 3 3 \n",
      "    4 4 \n",
      "     5 \n"
     ]
    }
   ],
   "source": [
    "row=6\n",
    "for i in range(1,row):\n",
    "    for j in range(row+i-row):\n",
    "        print(\" \",end=\"\")\n",
    "    for j in range((row-1)-i+1):\n",
    "        print(i,end=\" \")\n",
    "    print()"
   ]
  },
  {
   "cell_type": "code",
   "execution_count": 4,
   "id": "945f552f",
   "metadata": {},
   "outputs": [
    {
     "ename": "IndentationError",
     "evalue": "expected an indented block (2711874257.py, line 5)",
     "output_type": "error",
     "traceback": [
      "\u001b[1;36m  Input \u001b[1;32mIn [4]\u001b[1;36m\u001b[0m\n\u001b[1;33m    print(j,end=\" \")\u001b[0m\n\u001b[1;37m    ^\u001b[0m\n\u001b[1;31mIndentationError\u001b[0m\u001b[1;31m:\u001b[0m expected an indented block\n"
     ]
    }
   ],
   "source": [
    "row=12\n",
    "for i in range(1,row):\n",
    "    if i%2==0:\n",
    "        for j in range(i,0,-1):\n",
    "        print(j,end=\" \")\n",
    "    print()\n",
    "    \n"
   ]
  },
  {
   "cell_type": "code",
   "execution_count": 5,
   "id": "bde56395",
   "metadata": {},
   "outputs": [
    {
     "name": "stdout",
     "output_type": "stream",
     "text": [
      "2 \n",
      "4 2 \n",
      "6 4 2 \n",
      "8 6 4 2 \n",
      "10 8 6 4 2 \n"
     ]
    }
   ],
   "source": [
    "\n",
    "for i in range(1,11):\n",
    "    if i%2==0:\n",
    "        for j in range(i,0,-2):\n",
    "            \n",
    "            \n",
    "            \n",
    "            print(j,end=\" \")\n",
    "        print()"
   ]
  },
  {
   "cell_type": "code",
   "execution_count": 6,
   "id": "ae653675",
   "metadata": {},
   "outputs": [
    {
     "name": "stdout",
     "output_type": "stream",
     "text": [
      "maths :70\n",
      "phy :78\n",
      "jour :56\n",
      "psych :34\n",
      "socio :56\n",
      "B+\n"
     ]
    }
   ],
   "source": [
    "def student1():\n",
    "    name= input('name :')\n",
    "maths=int(input(\"maths :\"))\n",
    "physics=int(input(\"phy :\"))\n",
    "journalism=int(input(\"jour :\"))\n",
    "psychology=int(input(\"psych :\"))\n",
    "sociology=int(input(\"socio :\"))\n",
    "sm=maths+physics+journalism+psychology+sociology\n",
    "    \n",
    "if sm>= 450:\n",
    "    print(\"A+\")\n",
    "elif sm>=350 and sm <450:\n",
    "    print(\"A\")\n",
    "\n",
    "\n",
    "elif sm>=250 and sm<350:\n",
    "    print(\"B+\")\n",
    "else:\n",
    "    print(\"B\")"
   ]
  },
  {
   "cell_type": "code",
   "execution_count": null,
   "id": "902ad6fe",
   "metadata": {},
   "outputs": [],
   "source": [
    "def student(name,mark):\n",
    "    k1=students(name)\n",
    "    k2=students(mark)\n",
    "if k2>=450:\n",
    "    print(\"A\")\n",
    "elif k2>=350 and k2<450:\n",
    "    print(\"B\")\n",
    "elif k2>=250 and k2<350:\n",
    "    print(\"c\")\n",
    "else:\n",
    "    print(\"D\")\n",
    "\n",
    "    "
   ]
  },
  {
   "cell_type": "code",
   "execution_count": null,
   "id": "713cbf76",
   "metadata": {},
   "outputs": [],
   "source": [
    "def student1():\n",
    "  name= input('name :')\n",
    "  maths=int(input(\"maths :\"))\n",
    "  physics=int(input(\"phy :\"))\n",
    "  journalism=int(input(\"jour :\"))\n",
    "  psychology=int(input(\"psych :\"))\n",
    "  sociology=int(input(\"socio :\"))\n",
    "  sm=maths+physics+journalism+psychology+sociology\n",
    "    \n",
    "if sm>= 450:\n",
    "    print(\"A+\")\n",
    "elif sm>=350 and sm <450:\n",
    "    print(\"A\")\n",
    "\n",
    "\n",
    "elif sm>=250 and sm<350:\n",
    "    print(\"B+\")\n",
    "else:\n",
    "    print(\"B\")"
   ]
  },
  {
   "cell_type": "code",
   "execution_count": null,
   "id": "0005ad14",
   "metadata": {},
   "outputs": [],
   "source": [
    "def student1():\n",
    "    name= input('name :')\n",
    "maths=int(input(\"maths :\"))\n",
    "physics=int(input(\"phy :\"))\n",
    "journalism=int(input(\"jour :\"))\n",
    "psychology=int(input(\"psych :\"))\n",
    "sociology=int(input(\"socio :\"))\n",
    "sm=maths+physics+journalism+psychology+sociology\n",
    "    \n",
    "if sm>= 450:\n",
    "    print(\"A+\")\n",
    "elif sm>=350 and sm <450:\n",
    "    print(\"A\")\n",
    "\n",
    "\n",
    "elif sm>=250 and sm<350:\n",
    "    print(\"B+\")\n",
    "else:\n",
    "    print(\"B\")"
   ]
  },
  {
   "cell_type": "code",
   "execution_count": null,
   "id": "2b459ce6",
   "metadata": {},
   "outputs": [],
   "source": []
  }
 ],
 "metadata": {
  "kernelspec": {
   "display_name": "Python 3 (ipykernel)",
   "language": "python",
   "name": "python3"
  },
  "language_info": {
   "codemirror_mode": {
    "name": "ipython",
    "version": 3
   },
   "file_extension": ".py",
   "mimetype": "text/x-python",
   "name": "python",
   "nbconvert_exporter": "python",
   "pygments_lexer": "ipython3",
   "version": "3.9.12"
  }
 },
 "nbformat": 4,
 "nbformat_minor": 5
}
