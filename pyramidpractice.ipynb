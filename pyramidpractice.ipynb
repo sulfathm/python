{
 "cells": [
  {
   "cell_type": "code",
   "execution_count": 1,
   "id": "4183e784",
   "metadata": {},
   "outputs": [
    {
     "name": "stdout",
     "output_type": "stream",
     "text": [
      "* * * * * * \n",
      "* * * * * * \n",
      "* * * * * * \n",
      "* * * * * * \n",
      "* * * * * * \n",
      "* * * * * * \n"
     ]
    }
   ],
   "source": [
    "row=6\n",
    "for i in range(row):\n",
    "    for j in range(row):\n",
    "    \n",
    "        print(\"*\",end=\" \")\n",
    "    print()"
   ]
  },
  {
   "cell_type": "code",
   "execution_count": 2,
   "id": "7bd058fa",
   "metadata": {},
   "outputs": [
    {
     "name": "stdout",
     "output_type": "stream",
     "text": [
      "number of rows :6\n",
      "* * * * * * \n",
      "* * * * * * \n",
      "* * * * * * \n",
      "* * * * * * \n",
      "* * * * * * \n",
      "* * * * * * \n"
     ]
    }
   ],
   "source": [
    "row=int(input(\"number of rows :\"))\n",
    "for i in range(row):\n",
    "    for j in range(row):\n",
    "        print(\"*\",end=\" \")\n",
    "    print()"
   ]
  },
  {
   "cell_type": "code",
   "execution_count": 3,
   "id": "9593c756",
   "metadata": {},
   "outputs": [
    {
     "name": "stdout",
     "output_type": "stream",
     "text": [
      "      \n",
      "*      \n",
      "* *     \n",
      "* * *    \n",
      "* * * *   \n",
      "* * * * *  \n",
      "\n"
     ]
    }
   ],
   "source": [
    "row=6\n",
    "for i in range(row):\n",
    "    print((\"* \"*i)+\" \"*(row-i))\n",
    "print()"
   ]
  },
  {
   "cell_type": "code",
   "execution_count": 4,
   "id": "a2f77cc1",
   "metadata": {},
   "outputs": [
    {
     "name": "stdout",
     "output_type": "stream",
     "text": [
      "      \n",
      "     *\n",
      "    **\n",
      "   ***\n",
      "  ****\n",
      " *****\n",
      "\n"
     ]
    }
   ],
   "source": [
    "row=6\n",
    "for i in range(row):\n",
    "    print(\" \"*(row-i)+\"*\"*i)\n",
    "print()"
   ]
  },
  {
   "cell_type": "code",
   "execution_count": 5,
   "id": "a670a651",
   "metadata": {},
   "outputs": [
    {
     "name": "stdout",
     "output_type": "stream",
     "text": [
      "enter the number of raws :5\n",
      "\n",
      " *\n",
      " * *\n",
      " * * *\n",
      " * * * *\n",
      "\n"
     ]
    }
   ],
   "source": [
    "raw7=int(input('enter the number of raws :'))\n",
    "for i in range(raw7):\n",
    "    print(\" *\"*i)\n",
    "print()"
   ]
  },
  {
   "cell_type": "code",
   "execution_count": 6,
   "id": "29506301",
   "metadata": {},
   "outputs": [
    {
     "name": "stdout",
     "output_type": "stream",
     "text": [
      "\n",
      " *\n",
      " * *\n",
      " * * *\n",
      " * * * *\n",
      "\n"
     ]
    }
   ],
   "source": [
    "row=5\n",
    "for i in range(row):\n",
    "    print(\" *\"*i)\n",
    "print()"
   ]
  },
  {
   "cell_type": "code",
   "execution_count": 7,
   "id": "a7be3f40",
   "metadata": {},
   "outputs": [
    {
     "name": "stdout",
     "output_type": "stream",
     "text": [
      "      \n",
      "     * \n",
      "    * * \n",
      "   * * * \n",
      "  * * * * \n",
      " * * * * * \n"
     ]
    }
   ],
   "source": [
    "row=6\n",
    "for i in range(row):\n",
    "    print(\" \"*(row-i)+\"* \"*i)"
   ]
  },
  {
   "cell_type": "code",
   "execution_count": 8,
   "id": "fea67aa6",
   "metadata": {},
   "outputs": [
    {
     "name": "stdout",
     "output_type": "stream",
     "text": [
      " * * * * * \n",
      "  * * * * \n",
      "   * * * \n",
      "    * * \n",
      "     * \n",
      "      \n",
      "\n"
     ]
    }
   ],
   "source": [
    "row=6\n",
    "for i in range(row-1,-1,-1):\n",
    "    print((row-i)*\" \"+(i)*\"* \")\n",
    "print()\n",
    "    "
   ]
  },
  {
   "cell_type": "code",
   "execution_count": 9,
   "id": "eb764720",
   "metadata": {},
   "outputs": [
    {
     "name": "stdout",
     "output_type": "stream",
     "text": [
      "height :6\n",
      " * * * * * \n",
      "  * * * * \n",
      "   * * * \n",
      "    * * \n",
      "     * \n",
      "      \n",
      "\n"
     ]
    }
   ],
   "source": [
    "row=int(input(\"height :\"))\n",
    "for i in range(row-1,-1,-1):\n",
    "    print(\" \"*(row-i)+\"* \"*i)\n",
    "print()\n",
    "    "
   ]
  },
  {
   "cell_type": "code",
   "execution_count": 10,
   "id": "0a16f2c8",
   "metadata": {},
   "outputs": [
    {
     "name": "stdout",
     "output_type": "stream",
     "text": [
      "height :5\n",
      " * * * * \n",
      "  * * * \n",
      "   * * \n",
      "    * \n",
      "     \n",
      "\n"
     ]
    }
   ],
   "source": [
    "row=int(input(\"height :\"))\n",
    "for i in range(row-1,-1,-1):\n",
    "    print(\" \"*(row-i)+\"* \"*i)\n",
    "print()\n",
    "    "
   ]
  },
  {
   "cell_type": "code",
   "execution_count": 2,
   "id": "a46ca765",
   "metadata": {},
   "outputs": [
    {
     "name": "stdout",
     "output_type": "stream",
     "text": [
      "enter the number of rows :5\n",
      "* * * * * \n",
      "* * * * * \n",
      "* * * * * \n",
      "* * * * * \n",
      "* * * * * \n"
     ]
    }
   ],
   "source": [
    "num=int(input(\"enter the number of rows :\"))\n",
    "for i in range(num):\n",
    "    for j in range(num):\n",
    "        print(\"*\",end=\" \")\n",
    "    print()"
   ]
  },
  {
   "cell_type": "code",
   "execution_count": 3,
   "id": "e507b200",
   "metadata": {},
   "outputs": [
    {
     "name": "stdout",
     "output_type": "stream",
     "text": [
      "      \n",
      "     *\n",
      "    **\n",
      "   ***\n",
      "  ****\n",
      " *****\n",
      "\n"
     ]
    }
   ],
   "source": [
    "num=6\n",
    "for i in range(num):\n",
    "    print(\" \"*(num-i)+\"*\"*i)\n",
    "print()"
   ]
  },
  {
   "cell_type": "code",
   "execution_count": 4,
   "id": "0ebb2c41",
   "metadata": {},
   "outputs": [
    {
     "name": "stdout",
     "output_type": "stream",
     "text": [
      "      \n",
      "*     \n",
      "**    \n",
      "***   \n",
      "****  \n",
      "***** \n",
      "\n"
     ]
    }
   ],
   "source": [
    "num=6\n",
    "for i in range(num):\n",
    "    print(\"*\"*i+\" \"*(num-i))\n",
    "print()"
   ]
  },
  {
   "cell_type": "code",
   "execution_count": 7,
   "id": "3131e165",
   "metadata": {},
   "outputs": [
    {
     "name": "stdout",
     "output_type": "stream",
     "text": [
      "      \n",
      " *     \n",
      " * *    \n",
      " * * *   \n",
      " * * * *  \n",
      " * * * * * \n",
      "\n"
     ]
    }
   ],
   "source": [
    "num=6\n",
    "for i in range(num):\n",
    "    print(\" *\"*i+\" \"*(num-i))\n",
    "print()"
   ]
  },
  {
   "cell_type": "code",
   "execution_count": 8,
   "id": "74e059c3",
   "metadata": {},
   "outputs": [
    {
     "name": "stdout",
     "output_type": "stream",
     "text": [
      "      \n",
      "     * \n",
      "    * * \n",
      "   * * * \n",
      "  * * * * \n",
      " * * * * * \n",
      "\n"
     ]
    }
   ],
   "source": [
    "num=6\n",
    "for i in range(num):\n",
    "    print(\" \"*(num-i)+\"* \"*i)\n",
    "print()"
   ]
  },
  {
   "cell_type": "code",
   "execution_count": 11,
   "id": "c3a60a86",
   "metadata": {},
   "outputs": [
    {
     "name": "stdout",
     "output_type": "stream",
     "text": [
      " * * * * * *\n",
      " * * * * * \n",
      " * * * *  \n",
      " * * *   \n",
      " * *    \n",
      " *     \n",
      "\n"
     ]
    }
   ],
   "source": [
    "num=6\n",
    "for i in range(num):\n",
    "    print(\" *\"*(num-i)+\" \"*i)\n",
    "print()"
   ]
  },
  {
   "cell_type": "code",
   "execution_count": 15,
   "id": "ebf9938c",
   "metadata": {},
   "outputs": [
    {
     "name": "stdout",
     "output_type": "stream",
     "text": [
      "******\n",
      " *****\n",
      "  ****\n",
      "   ***\n",
      "    **\n",
      "     *\n",
      "\n"
     ]
    }
   ],
   "source": [
    "num=6\n",
    "for i in range(num):\n",
    "    print(\" \"*i+\"*\"*(num-i))\n",
    "print()"
   ]
  },
  {
   "cell_type": "code",
   "execution_count": 16,
   "id": "15f5c8ec",
   "metadata": {},
   "outputs": [
    {
     "name": "stdout",
     "output_type": "stream",
     "text": [
      "* * * * * * \n",
      " * * * * * \n",
      "  * * * * \n",
      "   * * * \n",
      "    * * \n",
      "     * \n",
      "\n"
     ]
    }
   ],
   "source": [
    "num=6\n",
    "for i in range(num):\n",
    "    print(\" \"*i+\"* \"*(num-i))\n",
    "print()"
   ]
  },
  {
   "cell_type": "code",
   "execution_count": 18,
   "id": "39cd987e",
   "metadata": {},
   "outputs": [
    {
     "name": "stdout",
     "output_type": "stream",
     "text": [
      "no of rows :6\n",
      " * * * * * *\n",
      "  * * * * *\n",
      "   * * * *\n",
      "    * * *\n",
      "     * *\n",
      "      *\n",
      "\n"
     ]
    }
   ],
   "source": [
    "num=int(input('no of rows :'))\n",
    "for i in range(num):\n",
    "    print(\" \"*i+\" *\"*(num-i))\n",
    "print()"
   ]
  },
  {
   "cell_type": "code",
   "execution_count": 22,
   "id": "21b4e8f1",
   "metadata": {},
   "outputs": [
    {
     "name": "stdout",
     "output_type": "stream",
     "text": [
      "p\n",
      "py\n",
      "pyt\n",
      "pyth\n",
      "pytho\n",
      "python\n"
     ]
    }
   ],
   "source": [
    "num=\"python\"\n",
    "l=0\n",
    "for i in num:\n",
    "    l=l+1\n",
    "    print(num[0:l])"
   ]
  },
  {
   "cell_type": "code",
   "execution_count": 23,
   "id": "007cdc2d",
   "metadata": {},
   "outputs": [
    {
     "name": "stdout",
     "output_type": "stream",
     "text": [
      "p\n",
      "py\n",
      "pyh\n",
      "pyht\n",
      "pyhto\n",
      "pyhton\n",
      "pyhto\n",
      "pyht\n",
      "pyh\n",
      "py\n",
      "p\n",
      "\n"
     ]
    }
   ],
   "source": [
    "num=\"pyhton\"\n",
    "l=0\n",
    "for i in num:\n",
    "    l=l+1\n",
    "    print(num[0:l])\n",
    "for i in num:\n",
    "    l=l-1\n",
    "    print(num[0:l])"
   ]
  },
  {
   "cell_type": "code",
   "execution_count": 27,
   "id": "c8293473",
   "metadata": {},
   "outputs": [
    {
     "name": "stdout",
     "output_type": "stream",
     "text": [
      "a\n",
      "ab\n",
      "abc\n",
      "abcd\n",
      "abcde\n",
      "abcdef\n",
      "abcde\n",
      "abcd\n",
      "abc\n",
      "ab\n",
      "a\n",
      "\n"
     ]
    }
   ],
   "source": [
    "num=\"abcdef\"\n",
    "l=0\n",
    "for i in num:\n",
    "    l=l+1\n",
    "    print(num[0:l])\n",
    "for i in num:\n",
    "    l=l-1\n",
    "    print(num[0:l])"
   ]
  },
  {
   "cell_type": "code",
   "execution_count": 44,
   "id": "b1ee778d",
   "metadata": {},
   "outputs": [
    {
     "name": "stdout",
     "output_type": "stream",
     "text": [
      "height :5\n",
      "     *\n",
      "    **\n",
      "   ***\n",
      "  ****\n",
      " *****\n",
      "  ****\n",
      "   ***\n",
      "    **\n",
      "     *\n"
     ]
    }
   ],
   "source": [
    "h=eval(input(\"height :\"))\n",
    "for i in range(h):\n",
    "    print(\" \"*(h-i)+\"*\"*(i+1))\n",
    "for i in range(h-2,-1,-1):\n",
    "    print(\" \"*(h-i)+\"*\"*(i+1))"
   ]
  },
  {
   "cell_type": "code",
   "execution_count": 38,
   "id": "eccc83f8",
   "metadata": {},
   "outputs": [
    {
     "name": "stdout",
     "output_type": "stream",
     "text": [
      "height :5\n",
      "      *\n",
      "     ***\n",
      "    *****\n",
      "   *******\n",
      "  *********\n",
      "   *******\n",
      "    *****\n",
      "     ***\n",
      "      *\n"
     ]
    }
   ],
   "source": [
    "h=eval(input('height :'))\n",
    "for x in range(h):\n",
    "    print(\" \"*(h-x),\"*\"*(2*x+1))\n",
    "for x in range(h-2,-1,-1):\n",
    "    print(\" \"*(h-x),\"*\"*(2*x+1))"
   ]
  },
  {
   "cell_type": "code",
   "execution_count": 45,
   "id": "6c98ff31",
   "metadata": {},
   "outputs": [
    {
     "name": "stdout",
     "output_type": "stream",
     "text": [
      "height :5\n",
      "     *\n",
      "    ***\n",
      "   *****\n",
      "  *******\n",
      " *********\n",
      "  ****\n",
      "   ***\n",
      "    **\n",
      "     *\n"
     ]
    }
   ],
   "source": [
    "h=eval(input(\"height :\"))\n",
    "for i in range(h):\n",
    "    print(\" \"*(h-i)+\"*\"*(2*i+1))\n",
    "for i in range(h-2,-1,-1):\n",
    "    print(\" \"*(h-i)+\"*\"*(i+1))"
   ]
  },
  {
   "cell_type": "code",
   "execution_count": 48,
   "id": "47d60ce0",
   "metadata": {},
   "outputs": [
    {
     "name": "stdout",
     "output_type": "stream",
     "text": [
      "      *\n",
      "\r\n",
      "     ***\n",
      "\r\n",
      "    *****\n",
      "\r\n",
      "   *******\n",
      "\r\n",
      "  *********\n",
      "\r\n",
      " ***********\n",
      "\r\n",
      "  *********\n",
      "\r\n",
      "   *******\n",
      "\r\n",
      "    *****\n",
      "\r\n",
      "     ***\n",
      "\r\n",
      "      *\n",
      "\r\n"
     ]
    }
   ],
   "source": [
    "y=6\n",
    "for i in range(y):\n",
    "    print(\" \"*(y-i)+\"*\"*(2*i+1))\n",
    "    print(\"\\r\")\n",
    "for i in range(y-2,-1,-1):\n",
    "    print(\" \"*(y-i)+\"*\"*(2*i+1))\n",
    "    print(\"\\r\")"
   ]
  },
  {
   "cell_type": "code",
   "execution_count": 55,
   "id": "69235876",
   "metadata": {},
   "outputs": [
    {
     "name": "stdout",
     "output_type": "stream",
     "text": [
      "                         python\n",
      "                    pythonpythonpython\n",
      "               pythonpythonpythonpythonpython\n",
      "          pythonpythonpythonpythonpythonpythonpython\n",
      "     pythonpythonpythonpythonpythonpythonpythonpythonpython\n",
      "          pythonpythonpythonpythonpythonpythonpython\n",
      "               pythonpythonpythonpythonpython\n",
      "                    pythonpythonpython\n",
      "                         python\n"
     ]
    }
   ],
   "source": [
    "h=5\n",
    "for i in range(h):\n",
    "    print(\"     \"*(h-i)+\"python\"*(2*i+1))\n",
    "for i in range(h-2,-1,-1):\n",
    "    print(\"     \"*(h-i)+\"python\"*(2*i+1))\n"
   ]
  },
  {
   "cell_type": "code",
   "execution_count": 56,
   "id": "23a41210",
   "metadata": {},
   "outputs": [
    {
     "name": "stdout",
     "output_type": "stream",
     "text": [
      "                         python\n",
      "\r\n",
      "                    pythonpythonpython\n",
      "\r\n",
      "               pythonpythonpythonpythonpython\n",
      "\r\n",
      "          pythonpythonpythonpythonpythonpythonpython\n",
      "\r\n",
      "     pythonpythonpythonpythonpythonpythonpythonpythonpython\n",
      "\r\n",
      "          pythonpythonpythonpythonpythonpythonpython\n",
      "\r\n",
      "               pythonpythonpythonpythonpython\n",
      "\r\n",
      "                    pythonpythonpython\n",
      "\r\n",
      "                         python\n",
      "\r\n"
     ]
    }
   ],
   "source": [
    "h=5\n",
    "for i in range(h):\n",
    "    print(\"     \"*(h-i)+\"python\"*(2*i+1))\n",
    "    print(\"\\r\")\n",
    "for i in range(h-2,-1,-1):\n",
    "    print(\"     \"*(h-i)+\"python\"*(2*i+1))\n",
    "    print(\"\\r\")\n"
   ]
  },
  {
   "cell_type": "code",
   "execution_count": 59,
   "id": "2d19c7f0",
   "metadata": {},
   "outputs": [
    {
     "name": "stdout",
     "output_type": "stream",
     "text": [
      "               cat\n",
      "\r\n",
      "            catcatcat\n",
      "\r\n",
      "         catcatcatcatcat\n",
      "\r\n",
      "      catcatcatcatcatcatcat\n",
      "\r\n",
      "   catcatcatcatcatcatcatcatcat\n",
      "\r\n",
      "      catcatcatcatcatcatcat\n",
      "\r\n",
      "         catcatcatcatcat\n",
      "\r\n",
      "            catcatcat\n",
      "\r\n",
      "               cat\n",
      "\r\n"
     ]
    }
   ],
   "source": [
    "h=5\n",
    "for i in range(h):\n",
    "    print(\"   \"*(h-i)+\"cat\"*(2*i+1))\n",
    "    print(\"\\r\")\n",
    "for i in range(h-2,-1,-1):\n",
    "    print(\"   \"*(h-i)+\"cat\"*(2*i+1))\n",
    "    print(\"\\r\")\n"
   ]
  },
  {
   "cell_type": "code",
   "execution_count": 60,
   "id": "f8bee234",
   "metadata": {},
   "outputs": [
    {
     "name": "stdout",
     "output_type": "stream",
     "text": [
      "enter your string :python\n",
      "     p \n",
      "    p y \n",
      "   p y t \n",
      "  p y t h \n",
      " p y t h o \n",
      "p y t h o n \n"
     ]
    }
   ],
   "source": [
    "string=input(\"enter your string :\")\n",
    "length=len(string)\n",
    "for i in range(length):\n",
    "    for j in range(length-i-1):\n",
    "        print(\"\",end=\" \")\n",
    "    for j in range(i+1):\n",
    "        print(string[j],end=\" \")\n",
    "    print()"
   ]
  },
  {
   "cell_type": "code",
   "execution_count": 61,
   "id": "46c78a5e",
   "metadata": {},
   "outputs": [
    {
     "name": "stdout",
     "output_type": "stream",
     "text": [
      "     p \n",
      "    p y \n",
      "   p y t \n",
      "  p y t h \n",
      " p y t h o \n",
      "p y t h o n \n"
     ]
    }
   ],
   "source": [
    "string=\"python\"\n",
    "length=len(string)\n",
    "for i in range(length):\n",
    "    for j in range(length-1-i):\n",
    "        print(\"\",end=\" \")\n",
    "    for j in range(i+1):\n",
    "        print(string[j],end=\" \")\n",
    "    print()\n"
   ]
  },
  {
   "cell_type": "code",
   "execution_count": 62,
   "id": "be5c74ab",
   "metadata": {},
   "outputs": [
    {
     "name": "stdout",
     "output_type": "stream",
     "text": [
      " p y t h o \n",
      "  p y t h \n",
      "   p y t \n",
      "    p y \n",
      "     p \n",
      "      \n"
     ]
    }
   ],
   "source": [
    "string=\"python\"\n",
    "length=len(string)\n",
    "for i in range(length):\n",
    "    for j in range(i+1):\n",
    "        print(\"\",end=\" \")\n",
    "    for j in range(length-1-i):\n",
    "        print(string[j],end=\" \")\n",
    "    print()"
   ]
  },
  {
   "cell_type": "code",
   "execution_count": 63,
   "id": "2b92d7c8",
   "metadata": {},
   "outputs": [
    {
     "name": "stdout",
     "output_type": "stream",
     "text": [
      "     p \n",
      "    p y \n",
      "   p y t \n",
      "  p y t h \n",
      " p y t h o \n",
      "p y t h o n \n",
      " p y t h o \n",
      "  p y t h \n",
      "   p y t \n",
      "    p y \n",
      "     p \n",
      "      \n"
     ]
    }
   ],
   "source": [
    "string=\"python\"\n",
    "length=len(string)\n",
    "for i in range(length):\n",
    "    for j in range(length-1-i):\n",
    "        print(\"\",end=\" \")\n",
    "    for j in range(i+1):\n",
    "        print(string[j],end=\" \")\n",
    "    print()\n",
    "\n",
    "for i in range(length):\n",
    "    for j in range(i+1):\n",
    "        print(\"\",end=\" \")\n",
    "    for j in range(length-1-i):\n",
    "        print(string[j],end=\" \")\n",
    "    print()\n"
   ]
  },
  {
   "cell_type": "code",
   "execution_count": 67,
   "id": "0c41356e",
   "metadata": {},
   "outputs": [
    {
     "name": "stdout",
     "output_type": "stream",
     "text": [
      "     p \n",
      "    p y \n",
      "   p y t \n",
      "  p y t h \n",
      " p y t h o \n",
      "p y t h o n \n",
      "p y t h o \n",
      " p y t h \n",
      "  p y t \n",
      "   p y \n",
      "    p \n",
      "     \n"
     ]
    }
   ],
   "source": [
    "string=\"python\"\n",
    "length=len(string)\n",
    "for i in range(length):\n",
    "    for j in range(length-1-i):\n",
    "        print(\"\",end=\" \")\n",
    "    for j in range(i+1):\n",
    "        print(string[j],end=\" \")\n",
    "    print()\n",
    "for i in range(length):\n",
    "    for j in range(length+i-length):\n",
    "        print(\"\",end=\" \")\n",
    "    for j in range((length-2)-i+1):\n",
    "        print(string[j],end=\" \")\n",
    "    print()\n",
    "    \n",
    "    "
   ]
  },
  {
   "cell_type": "code",
   "execution_count": 70,
   "id": "a404ca89",
   "metadata": {},
   "outputs": [
    {
     "name": "stdout",
     "output_type": "stream",
     "text": [
      "     A \n",
      "    A B \n",
      "   A B C \n",
      "  A B C D \n",
      " A B C D E \n",
      "A B C D E F \n",
      " A B C D E \n",
      "  A B C D \n",
      "   A B C \n",
      "    A B \n",
      "     A \n",
      "      \n"
     ]
    }
   ],
   "source": [
    "string=\"ABCDEF\"\n",
    "length=len(string)\n",
    "for i in range(length):\n",
    "    for j in range(length-1-i):\n",
    "        print(\"\",end=\" \")\n",
    "    for j in range(i+1):\n",
    "        print(string[j],end=\" \")\n",
    "    print()\n",
    "\n",
    "for i in range(length):\n",
    "    for j in range(i+1):\n",
    "        print(\"\",end=\" \")\n",
    "    for j in range(length-1-i):\n",
    "        print(string[j],end=\" \")\n",
    "    print()\n"
   ]
  },
  {
   "cell_type": "code",
   "execution_count": 82,
   "id": "aafcf85e",
   "metadata": {},
   "outputs": [
    {
     "name": "stdout",
     "output_type": "stream",
     "text": [
      "0 1 2 3 4 5 \n",
      "0 1 2 3 4 \n",
      "0 1 2 3 \n",
      "0 1 2 \n",
      "0 1 \n",
      "0 \n"
     ]
    }
   ],
   "source": [
    "row=6\n",
    "for i in range(row):\n",
    "    for j in range(i):\n",
    "        print(\"\",end=\"\")\n",
    "    for j in range(row-i):\n",
    "        print(j,end=\" \")\n",
    "    print()\n",
    "    "
   ]
  },
  {
   "cell_type": "code",
   "execution_count": 81,
   "id": "22659d37",
   "metadata": {},
   "outputs": [
    {
     "name": "stdout",
     "output_type": "stream",
     "text": [
      " 1 1 1 1 1 \n",
      "  2 2 2 2 \n",
      "   3 3 3 \n",
      "    4 4 \n",
      "     5 \n"
     ]
    }
   ],
   "source": [
    "row=6\n",
    "for i in range(1,row):\n",
    "    for j in range(i):\n",
    "        print(\" \",end=\"\")\n",
    "    for j in range(row-i):\n",
    "        print(i,end=\" \")\n",
    "    print()\n",
    "    "
   ]
  },
  {
   "cell_type": "code",
   "execution_count": 84,
   "id": "2bf866f2",
   "metadata": {},
   "outputs": [
    {
     "name": "stdout",
     "output_type": "stream",
     "text": [
      "      0 \n",
      "     1 2 \n",
      "    2 3 4 \n",
      "   3 4 5 6 \n",
      "  4 5 6 7 8 \n",
      " 5 6 7 8 9 10 \n"
     ]
    }
   ],
   "source": [
    "row=6\n",
    "for i in range(row):\n",
    "    for j in range(row-i):\n",
    "        print(\"\",end=\" \")\n",
    "    for j in range(i+1):\n",
    "        print(i+j,end=\" \")\n",
    "    print()"
   ]
  },
  {
   "cell_type": "code",
   "execution_count": 85,
   "id": "ea0cc98a",
   "metadata": {},
   "outputs": [
    {
     "name": "stdout",
     "output_type": "stream",
     "text": [
      "1 \n",
      "2 1 \n",
      "3 2 1 \n",
      "4 3 2 1 \n",
      "5 4 3 2 1 \n"
     ]
    }
   ],
   "source": [
    "row=6\n",
    "for i in range(1,row):\n",
    "    for j in range(i,0,-1):\n",
    "        print(j,end=\" \")\n",
    "    print()"
   ]
  },
  {
   "cell_type": "code",
   "execution_count": 1,
   "id": "c5682683",
   "metadata": {},
   "outputs": [
    {
     "name": "stdout",
     "output_type": "stream",
     "text": [
      "1 \n",
      "2 1 \n",
      "3 2 1 \n",
      "4 3 2 1 \n",
      "5 4 3 2 1 \n"
     ]
    }
   ],
   "source": [
    "row=6\n",
    "for i in range(1,row):\n",
    "    for j in range(i,0,-1):\n",
    "        print(j,end=\" \")\n",
    "    print()"
   ]
  },
  {
   "cell_type": "code",
   "execution_count": 2,
   "id": "c18569b0",
   "metadata": {},
   "outputs": [
    {
     "name": "stdout",
     "output_type": "stream",
     "text": [
      "enter the no.of rows :5\n",
      "        * * * * * * \n",
      "         * * * * * \n",
      "          * * * * \n",
      "           * * * \n",
      "            * * \n",
      "             * \n"
     ]
    }
   ],
   "source": [
    "rows=int(input(\"enter the no.of rows :\"))\n",
    "k=2*rows-2\n",
    "for i in range(rows,-1,-1):\n",
    "    for j in range(k,0,-1):\n",
    "        print(end=\" \")\n",
    "    k=k+1\n",
    "    for j in range(0,i+1):\n",
    "        print(\"*\",end=\" \")\n",
    "    print()"
   ]
  },
  {
   "cell_type": "code",
   "execution_count": 21,
   "id": "a4eece86",
   "metadata": {},
   "outputs": [
    {
     "name": "stdout",
     "output_type": "stream",
     "text": [
      "enter the no.of rows :6\n",
      "* * * * * * \n",
      " * * * * * \n",
      "  * * * * \n",
      "   * * * \n",
      "    * * \n",
      "     * \n",
      "\n"
     ]
    }
   ],
   "source": [
    "rows=int(input(\"enter the no.of rows :\"))\n",
    "for i in range(rows):\n",
    "    print(\" \"*i+\"* \"*(rows-i))\n",
    "print()"
   ]
  },
  {
   "cell_type": "code",
   "execution_count": 12,
   "id": "33052d61",
   "metadata": {},
   "outputs": [
    {
     "name": "stdout",
     "output_type": "stream",
     "text": [
      "2 \n",
      "4 2 \n",
      "6 4 2 \n",
      "8 6 4 2 \n",
      "10 8 6 4 2 \n"
     ]
    }
   ],
   "source": [
    "for i in range(1,11):\n",
    "    if i%2==0:\n",
    "        for j in range(i,0,-2):\n",
    "            print(j,end=\" \")\n",
    "        print()"
   ]
  },
  {
   "cell_type": "code",
   "execution_count": 14,
   "id": "2f17e57f",
   "metadata": {},
   "outputs": [
    {
     "name": "stdout",
     "output_type": "stream",
     "text": [
      "2 \n",
      "4 2 \n",
      "6 4 2 \n",
      "8 6 4 2 \n",
      "10 8 6 4 2 \n"
     ]
    }
   ],
   "source": [
    "for i in range(1,11):\n",
    "    if i%2==0:\n",
    "        for j in range(i,0,-2):\n",
    "            print(j,end=\" \")\n",
    "        print()"
   ]
  },
  {
   "cell_type": "code",
   "execution_count": 19,
   "id": "bade98e6",
   "metadata": {},
   "outputs": [
    {
     "name": "stdout",
     "output_type": "stream",
     "text": [
      "2 \n",
      "4 2 \n",
      "6 4 2 \n",
      "8 6 4 2 \n",
      "10 8 6 4 2 \n"
     ]
    }
   ],
   "source": [
    "for i in range(1,11):\n",
    "    if i%2==0:\n",
    "        for j in range(i,0,-2):\n",
    "            print(j,end=\" \")\n",
    "        print()"
   ]
  },
  {
   "cell_type": "code",
   "execution_count": null,
   "id": "adc5cca4",
   "metadata": {},
   "outputs": [],
   "source": []
  }
 ],
 "metadata": {
  "kernelspec": {
   "display_name": "Python 3 (ipykernel)",
   "language": "python",
   "name": "python3"
  },
  "language_info": {
   "codemirror_mode": {
    "name": "ipython",
    "version": 3
   },
   "file_extension": ".py",
   "mimetype": "text/x-python",
   "name": "python",
   "nbconvert_exporter": "python",
   "pygments_lexer": "ipython3",
   "version": "3.9.12"
  }
 },
 "nbformat": 4,
 "nbformat_minor": 5
}
