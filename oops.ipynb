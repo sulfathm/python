{
 "cells": [
  {
   "cell_type": "code",
   "execution_count": 4,
   "id": "be9564e3",
   "metadata": {},
   "outputs": [
    {
     "name": "stdout",
     "output_type": "stream",
     "text": [
      "22\n"
     ]
    }
   ],
   "source": [
    "class Add:\n",
    "    a=10\n",
    "    b=12\n",
    "    def add(self):\n",
    "        print(self.a+self.b)\n",
    "a=Add()\n",
    "a.add()\n",
    "    \n",
    "    "
   ]
  },
  {
   "cell_type": "code",
   "execution_count": 25,
   "id": "0e90d780",
   "metadata": {},
   "outputs": [
    {
     "name": "stdout",
     "output_type": "stream",
     "text": [
      "15\n",
      "addition is simple\n"
     ]
    }
   ],
   "source": [
    "class example:\n",
    "    def __init__(self,a,b):\n",
    "        self.a=a\n",
    "        self.b=b\n",
    "    def display(self):\n",
    "        print(self.a+self.b)\n",
    "    def view (self,msg):\n",
    "        print(msg)\n",
    "obj=example(10,5)\n",
    "obj.display()\n",
    "obj.view(\"addition is simple\")"
   ]
  },
  {
   "cell_type": "code",
   "execution_count": 31,
   "id": "320827d4",
   "metadata": {},
   "outputs": [
    {
     "name": "stdout",
     "output_type": "stream",
     "text": [
      "liya kurunthodi 20\n",
      "mescollege\n"
     ]
    }
   ],
   "source": [
    "class student:\n",
    "    def __init__(self,name,address,age):\n",
    "        self.a=name\n",
    "        self.b=address\n",
    "        self.c=age\n",
    "    def display(self):\n",
    "        print(self.a,self.b,self.c)\n",
    "    def extra(self,collegename):\n",
    "        print(collegename)\n",
    "obj=student(\"liya\",\"kurunthodi\",20)\n",
    "obj.display()\n",
    "obj.extra(\"mescollege\")"
   ]
  },
  {
   "cell_type": "code",
   "execution_count": 46,
   "id": "9bbf40e8",
   "metadata": {},
   "outputs": [
    {
     "name": "stdout",
     "output_type": "stream",
     "text": [
      "my name is liya\n",
      "i am coming from kurunthodi\n",
      "i am 20 year old\n",
      "mescollege\n"
     ]
    }
   ],
   "source": [
    "class student:\n",
    "    def __init__(self,name,address,age):\n",
    "        self.a=name\n",
    "        self.b=address\n",
    "        self.c=age\n",
    "\n",
    "    def display(self):\n",
    "        print(self.a)\n",
    "        print(self.b)\n",
    "        print(self.c)\n",
    "    def extra(self,collegename):\n",
    "        print(collegename)\n",
    "obj=student(\"my name is liya\",\"i am coming from kurunthodi\",\"i am 20 year old\")\n",
    "obj.display()\n",
    "obj.extra(\"mescollege\")"
   ]
  },
  {
   "cell_type": "code",
   "execution_count": 33,
   "id": "22c94c88",
   "metadata": {},
   "outputs": [
    {
     "name": "stdout",
     "output_type": "stream",
     "text": [
      "liya\n",
      "kurunthodi\n",
      "20\n",
      "mescollege\n"
     ]
    }
   ],
   "source": [
    " class student:\n",
    "    def __init__(self,name,address,age):\n",
    "        self.a=name\n",
    "        self.b=address\n",
    "        self.c=age\n",
    "    def display(self):\n",
    "        print(self.a)\n",
    "        print(self.b)\n",
    "        print(self.c)\n",
    "    def extra(self,collegename):\n",
    "        print(collegename)\n",
    "obj=student(\"liya\",\"kurunthodi\",20)\n",
    "obj.display()\n",
    "obj.extra(\"mescollege\")"
   ]
  },
  {
   "cell_type": "code",
   "execution_count": 60,
   "id": "9b9dc0df",
   "metadata": {},
   "outputs": [
    {
     "name": "stdout",
     "output_type": "stream",
     "text": [
      "my name is liya,i am coming from kurunthodi and i am 20 years old\n",
      "mescollege\n",
      "i am studying in mescollege\n"
     ]
    }
   ],
   "source": [
    " class student:\n",
    "    def __init__(self,name,address,age):\n",
    "        self.a=name\n",
    "        self.b=address\n",
    "        self.c=age\n",
    "    def display(self):\n",
    "        \n",
    "        print(\"my name is {},i am coming from {} and i am {} years old\" .format(self.a,self.b,self.c))\n",
    "    def extra(self,collegename):\n",
    "        print(collegename)\n",
    "        self.t=collegename\n",
    "        print(\"i am studying in {}\".format(self.t) )\n",
    "obj=student(\"liya\",\"kurunthodi\",20)\n",
    "obj.display()\n",
    "obj.extra(\"mescollege\")"
   ]
  },
  {
   "cell_type": "code",
   "execution_count": 66,
   "id": "a1e998d9",
   "metadata": {},
   "outputs": [
    {
     "name": "stdout",
     "output_type": "stream",
     "text": [
      "name is liya, roll number is MBATEFERR37,and studying in mes college\n",
      "20 years old\n",
      "totel mark 80\n"
     ]
    }
   ],
   "source": [
    "class student:\n",
    "    def __init__(self,name,rollnumber,school):\n",
    "        self.a=name\n",
    "        self.b=rollnumber\n",
    "        self.c=school\n",
    "    def display(self):\n",
    "        print(\"name is {}, roll number is {},and studying in {}\".format(self.a,self.b,self.c))\n",
    "    def setAge(self,age):\n",
    "        \n",
    "        self.d=age\n",
    "        \n",
    "        print(\"{} years old\".format(self.d))\n",
    "    def setMark(self,mark):\n",
    "        \n",
    "        self.e=mark\n",
    "        print(\"totel mark {}\".format(self.e))\n",
    "obj=student(\"liya\",\"MBATEFERR37\",\"mes college\")\n",
    "obj.display()\n",
    "obj.setAge(20)\n",
    "obj.setMark(80)\n",
    "        "
   ]
  },
  {
   "cell_type": "code",
   "execution_count": 15,
   "id": "f7c6a1f0",
   "metadata": {},
   "outputs": [
    {
     "name": "stdout",
     "output_type": "stream",
     "text": [
      "160\n",
      "26\n",
      "-6\n",
      "10\n"
     ]
    }
   ],
   "source": [
    "#calculator\n",
    "class student:\n",
    "    def __init__(self,a,b):\n",
    "        self.a=a\n",
    "        self.b=b\n",
    "    def addition (self):\n",
    "        print(self.a*self.b)\n",
    "        print(self.a+self.b)\n",
    "        print(self.a-self.b)\n",
    "        print(self.a%self.b)\n",
    "obj=student(10,16)\n",
    "obj.addition()\n"
   ]
  },
  {
   "cell_type": "code",
   "execution_count": 5,
   "id": "d5e67dc3",
   "metadata": {},
   "outputs": [
    {
     "name": "stdout",
     "output_type": "stream",
     "text": [
      "rajeevan\n",
      "kuttyadi\n"
     ]
    }
   ],
   "source": [
    "class employer:\n",
    "    def __init__(self,c,d):\n",
    "        self.c=c\n",
    "        self.d=d\n",
    "    def address (self):\n",
    "        print(self.c)\n",
    "        print(self.d)\n",
    "obj=employer(\"rajeevan\",\"kuttyadi\")\n",
    "obj.address()"
   ]
  },
  {
   "cell_type": "code",
   "execution_count": 8,
   "id": "29540bbc",
   "metadata": {},
   "outputs": [
    {
     "name": "stdout",
     "output_type": "stream",
     "text": [
      "28.26\n"
     ]
    }
   ],
   "source": [
    "#area of circle\n",
    "class circle:\n",
    "    def __init__(self,r):\n",
    "        self.r=r\n",
    "    def area (self):\n",
    "        print(3.14*self.r**2)\n",
    "obj=circle(3)\n",
    "obj.area()\n",
    "        "
   ]
  },
  {
   "cell_type": "code",
   "execution_count": 9,
   "id": "04d48aca",
   "metadata": {},
   "outputs": [
    {
     "name": "stdout",
     "output_type": "stream",
     "text": [
      "30\n"
     ]
    }
   ],
   "source": [
    "#area of rectangle\n",
    "class rectangle:\n",
    "    def __init__(self,length,width):\n",
    "        self.length=length\n",
    "        self.width=width\n",
    "    def area (self):\n",
    "        print(self.length*self.width)\n",
    "obj=rectangle(5,6)\n",
    "obj.area()"
   ]
  },
  {
   "cell_type": "code",
   "execution_count": 17,
   "id": "a47bade9",
   "metadata": {},
   "outputs": [
    {
     "name": "stdout",
     "output_type": "stream",
     "text": [
      "enter your namesulfath\n",
      "sulfath\n"
     ]
    }
   ],
   "source": [
    "class string:\n",
    "    def __init__(self):\n",
    "        self.string=\"\"\n",
    "    def check(self):\n",
    "        self.string=input(\"enter your name\")\n",
    "    def disply (self):\n",
    "        print(self.string)\n",
    "obj=string()\n",
    "obj.check()\n",
    "obj.disply()"
   ]
  },
  {
   "cell_type": "code",
   "execution_count": 26,
   "id": "45ee5b84",
   "metadata": {},
   "outputs": [
    {
     "name": "stdout",
     "output_type": "stream",
     "text": [
      "enter your namejayalakshmi\n",
      "jayalakshmi\n"
     ]
    }
   ],
   "source": [
    "class string:\n",
    "    def __init__(self):\n",
    "        self.string=\"\"\n",
    "    def check(self):\n",
    "        self.string=input(\"enter your name :\")\n",
    "    def disply (self):\n",
    "        print(self.string)\n",
    "obj=string()\n",
    "obj.check()\n",
    "obj.disply()"
   ]
  },
  {
   "cell_type": "code",
   "execution_count": 5,
   "id": "9eab3e34",
   "metadata": {},
   "outputs": [
    {
     "name": "stdout",
     "output_type": "stream",
     "text": [
      "i am chimburabbit.\n",
      "I was walking on the road.\n",
      "Then i met my friend.\n",
      "Then we laughed a lot.\n"
     ]
    }
   ],
   "source": [
    "class animal:\n",
    "    def __init__(self,name):\n",
    "        self.name=name\n",
    "    def disply (self):\n",
    "        print( \"i am {}.\".format(self.name) )\n",
    "    def function (self,walk):\n",
    "        \n",
    "        print(\"I was {}ing on the road.\".format (walk))\n",
    "    def friend (self,friend):\n",
    "        \n",
    "        print(\"Then i met my {}.\".format(friend))\n",
    "    def extra (self,laugh):\n",
    "        \n",
    "        print(\"Then we {}ed a lot.\".format(laugh))\n",
    "obj=animal(\"chimburabbit\")\n",
    "obj.disply()\n",
    "obj.function(\"walk\")\n",
    "obj.friend(\"friend\")\n",
    "obj.extra(\"laugh\")"
   ]
  },
  {
   "cell_type": "code",
   "execution_count": 18,
   "id": "0b22eec3",
   "metadata": {},
   "outputs": [
    {
     "name": "stdout",
     "output_type": "stream",
     "text": [
      "parrot is ready\n",
      "bird is ready\n",
      "parrot can fly\n",
      "parrot can't run\n"
     ]
    }
   ],
   "source": [
    "#inheritance\n",
    "class bird:\n",
    "    def __init__(self):\n",
    "        print(\"bird is ready\")\n",
    "    def fly(self):\n",
    "        print(\"bird can fly\")\n",
    "    def swim(self):\n",
    "        print(\"bird can't swim\")\n",
    "class parrot (bird):\n",
    "    def __init__(self):\n",
    "        print(\"parrot is ready\")\n",
    "        super().__init__()\n",
    "    def fly(self):\n",
    "        print(\"parrot can fly\")\n",
    "    def run(self):\n",
    "        print(\"parrot can't run\")\n",
    "obj=parrot()\n",
    "obj.fly()\n",
    "\n",
    "obj.run()\n",
    "    "
   ]
  },
  {
   "cell_type": "code",
   "execution_count": 7,
   "id": "13000567",
   "metadata": {},
   "outputs": [
    {
     "name": "stdout",
     "output_type": "stream",
     "text": [
      "bird is ready\n",
      "bird can fly\n",
      "bird can't swim\n"
     ]
    },
    {
     "ename": "AttributeError",
     "evalue": "'bird' object has no attribute 'run'",
     "output_type": "error",
     "traceback": [
      "\u001b[1;31m---------------------------------------------------------------------------\u001b[0m",
      "\u001b[1;31mAttributeError\u001b[0m                            Traceback (most recent call last)",
      "Input \u001b[1;32mIn [7]\u001b[0m, in \u001b[0;36m<cell line: 18>\u001b[1;34m()\u001b[0m\n\u001b[0;32m     16\u001b[0m obj\u001b[38;5;241m.\u001b[39mfly()\n\u001b[0;32m     17\u001b[0m obj\u001b[38;5;241m.\u001b[39mswim()\n\u001b[1;32m---> 18\u001b[0m \u001b[43mobj\u001b[49m\u001b[38;5;241;43m.\u001b[39;49m\u001b[43mrun\u001b[49m()\n",
      "\u001b[1;31mAttributeError\u001b[0m: 'bird' object has no attribute 'run'"
     ]
    }
   ],
   "source": [
    "class bird:\n",
    "    def __init__(self):\n",
    "        print(\"bird is ready\")\n",
    "    def fly(self):\n",
    "        print(\"bird can fly\")\n",
    "    def swim(self):\n",
    "        print(\"bird can't swim\")\n",
    "class parrot (bird):\n",
    "    def __init__(self):\n",
    "        print(\"parrot is ready\")\n",
    "    def fly(self):\n",
    "        print(\"parrot can fly\")\n",
    "    def run(self):\n",
    "        print(\"parrot can't run\")\n",
    "obj=bird()\n",
    "obj.fly()\n",
    "obj.swim()\n",
    "obj.run()\n",
    "    "
   ]
  },
  {
   "cell_type": "code",
   "execution_count": 12,
   "id": "7180bbc4",
   "metadata": {},
   "outputs": [
    {
     "name": "stdout",
     "output_type": "stream",
     "text": [
      "Meera is school leader.\n",
      "There are so many students.\n",
      "All stuedents are studying well.\n",
      "So they got good marks.\n",
      "Meera is one of the best extra talented student.\n"
     ]
    }
   ],
   "source": [
    "class student:\n",
    "    def __init__(self):\n",
    "        print(\"There are so many students.\")\n",
    "    def study(self):\n",
    "        print(\"All stuedents are studying well.\")\n",
    "    def mark(self):\n",
    "        print(\"So they got good marks.\")\n",
    "class meera(student):\n",
    "    def __init__(Self):\n",
    "        print(\"Meera is school leader.\")\n",
    "        super().__init__()\n",
    "    def sing(self):\n",
    "        print(\"Meera is one of the best extra talented student.\")\n",
    "obj=meera()\n",
    "obj.study()\n",
    "obj.mark()\n",
    "obj.sing()"
   ]
  },
  {
   "cell_type": "code",
   "execution_count": 17,
   "id": "0b822feb",
   "metadata": {},
   "outputs": [
    {
     "name": "stdout",
     "output_type": "stream",
     "text": [
      "Meera is school leader.\n",
      "There are so many students.\n",
      "Meera is one of the best extra talented student.\n"
     ]
    }
   ],
   "source": [
    "class student:\n",
    "    def __init__(self):\n",
    "        print(\"There are so many students.\")\n",
    "    def study(self):\n",
    "        print(\"All stuedents are studying well.\")\n",
    "    def mark(self):\n",
    "        print(\"So they got good marks.\")\n",
    "class meera(student):\n",
    "    def __init__(Self):\n",
    "        print(\"Meera is school leader.\")\n",
    "        super().__init__()\n",
    "        \n",
    "    def sing(self):\n",
    "        print(\"Meera is one of the best extra talented student.\")\n",
    "obj=meera()\n",
    "obj.sing()"
   ]
  },
  {
   "cell_type": "code",
   "execution_count": 19,
   "id": "ec0b6147",
   "metadata": {},
   "outputs": [],
   "source": [
    "#trello task\n",
    "class vehicle:\n",
    "    pass"
   ]
  },
  {
   "cell_type": "code",
   "execution_count": 24,
   "id": "436d69b3",
   "metadata": {},
   "outputs": [
    {
     "name": "stdout",
     "output_type": "stream",
     "text": [
      "Bus is one of the useful vehicle.\n",
      "There are many types of vehicles.\n",
      "A vehicle must have fuel to run.\n",
      "We can save our energy while travel by vehicle instead of walking.\n",
      "Most of the people use bus for daily travel.\n"
     ]
    }
   ],
   "source": [
    "class vehicle:\n",
    "    def __init__(self):\n",
    "        print(\"There are many types of vehicles.\")\n",
    "    def fuel(self):\n",
    "        print(\"A vehicle must have fuel to run.\")\n",
    "    def energy(self):\n",
    "        print(\"We can save our energy while travel by vehicle instead of walking.\")\n",
    "class bus(vehicle):\n",
    "    def __init__(self):\n",
    "        print(\"Bus is one of the useful vehicle.\")\n",
    "        super().__init__()\n",
    "    def use(self):\n",
    "        print(\"Most of the people use bus for daily travel.\")\n",
    "obj=bus()\n",
    "obj.fuel()\n",
    "obj.energy()\n",
    "obj.use()\n"
   ]
  },
  {
   "cell_type": "code",
   "execution_count": 44,
   "id": "4fdd4931",
   "metadata": {},
   "outputs": [
    {
     "name": "stdout",
     "output_type": "stream",
     "text": [
      "Bus is one of the useful vehicle.\n",
      "There are many types of vehicles.\n",
      "50\n"
     ]
    }
   ],
   "source": [
    "class vehicle:\n",
    "    def __init__(self):\n",
    "        print(\"There are many types of vehicles.\")\n",
    "    def fuel(self):\n",
    "        print(\"A vehicle must have fuel to run.\")\n",
    "    def energy(self):\n",
    "        print(\"We can save our energy while travel by vehicle instead of walking.\")\n",
    "class bus(vehicle):\n",
    "    def __init__(self):\n",
    "        print(\"Bus is one of the useful vehicle.\")\n",
    "        super().__init__()\n",
    "    def use(self):\n",
    "        print(\"Most of the people use bus for daily travel.\")\n",
    "    def seat(self,seating_capacity=50):\n",
    "        print(seating_capacity)\n",
    "    \n",
    "obj=bus()\n",
    "obj.seat()"
   ]
  },
  {
   "cell_type": "code",
   "execution_count": 60,
   "id": "989bf890",
   "metadata": {},
   "outputs": [
    {
     "name": "stdout",
     "output_type": "stream",
     "text": [
      "schoolbus is one of among them.\n",
      "False\n"
     ]
    }
   ],
   "source": [
    "class vehicle:\n",
    "    def __init___(self):\n",
    "        print(\"there are many types of vehicles.\")\n",
    "    def fuel(self):\n",
    "        print(\"A vehicle must have fuel to run.\")\n",
    "class schoolbus(vehicle):\n",
    "    def __init__(self):\n",
    "        print(\"schoolbus is one of among them.\")\n",
    "    def fuel(self):\n",
    "        print(\"A vehicle must have fuel to run.\")\n",
    "obj=schoolbus()\n",
    "print(isinstance(vehicle,schoolbus))\n",
    "\n",
    "\n",
    "    "
   ]
  },
  {
   "cell_type": "code",
   "execution_count": 61,
   "id": "97ef92ac",
   "metadata": {},
   "outputs": [
    {
     "data": {
      "text/plain": [
       "__main__.schoolbus"
      ]
     },
     "execution_count": 61,
     "metadata": {},
     "output_type": "execute_result"
    }
   ],
   "source": [
    "type(obj)"
   ]
  },
  {
   "cell_type": "code",
   "execution_count": null,
   "id": "ef13d5e4",
   "metadata": {},
   "outputs": [],
   "source": []
  }
 ],
 "metadata": {
  "kernelspec": {
   "display_name": "Python 3 (ipykernel)",
   "language": "python",
   "name": "python3"
  },
  "language_info": {
   "codemirror_mode": {
    "name": "ipython",
    "version": 3
   },
   "file_extension": ".py",
   "mimetype": "text/x-python",
   "name": "python",
   "nbconvert_exporter": "python",
   "pygments_lexer": "ipython3",
   "version": "3.9.12"
  }
 },
 "nbformat": 4,
 "nbformat_minor": 5
}
